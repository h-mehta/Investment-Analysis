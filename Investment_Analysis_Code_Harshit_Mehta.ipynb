{
 "cells": [
  {
   "cell_type": "code",
   "execution_count": 2,
   "metadata": {},
   "outputs": [],
   "source": [
    "#loading libararies and reading the data\n",
    "\n",
    "import numpy as np\n",
    "import pandas as pd\n",
    "import re\n",
    "\n",
    "mapping_df = pd.read_csv(\"mapping.csv\")\n",
    "rounds2_df = pd.read_csv(\"rounds2.csv\", encoding = 'palmos')\n",
    "companies_df = pd.read_csv(\"companies.txt\",delimiter=\"\\t\", encoding = 'palmos')"
   ]
  },
  {
   "cell_type": "code",
   "execution_count": 3,
   "metadata": {
    "scrolled": false
   },
   "outputs": [
    {
     "data": {
      "text/html": [
       "<div>\n",
       "<style scoped>\n",
       "    .dataframe tbody tr th:only-of-type {\n",
       "        vertical-align: middle;\n",
       "    }\n",
       "\n",
       "    .dataframe tbody tr th {\n",
       "        vertical-align: top;\n",
       "    }\n",
       "\n",
       "    .dataframe thead th {\n",
       "        text-align: right;\n",
       "    }\n",
       "</style>\n",
       "<table border=\"1\" class=\"dataframe\">\n",
       "  <thead>\n",
       "    <tr style=\"text-align: right;\">\n",
       "      <th></th>\n",
       "      <th>permalink</th>\n",
       "      <th>name</th>\n",
       "      <th>homepage_url</th>\n",
       "      <th>category_list</th>\n",
       "      <th>status</th>\n",
       "      <th>country_code</th>\n",
       "      <th>state_code</th>\n",
       "      <th>region</th>\n",
       "      <th>city</th>\n",
       "      <th>founded_at</th>\n",
       "    </tr>\n",
       "  </thead>\n",
       "  <tbody>\n",
       "    <tr>\n",
       "      <th>0</th>\n",
       "      <td>/Organization/-Fame</td>\n",
       "      <td>#fame</td>\n",
       "      <td>http://livfame.com</td>\n",
       "      <td>Media</td>\n",
       "      <td>operating</td>\n",
       "      <td>IND</td>\n",
       "      <td>16</td>\n",
       "      <td>Mumbai</td>\n",
       "      <td>Mumbai</td>\n",
       "      <td>NaN</td>\n",
       "    </tr>\n",
       "    <tr>\n",
       "      <th>1</th>\n",
       "      <td>/Organization/-Qounter</td>\n",
       "      <td>:Qounter</td>\n",
       "      <td>http://www.qounter.com</td>\n",
       "      <td>Application Platforms|Real Time|Social Network...</td>\n",
       "      <td>operating</td>\n",
       "      <td>USA</td>\n",
       "      <td>DE</td>\n",
       "      <td>DE - Other</td>\n",
       "      <td>Delaware City</td>\n",
       "      <td>04-09-2014</td>\n",
       "    </tr>\n",
       "    <tr>\n",
       "      <th>2</th>\n",
       "      <td>/Organization/-The-One-Of-Them-Inc-</td>\n",
       "      <td>(THE) ONE of THEM,Inc.</td>\n",
       "      <td>http://oneofthem.jp</td>\n",
       "      <td>Apps|Games|Mobile</td>\n",
       "      <td>operating</td>\n",
       "      <td>NaN</td>\n",
       "      <td>NaN</td>\n",
       "      <td>NaN</td>\n",
       "      <td>NaN</td>\n",
       "      <td>NaN</td>\n",
       "    </tr>\n",
       "    <tr>\n",
       "      <th>3</th>\n",
       "      <td>/Organization/0-6-Com</td>\n",
       "      <td>0-6.com</td>\n",
       "      <td>http://www.0-6.com</td>\n",
       "      <td>Curated Web</td>\n",
       "      <td>operating</td>\n",
       "      <td>CHN</td>\n",
       "      <td>22</td>\n",
       "      <td>Beijing</td>\n",
       "      <td>Beijing</td>\n",
       "      <td>01-01-2007</td>\n",
       "    </tr>\n",
       "    <tr>\n",
       "      <th>4</th>\n",
       "      <td>/Organization/004-Technologies</td>\n",
       "      <td>004 Technologies</td>\n",
       "      <td>http://004gmbh.de/en/004-interact</td>\n",
       "      <td>Software</td>\n",
       "      <td>operating</td>\n",
       "      <td>USA</td>\n",
       "      <td>IL</td>\n",
       "      <td>Springfield, Illinois</td>\n",
       "      <td>Champaign</td>\n",
       "      <td>01-01-2010</td>\n",
       "    </tr>\n",
       "  </tbody>\n",
       "</table>\n",
       "</div>"
      ],
      "text/plain": [
       "                             permalink                    name  \\\n",
       "0                  /Organization/-Fame                   #fame   \n",
       "1               /Organization/-Qounter                :Qounter   \n",
       "2  /Organization/-The-One-Of-Them-Inc-  (THE) ONE of THEM,Inc.   \n",
       "3                /Organization/0-6-Com                 0-6.com   \n",
       "4       /Organization/004-Technologies        004 Technologies   \n",
       "\n",
       "                        homepage_url  \\\n",
       "0                 http://livfame.com   \n",
       "1             http://www.qounter.com   \n",
       "2                http://oneofthem.jp   \n",
       "3                 http://www.0-6.com   \n",
       "4  http://004gmbh.de/en/004-interact   \n",
       "\n",
       "                                       category_list     status country_code  \\\n",
       "0                                              Media  operating          IND   \n",
       "1  Application Platforms|Real Time|Social Network...  operating          USA   \n",
       "2                                  Apps|Games|Mobile  operating          NaN   \n",
       "3                                        Curated Web  operating          CHN   \n",
       "4                                           Software  operating          USA   \n",
       "\n",
       "  state_code                 region           city  founded_at  \n",
       "0         16                 Mumbai         Mumbai         NaN  \n",
       "1         DE             DE - Other  Delaware City  04-09-2014  \n",
       "2        NaN                    NaN            NaN         NaN  \n",
       "3         22                Beijing        Beijing  01-01-2007  \n",
       "4         IL  Springfield, Illinois      Champaign  01-01-2010  "
      ]
     },
     "execution_count": 3,
     "metadata": {},
     "output_type": "execute_result"
    }
   ],
   "source": [
    "companies_df.head()"
   ]
  },
  {
   "cell_type": "code",
   "execution_count": 4,
   "metadata": {},
   "outputs": [
    {
     "name": "stdout",
     "output_type": "stream",
     "text": [
      "<class 'pandas.core.frame.DataFrame'>\n",
      "RangeIndex: 66368 entries, 0 to 66367\n",
      "Data columns (total 10 columns):\n",
      "permalink        66368 non-null object\n",
      "name             66367 non-null object\n",
      "homepage_url     61310 non-null object\n",
      "category_list    63220 non-null object\n",
      "status           66368 non-null object\n",
      "country_code     59410 non-null object\n",
      "state_code       57821 non-null object\n",
      "region           58338 non-null object\n",
      "city             58340 non-null object\n",
      "founded_at       51147 non-null object\n",
      "dtypes: object(10)\n",
      "memory usage: 5.1+ MB\n"
     ]
    }
   ],
   "source": [
    "companies_df.info()"
   ]
  },
  {
   "cell_type": "code",
   "execution_count": 5,
   "metadata": {},
   "outputs": [
    {
     "data": {
      "text/html": [
       "<div>\n",
       "<style scoped>\n",
       "    .dataframe tbody tr th:only-of-type {\n",
       "        vertical-align: middle;\n",
       "    }\n",
       "\n",
       "    .dataframe tbody tr th {\n",
       "        vertical-align: top;\n",
       "    }\n",
       "\n",
       "    .dataframe thead th {\n",
       "        text-align: right;\n",
       "    }\n",
       "</style>\n",
       "<table border=\"1\" class=\"dataframe\">\n",
       "  <thead>\n",
       "    <tr style=\"text-align: right;\">\n",
       "      <th></th>\n",
       "      <th>company_permalink</th>\n",
       "      <th>funding_round_permalink</th>\n",
       "      <th>funding_round_type</th>\n",
       "      <th>funding_round_code</th>\n",
       "      <th>funded_at</th>\n",
       "      <th>raised_amount_usd</th>\n",
       "    </tr>\n",
       "  </thead>\n",
       "  <tbody>\n",
       "    <tr>\n",
       "      <th>0</th>\n",
       "      <td>/organization/-fame</td>\n",
       "      <td>/funding-round/9a01d05418af9f794eebff7ace91f638</td>\n",
       "      <td>venture</td>\n",
       "      <td>B</td>\n",
       "      <td>05-01-2015</td>\n",
       "      <td>10000000.0</td>\n",
       "    </tr>\n",
       "    <tr>\n",
       "      <th>1</th>\n",
       "      <td>/ORGANIZATION/-QOUNTER</td>\n",
       "      <td>/funding-round/22dacff496eb7acb2b901dec1dfe5633</td>\n",
       "      <td>venture</td>\n",
       "      <td>A</td>\n",
       "      <td>14-10-2014</td>\n",
       "      <td>NaN</td>\n",
       "    </tr>\n",
       "    <tr>\n",
       "      <th>2</th>\n",
       "      <td>/organization/-qounter</td>\n",
       "      <td>/funding-round/b44fbb94153f6cdef13083530bb48030</td>\n",
       "      <td>seed</td>\n",
       "      <td>NaN</td>\n",
       "      <td>01-03-2014</td>\n",
       "      <td>700000.0</td>\n",
       "    </tr>\n",
       "    <tr>\n",
       "      <th>3</th>\n",
       "      <td>/ORGANIZATION/-THE-ONE-OF-THEM-INC-</td>\n",
       "      <td>/funding-round/650b8f704416801069bb178a1418776b</td>\n",
       "      <td>venture</td>\n",
       "      <td>B</td>\n",
       "      <td>30-01-2014</td>\n",
       "      <td>3406878.0</td>\n",
       "    </tr>\n",
       "    <tr>\n",
       "      <th>4</th>\n",
       "      <td>/organization/0-6-com</td>\n",
       "      <td>/funding-round/5727accaeaa57461bd22a9bdd945382d</td>\n",
       "      <td>venture</td>\n",
       "      <td>A</td>\n",
       "      <td>19-03-2008</td>\n",
       "      <td>2000000.0</td>\n",
       "    </tr>\n",
       "  </tbody>\n",
       "</table>\n",
       "</div>"
      ],
      "text/plain": [
       "                     company_permalink  \\\n",
       "0                  /organization/-fame   \n",
       "1               /ORGANIZATION/-QOUNTER   \n",
       "2               /organization/-qounter   \n",
       "3  /ORGANIZATION/-THE-ONE-OF-THEM-INC-   \n",
       "4                /organization/0-6-com   \n",
       "\n",
       "                           funding_round_permalink funding_round_type  \\\n",
       "0  /funding-round/9a01d05418af9f794eebff7ace91f638            venture   \n",
       "1  /funding-round/22dacff496eb7acb2b901dec1dfe5633            venture   \n",
       "2  /funding-round/b44fbb94153f6cdef13083530bb48030               seed   \n",
       "3  /funding-round/650b8f704416801069bb178a1418776b            venture   \n",
       "4  /funding-round/5727accaeaa57461bd22a9bdd945382d            venture   \n",
       "\n",
       "  funding_round_code   funded_at  raised_amount_usd  \n",
       "0                  B  05-01-2015         10000000.0  \n",
       "1                  A  14-10-2014                NaN  \n",
       "2                NaN  01-03-2014           700000.0  \n",
       "3                  B  30-01-2014          3406878.0  \n",
       "4                  A  19-03-2008          2000000.0  "
      ]
     },
     "execution_count": 5,
     "metadata": {},
     "output_type": "execute_result"
    }
   ],
   "source": [
    "rounds2_df.head()"
   ]
  },
  {
   "cell_type": "code",
   "execution_count": 6,
   "metadata": {},
   "outputs": [
    {
     "name": "stdout",
     "output_type": "stream",
     "text": [
      "<class 'pandas.core.frame.DataFrame'>\n",
      "RangeIndex: 114949 entries, 0 to 114948\n",
      "Data columns (total 6 columns):\n",
      "company_permalink          114949 non-null object\n",
      "funding_round_permalink    114949 non-null object\n",
      "funding_round_type         114949 non-null object\n",
      "funding_round_code         31140 non-null object\n",
      "funded_at                  114949 non-null object\n",
      "raised_amount_usd          94959 non-null float64\n",
      "dtypes: float64(1), object(5)\n",
      "memory usage: 5.3+ MB\n"
     ]
    }
   ],
   "source": [
    "rounds2_df.info()"
   ]
  },
  {
   "cell_type": "code",
   "execution_count": 7,
   "metadata": {
    "scrolled": true
   },
   "outputs": [
    {
     "data": {
      "text/plain": [
       "(66368, 10)"
      ]
     },
     "execution_count": 7,
     "metadata": {},
     "output_type": "execute_result"
    }
   ],
   "source": [
    "# Converting permalink (unique ID) to lower case in companies df\n",
    "\n",
    "companies_df[\"permalink\"] = companies_df[\"permalink\"].apply(lambda x: x.lower())\n",
    "companies_df.shape"
   ]
  },
  {
   "cell_type": "code",
   "execution_count": 8,
   "metadata": {},
   "outputs": [
    {
     "data": {
      "text/plain": [
       "(114949, 6)"
      ]
     },
     "execution_count": 8,
     "metadata": {},
     "output_type": "execute_result"
    }
   ],
   "source": [
    "# Converting permalink (unique ID) to lower case in companies df\n",
    "\n",
    "rounds2_df[\"company_permalink\"] = rounds2_df[\"company_permalink\"].apply(lambda x: x.lower())\n",
    "rounds2_df.shape"
   ]
  },
  {
   "cell_type": "code",
   "execution_count": 9,
   "metadata": {},
   "outputs": [
    {
     "name": "stdout",
     "output_type": "stream",
     "text": [
      "66368\n"
     ]
    }
   ],
   "source": [
    "# Finding unique companies in round2 dataframe\n",
    "# Alternatively : len(rounds2_df.company_permalink.unique()) \n",
    "unique_companies_rounds = set(rounds2_df.company_permalink)\n",
    "print(len(unique_companies_rounds))"
   ]
  },
  {
   "cell_type": "code",
   "execution_count": 10,
   "metadata": {},
   "outputs": [
    {
     "name": "stdout",
     "output_type": "stream",
     "text": [
      "66368\n"
     ]
    }
   ],
   "source": [
    "# Finding unique companies in companies dataframe\n",
    "# Alternatively : len(companies_df.permalink.unique()) \n",
    "unique_companies_in_companies_df = set(companies_df.permalink)\n",
    "print(len(unique_companies_in_companies_df))"
   ]
  },
  {
   "cell_type": "code",
   "execution_count": 11,
   "metadata": {},
   "outputs": [
    {
     "name": "stdout",
     "output_type": "stream",
     "text": [
      "0\n"
     ]
    }
   ],
   "source": [
    "# companies in the rounds2 file which are not present in companies file\n",
    "set3 = unique_companies_rounds.difference(unique_companies_in_companies_df)\n",
    "print(len(set3))"
   ]
  },
  {
   "cell_type": "code",
   "execution_count": 12,
   "metadata": {},
   "outputs": [],
   "source": [
    "# Renaming the column company_permanlink of rounds to permalink\n",
    "rounds2_df.columns = ['permalink', 'funding_round_permalink', 'funding_round_type',\n",
    "       'funding_round_code', 'funded_at', 'raised_amount_usd']"
   ]
  },
  {
   "cell_type": "code",
   "execution_count": 13,
   "metadata": {},
   "outputs": [
    {
     "data": {
      "text/plain": [
       "(114949, 15)"
      ]
     },
     "execution_count": 13,
     "metadata": {},
     "output_type": "execute_result"
    }
   ],
   "source": [
    "# Merge the two data frames\n",
    "master_frame = pd.merge(companies_df, rounds2_df, how=\"inner\", on=\"permalink\")\n",
    "master_frame.shape"
   ]
  },
  {
   "cell_type": "markdown",
   "metadata": {},
   "source": [
    "## Cleaning Data"
   ]
  },
  {
   "cell_type": "code",
   "execution_count": 14,
   "metadata": {
    "scrolled": true
   },
   "outputs": [
    {
     "data": {
      "text/html": [
       "<div>\n",
       "<style scoped>\n",
       "    .dataframe tbody tr th:only-of-type {\n",
       "        vertical-align: middle;\n",
       "    }\n",
       "\n",
       "    .dataframe tbody tr th {\n",
       "        vertical-align: top;\n",
       "    }\n",
       "\n",
       "    .dataframe thead th {\n",
       "        text-align: right;\n",
       "    }\n",
       "</style>\n",
       "<table border=\"1\" class=\"dataframe\">\n",
       "  <thead>\n",
       "    <tr style=\"text-align: right;\">\n",
       "      <th></th>\n",
       "      <th>permalink</th>\n",
       "      <th>name</th>\n",
       "      <th>homepage_url</th>\n",
       "      <th>category_list</th>\n",
       "      <th>status</th>\n",
       "      <th>country_code</th>\n",
       "      <th>state_code</th>\n",
       "      <th>region</th>\n",
       "      <th>city</th>\n",
       "      <th>founded_at</th>\n",
       "      <th>funding_round_permalink</th>\n",
       "      <th>funding_round_type</th>\n",
       "      <th>funding_round_code</th>\n",
       "      <th>funded_at</th>\n",
       "      <th>raised_amount_usd</th>\n",
       "    </tr>\n",
       "  </thead>\n",
       "  <tbody>\n",
       "    <tr>\n",
       "      <th>0</th>\n",
       "      <td>/organization/-fame</td>\n",
       "      <td>#fame</td>\n",
       "      <td>http://livfame.com</td>\n",
       "      <td>Media</td>\n",
       "      <td>operating</td>\n",
       "      <td>IND</td>\n",
       "      <td>16</td>\n",
       "      <td>Mumbai</td>\n",
       "      <td>Mumbai</td>\n",
       "      <td>NaN</td>\n",
       "      <td>/funding-round/9a01d05418af9f794eebff7ace91f638</td>\n",
       "      <td>venture</td>\n",
       "      <td>B</td>\n",
       "      <td>05-01-2015</td>\n",
       "      <td>10000000.0</td>\n",
       "    </tr>\n",
       "    <tr>\n",
       "      <th>1</th>\n",
       "      <td>/organization/-qounter</td>\n",
       "      <td>:Qounter</td>\n",
       "      <td>http://www.qounter.com</td>\n",
       "      <td>Application Platforms|Real Time|Social Network...</td>\n",
       "      <td>operating</td>\n",
       "      <td>USA</td>\n",
       "      <td>DE</td>\n",
       "      <td>DE - Other</td>\n",
       "      <td>Delaware City</td>\n",
       "      <td>04-09-2014</td>\n",
       "      <td>/funding-round/22dacff496eb7acb2b901dec1dfe5633</td>\n",
       "      <td>venture</td>\n",
       "      <td>A</td>\n",
       "      <td>14-10-2014</td>\n",
       "      <td>NaN</td>\n",
       "    </tr>\n",
       "    <tr>\n",
       "      <th>2</th>\n",
       "      <td>/organization/-qounter</td>\n",
       "      <td>:Qounter</td>\n",
       "      <td>http://www.qounter.com</td>\n",
       "      <td>Application Platforms|Real Time|Social Network...</td>\n",
       "      <td>operating</td>\n",
       "      <td>USA</td>\n",
       "      <td>DE</td>\n",
       "      <td>DE - Other</td>\n",
       "      <td>Delaware City</td>\n",
       "      <td>04-09-2014</td>\n",
       "      <td>/funding-round/b44fbb94153f6cdef13083530bb48030</td>\n",
       "      <td>seed</td>\n",
       "      <td>NaN</td>\n",
       "      <td>01-03-2014</td>\n",
       "      <td>700000.0</td>\n",
       "    </tr>\n",
       "    <tr>\n",
       "      <th>3</th>\n",
       "      <td>/organization/-the-one-of-them-inc-</td>\n",
       "      <td>(THE) ONE of THEM,Inc.</td>\n",
       "      <td>http://oneofthem.jp</td>\n",
       "      <td>Apps|Games|Mobile</td>\n",
       "      <td>operating</td>\n",
       "      <td>NaN</td>\n",
       "      <td>NaN</td>\n",
       "      <td>NaN</td>\n",
       "      <td>NaN</td>\n",
       "      <td>NaN</td>\n",
       "      <td>/funding-round/650b8f704416801069bb178a1418776b</td>\n",
       "      <td>venture</td>\n",
       "      <td>B</td>\n",
       "      <td>30-01-2014</td>\n",
       "      <td>3406878.0</td>\n",
       "    </tr>\n",
       "    <tr>\n",
       "      <th>4</th>\n",
       "      <td>/organization/0-6-com</td>\n",
       "      <td>0-6.com</td>\n",
       "      <td>http://www.0-6.com</td>\n",
       "      <td>Curated Web</td>\n",
       "      <td>operating</td>\n",
       "      <td>CHN</td>\n",
       "      <td>22</td>\n",
       "      <td>Beijing</td>\n",
       "      <td>Beijing</td>\n",
       "      <td>01-01-2007</td>\n",
       "      <td>/funding-round/5727accaeaa57461bd22a9bdd945382d</td>\n",
       "      <td>venture</td>\n",
       "      <td>A</td>\n",
       "      <td>19-03-2008</td>\n",
       "      <td>2000000.0</td>\n",
       "    </tr>\n",
       "  </tbody>\n",
       "</table>\n",
       "</div>"
      ],
      "text/plain": [
       "                             permalink                    name  \\\n",
       "0                  /organization/-fame                   #fame   \n",
       "1               /organization/-qounter                :Qounter   \n",
       "2               /organization/-qounter                :Qounter   \n",
       "3  /organization/-the-one-of-them-inc-  (THE) ONE of THEM,Inc.   \n",
       "4                /organization/0-6-com                 0-6.com   \n",
       "\n",
       "             homepage_url                                      category_list  \\\n",
       "0      http://livfame.com                                              Media   \n",
       "1  http://www.qounter.com  Application Platforms|Real Time|Social Network...   \n",
       "2  http://www.qounter.com  Application Platforms|Real Time|Social Network...   \n",
       "3     http://oneofthem.jp                                  Apps|Games|Mobile   \n",
       "4      http://www.0-6.com                                        Curated Web   \n",
       "\n",
       "      status country_code state_code      region           city  founded_at  \\\n",
       "0  operating          IND         16      Mumbai         Mumbai         NaN   \n",
       "1  operating          USA         DE  DE - Other  Delaware City  04-09-2014   \n",
       "2  operating          USA         DE  DE - Other  Delaware City  04-09-2014   \n",
       "3  operating          NaN        NaN         NaN            NaN         NaN   \n",
       "4  operating          CHN         22     Beijing        Beijing  01-01-2007   \n",
       "\n",
       "                           funding_round_permalink funding_round_type  \\\n",
       "0  /funding-round/9a01d05418af9f794eebff7ace91f638            venture   \n",
       "1  /funding-round/22dacff496eb7acb2b901dec1dfe5633            venture   \n",
       "2  /funding-round/b44fbb94153f6cdef13083530bb48030               seed   \n",
       "3  /funding-round/650b8f704416801069bb178a1418776b            venture   \n",
       "4  /funding-round/5727accaeaa57461bd22a9bdd945382d            venture   \n",
       "\n",
       "  funding_round_code   funded_at  raised_amount_usd  \n",
       "0                  B  05-01-2015         10000000.0  \n",
       "1                  A  14-10-2014                NaN  \n",
       "2                NaN  01-03-2014           700000.0  \n",
       "3                  B  30-01-2014          3406878.0  \n",
       "4                  A  19-03-2008          2000000.0  "
      ]
     },
     "execution_count": 14,
     "metadata": {},
     "output_type": "execute_result"
    }
   ],
   "source": [
    "# Let's have a look at the merged dataframe\n",
    "master_frame.head()"
   ]
  },
  {
   "cell_type": "code",
   "execution_count": 15,
   "metadata": {
    "scrolled": false
   },
   "outputs": [
    {
     "data": {
      "text/plain": [
       "(114949, 15)"
      ]
     },
     "execution_count": 15,
     "metadata": {},
     "output_type": "execute_result"
    }
   ],
   "source": [
    "master_frame.shape"
   ]
  },
  {
   "cell_type": "code",
   "execution_count": 16,
   "metadata": {
    "scrolled": true
   },
   "outputs": [
    {
     "name": "stdout",
     "output_type": "stream",
     "text": [
      "<class 'pandas.core.frame.DataFrame'>\n",
      "Int64Index: 114949 entries, 0 to 114948\n",
      "Data columns (total 15 columns):\n",
      "permalink                  114949 non-null object\n",
      "name                       114948 non-null object\n",
      "homepage_url               108815 non-null object\n",
      "category_list              111539 non-null object\n",
      "status                     114949 non-null object\n",
      "country_code               106271 non-null object\n",
      "state_code                 104003 non-null object\n",
      "region                     104782 non-null object\n",
      "city                       104785 non-null object\n",
      "founded_at                 94428 non-null object\n",
      "funding_round_permalink    114949 non-null object\n",
      "funding_round_type         114949 non-null object\n",
      "funding_round_code         31140 non-null object\n",
      "funded_at                  114949 non-null object\n",
      "raised_amount_usd          94959 non-null float64\n",
      "dtypes: float64(1), object(14)\n",
      "memory usage: 14.0+ MB\n"
     ]
    }
   ],
   "source": [
    "master_frame.info()"
   ]
  },
  {
   "cell_type": "code",
   "execution_count": 17,
   "metadata": {
    "scrolled": true
   },
   "outputs": [
    {
     "data": {
      "text/plain": [
       "permalink                      0\n",
       "name                           1\n",
       "homepage_url                6134\n",
       "category_list               3410\n",
       "status                         0\n",
       "country_code                8678\n",
       "state_code                 10946\n",
       "region                     10167\n",
       "city                       10164\n",
       "founded_at                 20521\n",
       "funding_round_permalink        0\n",
       "funding_round_type             0\n",
       "funding_round_code         83809\n",
       "funded_at                      0\n",
       "raised_amount_usd          19990\n",
       "dtype: int64"
      ]
     },
     "execution_count": 17,
     "metadata": {},
     "output_type": "execute_result"
    }
   ],
   "source": [
    "#summing up missing values\n",
    "master_frame.isnull().sum()"
   ]
  },
  {
   "cell_type": "code",
   "execution_count": 18,
   "metadata": {},
   "outputs": [
    {
     "data": {
      "text/plain": [
       "0"
      ]
     },
     "execution_count": 18,
     "metadata": {},
     "output_type": "execute_result"
    }
   ],
   "source": [
    "# rows having all missing values\n",
    "master_frame.isnull().all(axis=1).sum()"
   ]
  },
  {
   "cell_type": "markdown",
   "metadata": {},
   "source": [
    "Hence no rows have all missing values"
   ]
  },
  {
   "cell_type": "code",
   "execution_count": 19,
   "metadata": {
    "scrolled": true
   },
   "outputs": [
    {
     "data": {
      "text/plain": [
       "permalink                   0.00\n",
       "name                        0.00\n",
       "homepage_url                5.34\n",
       "category_list               2.97\n",
       "status                      0.00\n",
       "country_code                7.55\n",
       "state_code                  9.52\n",
       "region                      8.84\n",
       "city                        8.84\n",
       "founded_at                 17.85\n",
       "funding_round_permalink     0.00\n",
       "funding_round_type          0.00\n",
       "funding_round_code         72.91\n",
       "funded_at                   0.00\n",
       "raised_amount_usd          17.39\n",
       "dtype: float64"
      ]
     },
     "execution_count": 19,
     "metadata": {},
     "output_type": "execute_result"
    }
   ],
   "source": [
    "# Finding percentage of missing values (column wise)\n",
    "round(100*(master_frame.isnull().sum()/len(master_frame.index)),2)"
   ]
  },
  {
   "cell_type": "code",
   "execution_count": 20,
   "metadata": {
    "scrolled": false
   },
   "outputs": [
    {
     "data": {
      "text/plain": [
       "permalink                   0.00\n",
       "name                        0.00\n",
       "homepage_url                5.34\n",
       "category_list               2.97\n",
       "status                      0.00\n",
       "country_code                7.55\n",
       "state_code                  9.52\n",
       "region                      8.84\n",
       "city                        8.84\n",
       "founded_at                 17.85\n",
       "funding_round_permalink     0.00\n",
       "funding_round_type          0.00\n",
       "funded_at                   0.00\n",
       "raised_amount_usd          17.39\n",
       "dtype: float64"
      ]
     },
     "execution_count": 20,
     "metadata": {},
     "output_type": "execute_result"
    }
   ],
   "source": [
    "# Dropping the funding_round_code column as it is not significant and has high percentage of missing value \n",
    "master_frame = master_frame.drop('funding_round_code', axis = 1)\n",
    "round(100*(master_frame.isnull().sum()/len(master_frame.index)),2)"
   ]
  },
  {
   "cell_type": "code",
   "execution_count": 21,
   "metadata": {},
   "outputs": [
    {
     "data": {
      "text/plain": [
       "Index(['permalink', 'name', 'homepage_url', 'category_list', 'status',\n",
       "       'country_code', 'state_code', 'region', 'city', 'founded_at',\n",
       "       'funding_round_permalink', 'funding_round_type', 'funded_at',\n",
       "       'raised_amount_usd'],\n",
       "      dtype='object')"
      ]
     },
     "execution_count": 21,
     "metadata": {},
     "output_type": "execute_result"
    }
   ],
   "source": [
    "# Remaining columns\n",
    "\n",
    "master_frame.columns"
   ]
  },
  {
   "cell_type": "code",
   "execution_count": 22,
   "metadata": {
    "scrolled": true
   },
   "outputs": [
    {
     "data": {
      "text/plain": [
       "permalink                   0.00\n",
       "name                        0.00\n",
       "category_list               2.97\n",
       "status                      0.00\n",
       "country_code                7.55\n",
       "state_code                  9.52\n",
       "region                      8.84\n",
       "city                        8.84\n",
       "founded_at                 17.85\n",
       "funding_round_permalink     0.00\n",
       "funding_round_type          0.00\n",
       "funded_at                   0.00\n",
       "raised_amount_usd          17.39\n",
       "dtype: float64"
      ]
     },
     "execution_count": 22,
     "metadata": {},
     "output_type": "execute_result"
    }
   ],
   "source": [
    "# Dropping homepage_url as not significant for our analysis\n",
    "\n",
    "master_frame = master_frame.drop('homepage_url', axis = 1)\n",
    "round(100*(master_frame.isnull().sum()/len(master_frame.index)),2)"
   ]
  },
  {
   "cell_type": "code",
   "execution_count": 23,
   "metadata": {
    "scrolled": true
   },
   "outputs": [
    {
     "data": {
      "text/plain": [
       "Index(['permalink', 'name', 'category_list', 'status', 'country_code',\n",
       "       'state_code', 'region', 'city', 'founded_at', 'funding_round_permalink',\n",
       "       'funding_round_type', 'funded_at', 'raised_amount_usd'],\n",
       "      dtype='object')"
      ]
     },
     "execution_count": 23,
     "metadata": {},
     "output_type": "execute_result"
    }
   ],
   "source": [
    "master_frame.columns"
   ]
  },
  {
   "cell_type": "code",
   "execution_count": 24,
   "metadata": {
    "scrolled": true
   },
   "outputs": [
    {
     "data": {
      "text/plain": [
       "permalink                   0.00\n",
       "name                        0.00\n",
       "category_list               2.97\n",
       "status                      0.00\n",
       "country_code                7.55\n",
       "state_code                  9.52\n",
       "region                      8.84\n",
       "city                        8.84\n",
       "funding_round_permalink     0.00\n",
       "funding_round_type          0.00\n",
       "funded_at                   0.00\n",
       "raised_amount_usd          17.39\n",
       "dtype: float64"
      ]
     },
     "execution_count": 24,
     "metadata": {},
     "output_type": "execute_result"
    }
   ],
   "source": [
    "# Dropping founded_at as not significant for our analysis\n",
    "\n",
    "master_frame = master_frame.drop('founded_at', axis = 1)\n",
    "round(100*(master_frame.isnull().sum()/len(master_frame.index)),2)"
   ]
  },
  {
   "cell_type": "code",
   "execution_count": 25,
   "metadata": {},
   "outputs": [
    {
     "name": "stdout",
     "output_type": "stream",
     "text": [
      "{'ipo', 'acquired', 'closed', 'operating'}\n"
     ]
    }
   ],
   "source": [
    "# Understanding the status column\n",
    "\n",
    "print(set(list(master_frame.status)))"
   ]
  },
  {
   "cell_type": "code",
   "execution_count": 26,
   "metadata": {},
   "outputs": [
    {
     "data": {
      "text/plain": [
       "(114949, 12)"
      ]
     },
     "execution_count": 26,
     "metadata": {},
     "output_type": "execute_result"
    }
   ],
   "source": [
    "master_frame.shape"
   ]
  },
  {
   "cell_type": "code",
   "execution_count": 27,
   "metadata": {},
   "outputs": [
    {
     "data": {
      "text/plain": [
       "(106224, 12)"
      ]
     },
     "execution_count": 27,
     "metadata": {},
     "output_type": "execute_result"
    }
   ],
   "source": [
    "# Removing companies with status = Closed\n",
    "\n",
    "master_frame = master_frame.loc[ master_frame[\"status\"]!=\"closed\", : ]\n",
    "master_frame.shape"
   ]
  },
  {
   "cell_type": "markdown",
   "metadata": {},
   "source": [
    "#### Would do the further data cleaning based on the requirement / type of analysis."
   ]
  },
  {
   "cell_type": "markdown",
   "metadata": {},
   "source": [
    "# Grouping by funding round - Investment Type analysis"
   ]
  },
  {
   "cell_type": "code",
   "execution_count": 28,
   "metadata": {},
   "outputs": [],
   "source": [
    "investment_types = [\"venture\",\"angel\",\"seed\",\"private_equity\"]"
   ]
  },
  {
   "cell_type": "code",
   "execution_count": 29,
   "metadata": {},
   "outputs": [],
   "source": [
    "master_frame = master_frame.loc[master_frame['funding_round_type'].isin(investment_types), :]"
   ]
  },
  {
   "cell_type": "code",
   "execution_count": 30,
   "metadata": {
    "scrolled": true
   },
   "outputs": [
    {
     "data": {
      "text/plain": [
       "permalink                   0.00\n",
       "name                        0.00\n",
       "category_list               1.87\n",
       "status                      0.00\n",
       "country_code                6.60\n",
       "state_code                  8.69\n",
       "region                      7.91\n",
       "city                        7.90\n",
       "funding_round_permalink     0.00\n",
       "funding_round_type          0.00\n",
       "funded_at                   0.00\n",
       "raised_amount_usd          14.21\n",
       "dtype: float64"
      ]
     },
     "execution_count": 30,
     "metadata": {},
     "output_type": "execute_result"
    }
   ],
   "source": [
    "# Now understanding the type of data we have\n",
    "# Look at the summary again\n",
    "round(100*(master_frame.isnull().sum()/len(master_frame.index)),2)"
   ]
  },
  {
   "cell_type": "markdown",
   "metadata": {},
   "source": [
    "#### Imputing values of raised_amount_usd "
   ]
  },
  {
   "cell_type": "markdown",
   "metadata": {},
   "source": [
    "Let's first have a look at the data for various founding_round_type :"
   ]
  },
  {
   "cell_type": "code",
   "execution_count": 31,
   "metadata": {},
   "outputs": [
    {
     "data": {
      "text/plain": [
       "(86844, 12)"
      ]
     },
     "execution_count": 31,
     "metadata": {},
     "output_type": "execute_result"
    }
   ],
   "source": [
    "master_frame.shape"
   ]
  },
  {
   "cell_type": "code",
   "execution_count": 32,
   "metadata": {
    "scrolled": true
   },
   "outputs": [
    {
     "data": {
      "text/plain": [
       "count    4.664100e+04\n",
       "mean     1.189560e+07\n",
       "std      8.935104e+07\n",
       "min      0.000000e+00\n",
       "25%      1.634000e+06\n",
       "50%      5.000000e+06\n",
       "75%      1.200000e+07\n",
       "max      1.760000e+10\n",
       "Name: raised_amount_usd, dtype: float64"
      ]
     },
     "execution_count": 32,
     "metadata": {},
     "output_type": "execute_result"
    }
   ],
   "source": [
    "master_frame.loc[master_frame['funding_round_type']==\"venture\",:].raised_amount_usd.describe()"
   ]
  },
  {
   "cell_type": "markdown",
   "metadata": {},
   "source": [
    "The 3rd quartile is 7.5 times the 1st quartile for venture type !"
   ]
  },
  {
   "cell_type": "code",
   "execution_count": 33,
   "metadata": {},
   "outputs": [
    {
     "data": {
      "text/plain": [
       "count    4.305000e+03\n",
       "mean     9.799154e+05\n",
       "std      7.824931e+06\n",
       "min      0.000000e+00\n",
       "25%      1.528420e+05\n",
       "50%      4.000000e+05\n",
       "75%      1.000000e+06\n",
       "max      4.945120e+08\n",
       "Name: raised_amount_usd, dtype: float64"
      ]
     },
     "execution_count": 33,
     "metadata": {},
     "output_type": "execute_result"
    }
   ],
   "source": [
    "master_frame.loc[master_frame['funding_round_type']==\"angel\",:].raised_amount_usd.describe()"
   ]
  },
  {
   "cell_type": "markdown",
   "metadata": {},
   "source": [
    "The 3rd quartile is 6.67 times the 1st quartile for angel type !"
   ]
  },
  {
   "cell_type": "code",
   "execution_count": 34,
   "metadata": {},
   "outputs": [
    {
     "data": {
      "text/plain": [
       "count    2.174900e+04\n",
       "mean     7.385902e+05\n",
       "std      2.280015e+06\n",
       "min      0.000000e+00\n",
       "25%      6.000000e+04\n",
       "50%      3.000000e+05\n",
       "75%      1.000000e+06\n",
       "max      2.000000e+08\n",
       "Name: raised_amount_usd, dtype: float64"
      ]
     },
     "execution_count": 34,
     "metadata": {},
     "output_type": "execute_result"
    }
   ],
   "source": [
    "master_frame.loc[master_frame['funding_round_type']==\"seed\",:].raised_amount_usd.describe()"
   ]
  },
  {
   "cell_type": "markdown",
   "metadata": {},
   "source": [
    "The 3rd quartile is 17 times the 1st quartile for seed type !"
   ]
  },
  {
   "cell_type": "code",
   "execution_count": 35,
   "metadata": {
    "scrolled": true
   },
   "outputs": [
    {
     "data": {
      "text/plain": [
       "count    1.806000e+03\n",
       "mean     7.557581e+07\n",
       "std      2.040155e+08\n",
       "min      0.000000e+00\n",
       "25%      5.270000e+06\n",
       "50%      2.000000e+07\n",
       "75%      7.594064e+07\n",
       "max      4.745460e+09\n",
       "Name: raised_amount_usd, dtype: float64"
      ]
     },
     "execution_count": 35,
     "metadata": {},
     "output_type": "execute_result"
    }
   ],
   "source": [
    "master_frame.loc[master_frame['funding_round_type']==\"private_equity\",:].raised_amount_usd.describe()"
   ]
  },
  {
   "cell_type": "markdown",
   "metadata": {},
   "source": [
    "The 3rd quartile is 15 times the 1st quartile for private_equity type !"
   ]
  },
  {
   "cell_type": "code",
   "execution_count": 36,
   "metadata": {},
   "outputs": [
    {
     "data": {
      "text/plain": [
       "count    7.450100e+04\n",
       "mean     9.551481e+06\n",
       "std      7.840652e+07\n",
       "min      0.000000e+00\n",
       "25%      4.350000e+05\n",
       "50%      2.000000e+06\n",
       "75%      8.000000e+06\n",
       "max      1.760000e+10\n",
       "Name: raised_amount_usd, dtype: float64"
      ]
     },
     "execution_count": 36,
     "metadata": {},
     "output_type": "execute_result"
    }
   ],
   "source": [
    "master_frame.raised_amount_usd.describe()"
   ]
  },
  {
   "cell_type": "markdown",
   "metadata": {},
   "source": [
    "The difference in Q1 and Q3 for the whole data is almost 20 times!"
   ]
  },
  {
   "cell_type": "markdown",
   "metadata": {},
   "source": [
    "Since the variation in data is so high, I shall be using \"Median\" as the Representative statistic for each funding_type to compare. "
   ]
  },
  {
   "cell_type": "markdown",
   "metadata": {},
   "source": [
    "As far as missing values are concerned, imputting all types of funding_round_type by the same value would lead to introduction of very high bias in the data.\n",
    "\n",
    "Then the other alternative left would be to impute rows by checking their funding_type and filling the missing value with the median of the corresponding funding_type. \n",
    "\n",
    "However such an exercise would be futile as I will be comparing the funding_types on the basis of median value, and filling in missing values with the median value of correponding funding_type is not going to change the median of the funding_type. \n",
    "\n",
    "Thus proceeding with comparison of funding_types using the median."
   ]
  },
  {
   "cell_type": "code",
   "execution_count": 37,
   "metadata": {},
   "outputs": [],
   "source": [
    "# plot1_df to be used in - Check point 6 : graph 1\n",
    "\n",
    "plot1_df = master_frame"
   ]
  },
  {
   "cell_type": "code",
   "execution_count": 38,
   "metadata": {},
   "outputs": [],
   "source": [
    "master_frame_by_funding_type = master_frame.groupby(\"funding_round_type\")"
   ]
  },
  {
   "cell_type": "code",
   "execution_count": 39,
   "metadata": {
    "scrolled": false
   },
   "outputs": [
    {
     "data": {
      "text/html": [
       "<div>\n",
       "<style scoped>\n",
       "    .dataframe tbody tr th:only-of-type {\n",
       "        vertical-align: middle;\n",
       "    }\n",
       "\n",
       "    .dataframe tbody tr th {\n",
       "        vertical-align: top;\n",
       "    }\n",
       "\n",
       "    .dataframe thead th {\n",
       "        text-align: right;\n",
       "    }\n",
       "</style>\n",
       "<table border=\"1\" class=\"dataframe\">\n",
       "  <thead>\n",
       "    <tr style=\"text-align: right;\">\n",
       "      <th></th>\n",
       "      <th>raised_amount_usd</th>\n",
       "    </tr>\n",
       "    <tr>\n",
       "      <th>funding_round_type</th>\n",
       "      <th></th>\n",
       "    </tr>\n",
       "  </thead>\n",
       "  <tbody>\n",
       "    <tr>\n",
       "      <th>angel</th>\n",
       "      <td>400000.0</td>\n",
       "    </tr>\n",
       "    <tr>\n",
       "      <th>private_equity</th>\n",
       "      <td>20000000.0</td>\n",
       "    </tr>\n",
       "    <tr>\n",
       "      <th>seed</th>\n",
       "      <td>300000.0</td>\n",
       "    </tr>\n",
       "    <tr>\n",
       "      <th>venture</th>\n",
       "      <td>5000000.0</td>\n",
       "    </tr>\n",
       "  </tbody>\n",
       "</table>\n",
       "</div>"
      ],
      "text/plain": [
       "                    raised_amount_usd\n",
       "funding_round_type                   \n",
       "angel                        400000.0\n",
       "private_equity             20000000.0\n",
       "seed                         300000.0\n",
       "venture                     5000000.0"
      ]
     },
     "execution_count": 39,
     "metadata": {},
     "output_type": "execute_result"
    }
   ],
   "source": [
    "master_funding_df = pd.DataFrame(master_frame_by_funding_type[\"raised_amount_usd\"].median())\n",
    "master_funding_df"
   ]
  },
  {
   "cell_type": "code",
   "execution_count": 40,
   "metadata": {},
   "outputs": [
    {
     "data": {
      "text/html": [
       "<div>\n",
       "<style scoped>\n",
       "    .dataframe tbody tr th:only-of-type {\n",
       "        vertical-align: middle;\n",
       "    }\n",
       "\n",
       "    .dataframe tbody tr th {\n",
       "        vertical-align: top;\n",
       "    }\n",
       "\n",
       "    .dataframe thead th {\n",
       "        text-align: right;\n",
       "    }\n",
       "</style>\n",
       "<table border=\"1\" class=\"dataframe\">\n",
       "  <thead>\n",
       "    <tr style=\"text-align: right;\">\n",
       "      <th></th>\n",
       "      <th>raised_amount_usd</th>\n",
       "    </tr>\n",
       "    <tr>\n",
       "      <th>funding_round_type</th>\n",
       "      <th></th>\n",
       "    </tr>\n",
       "  </thead>\n",
       "  <tbody>\n",
       "    <tr>\n",
       "      <th>venture</th>\n",
       "      <td>5000000.0</td>\n",
       "    </tr>\n",
       "  </tbody>\n",
       "</table>\n",
       "</div>"
      ],
      "text/plain": [
       "                    raised_amount_usd\n",
       "funding_round_type                   \n",
       "venture                     5000000.0"
      ]
     },
     "execution_count": 40,
     "metadata": {},
     "output_type": "execute_result"
    }
   ],
   "source": [
    "favourable_investment_type = master_funding_df.loc[(master_funding_df.raised_amount_usd >= 5000000) & (master_funding_df.raised_amount_usd <= 15000000) ]\n",
    "favourable_investment_type"
   ]
  },
  {
   "cell_type": "markdown",
   "metadata": {},
   "source": [
    "Hence we can conclude that Venture type funding meets our requirements.\n",
    "\n",
    "Thus keeping only those records which have \"venture\" as the 'funding_round_type'"
   ]
  },
  {
   "cell_type": "code",
   "execution_count": 41,
   "metadata": {
    "scrolled": true
   },
   "outputs": [
    {
     "data": {
      "text/plain": [
       "permalink                   0.00\n",
       "name                        0.00\n",
       "category_list               1.87\n",
       "status                      0.00\n",
       "country_code                6.60\n",
       "state_code                  8.69\n",
       "region                      7.91\n",
       "city                        7.90\n",
       "funding_round_permalink     0.00\n",
       "funding_round_type          0.00\n",
       "funded_at                   0.00\n",
       "raised_amount_usd          14.21\n",
       "dtype: float64"
      ]
     },
     "execution_count": 41,
     "metadata": {},
     "output_type": "execute_result"
    }
   ],
   "source": [
    "round(100*(master_frame.isnull().sum()/len(master_frame.index)),2)"
   ]
  },
  {
   "cell_type": "code",
   "execution_count": 42,
   "metadata": {
    "scrolled": true
   },
   "outputs": [
    {
     "data": {
      "text/plain": [
       "count       51463\n",
       "unique          1\n",
       "top       venture\n",
       "freq        51463\n",
       "Name: funding_round_type, dtype: object"
      ]
     },
     "execution_count": 42,
     "metadata": {},
     "output_type": "execute_result"
    }
   ],
   "source": [
    "master_frame = master_frame.loc[master_frame['funding_round_type']==\"venture\", :]\n",
    "master_frame[\"funding_round_type\"].describe()"
   ]
  },
  {
   "cell_type": "markdown",
   "metadata": {},
   "source": [
    "#### Imputting the missing values for raised_amount_usd by median value for venture\n"
   ]
  },
  {
   "cell_type": "code",
   "execution_count": 43,
   "metadata": {},
   "outputs": [
    {
     "data": {
      "text/plain": [
       "5000000.0"
      ]
     },
     "execution_count": 43,
     "metadata": {},
     "output_type": "execute_result"
    }
   ],
   "source": [
    "# Calculating venture median\n",
    "venture_median = master_frame[\"raised_amount_usd\"].median()\n",
    "venture_median"
   ]
  },
  {
   "cell_type": "code",
   "execution_count": 44,
   "metadata": {},
   "outputs": [
    {
     "name": "stderr",
     "output_type": "stream",
     "text": [
      "/Users/harshitmehta/anaconda3/lib/python3.7/site-packages/pandas/core/indexing.py:543: SettingWithCopyWarning: \n",
      "A value is trying to be set on a copy of a slice from a DataFrame.\n",
      "Try using .loc[row_indexer,col_indexer] = value instead\n",
      "\n",
      "See the caveats in the documentation: http://pandas.pydata.org/pandas-docs/stable/indexing.html#indexing-view-versus-copy\n",
      "  self.obj[item] = s\n"
     ]
    },
    {
     "data": {
      "text/plain": [
       "permalink                  0.00\n",
       "name                       0.00\n",
       "category_list              1.38\n",
       "status                     0.00\n",
       "country_code               4.41\n",
       "state_code                 6.08\n",
       "region                     5.62\n",
       "city                       5.62\n",
       "funding_round_permalink    0.00\n",
       "funding_round_type         0.00\n",
       "funded_at                  0.00\n",
       "raised_amount_usd          0.00\n",
       "dtype: float64"
      ]
     },
     "execution_count": 44,
     "metadata": {},
     "output_type": "execute_result"
    }
   ],
   "source": [
    "# Imputting the missing values with the median of venture funding_type\n",
    "master_frame.loc[np.isnan(master_frame[\"raised_amount_usd\"]), [\"raised_amount_usd\"]] = 5000000.0\n",
    "round(100*(master_frame.isnull().sum()/len(master_frame.index)),2)"
   ]
  },
  {
   "cell_type": "markdown",
   "metadata": {},
   "source": [
    "# Country wise Analysis"
   ]
  },
  {
   "cell_type": "markdown",
   "metadata": {},
   "source": [
    "Steps :\n",
    "1. Clean the raised_amount_usd data\n",
    "2. Impute country_code\n",
    "3. Proceed with grouping by country_code"
   ]
  },
  {
   "cell_type": "markdown",
   "metadata": {},
   "source": [
    "Since country wise analysis would require sum of \"raised_amount_usd\" per country, will be filtering out the outliers in the data (specifically the raised_amount_usd)."
   ]
  },
  {
   "cell_type": "markdown",
   "metadata": {},
   "source": [
    "### Outlier Removal\n",
    "Outlier Criteria : Data point that falls between 1st percentile and 99th percentile"
   ]
  },
  {
   "cell_type": "code",
   "execution_count": 45,
   "metadata": {
    "scrolled": true
   },
   "outputs": [
    {
     "data": {
      "text/plain": [
       "count    5.146300e+04\n",
       "mean     1.124950e+07\n",
       "std      8.508572e+07\n",
       "min      0.000000e+00\n",
       "25%      2.000000e+06\n",
       "50%      5.000000e+06\n",
       "75%      1.070000e+07\n",
       "max      1.760000e+10\n",
       "Name: raised_amount_usd, dtype: float64"
      ]
     },
     "execution_count": 45,
     "metadata": {},
     "output_type": "execute_result"
    }
   ],
   "source": [
    "master_frame[\"raised_amount_usd\"].describe()"
   ]
  },
  {
   "cell_type": "markdown",
   "metadata": {},
   "source": [
    "The raised_amount_usd is ranging from 0 to 17 billion!"
   ]
  },
  {
   "cell_type": "code",
   "execution_count": 46,
   "metadata": {},
   "outputs": [],
   "source": [
    "# Calculating the percentiles\n",
    "first_percentile = master_frame[\"raised_amount_usd\"].quantile([.01,.99])[.01]\n",
    "ninety_nine_percentile = master_frame[\"raised_amount_usd\"].quantile([.01,.99])[.99]"
   ]
  },
  {
   "cell_type": "code",
   "execution_count": 47,
   "metadata": {},
   "outputs": [
    {
     "data": {
      "text/plain": [
       "50000.0"
      ]
     },
     "execution_count": 47,
     "metadata": {},
     "output_type": "execute_result"
    }
   ],
   "source": [
    "first_percentile"
   ]
  },
  {
   "cell_type": "code",
   "execution_count": 48,
   "metadata": {
    "scrolled": true
   },
   "outputs": [
    {
     "data": {
      "text/plain": [
       "94462737.99999957"
      ]
     },
     "execution_count": 48,
     "metadata": {},
     "output_type": "execute_result"
    }
   ],
   "source": [
    "ninety_nine_percentile"
   ]
  },
  {
   "cell_type": "markdown",
   "metadata": {},
   "source": [
    "Retaining points in between 1st and 99th percentile"
   ]
  },
  {
   "cell_type": "code",
   "execution_count": 49,
   "metadata": {},
   "outputs": [],
   "source": [
    "master_frame = master_frame.loc[ (master_frame[\"raised_amount_usd\"] >= first_percentile) & (master_frame[\"raised_amount_usd\"] <= ninety_nine_percentile) , :]"
   ]
  },
  {
   "cell_type": "code",
   "execution_count": 50,
   "metadata": {
    "scrolled": true
   },
   "outputs": [
    {
     "data": {
      "text/plain": [
       "count    5.044900e+04\n",
       "mean     8.995876e+06\n",
       "std      1.182946e+07\n",
       "min      5.000000e+04\n",
       "25%      2.000000e+06\n",
       "50%      5.000000e+06\n",
       "75%      1.033408e+07\n",
       "max      9.440000e+07\n",
       "Name: raised_amount_usd, dtype: float64"
      ]
     },
     "execution_count": 50,
     "metadata": {},
     "output_type": "execute_result"
    }
   ],
   "source": [
    "master_frame[\"raised_amount_usd\"].describe()"
   ]
  },
  {
   "cell_type": "markdown",
   "metadata": {},
   "source": [
    "Having removed outliers from raised_amount_usd,\n",
    "\n",
    "Let's probe the data we have :"
   ]
  },
  {
   "cell_type": "code",
   "execution_count": 51,
   "metadata": {
    "scrolled": true
   },
   "outputs": [
    {
     "data": {
      "text/plain": [
       "permalink                  0.00\n",
       "name                       0.00\n",
       "category_list              1.39\n",
       "status                     0.00\n",
       "country_code               4.38\n",
       "state_code                 6.06\n",
       "region                     5.60\n",
       "city                       5.60\n",
       "funding_round_permalink    0.00\n",
       "funding_round_type         0.00\n",
       "funded_at                  0.00\n",
       "raised_amount_usd          0.00\n",
       "dtype: float64"
      ]
     },
     "execution_count": 51,
     "metadata": {},
     "output_type": "execute_result"
    }
   ],
   "source": [
    "round(100*(master_frame.isnull().sum()/len(master_frame.index)),2)"
   ]
  },
  {
   "cell_type": "markdown",
   "metadata": {},
   "source": [
    "For Country Analysis we would need to impute values for country code, let's see what other columns contain which can help us impute the value of country code if possible."
   ]
  },
  {
   "cell_type": "code",
   "execution_count": 52,
   "metadata": {
    "scrolled": true
   },
   "outputs": [
    {
     "data": {
      "text/html": [
       "<div>\n",
       "<style scoped>\n",
       "    .dataframe tbody tr th:only-of-type {\n",
       "        vertical-align: middle;\n",
       "    }\n",
       "\n",
       "    .dataframe tbody tr th {\n",
       "        vertical-align: top;\n",
       "    }\n",
       "\n",
       "    .dataframe thead th {\n",
       "        text-align: right;\n",
       "    }\n",
       "</style>\n",
       "<table border=\"1\" class=\"dataframe\">\n",
       "  <thead>\n",
       "    <tr style=\"text-align: right;\">\n",
       "      <th></th>\n",
       "      <th>permalink</th>\n",
       "      <th>name</th>\n",
       "      <th>category_list</th>\n",
       "      <th>status</th>\n",
       "      <th>country_code</th>\n",
       "      <th>state_code</th>\n",
       "      <th>region</th>\n",
       "      <th>city</th>\n",
       "      <th>funding_round_permalink</th>\n",
       "      <th>funding_round_type</th>\n",
       "      <th>funded_at</th>\n",
       "      <th>raised_amount_usd</th>\n",
       "    </tr>\n",
       "  </thead>\n",
       "  <tbody>\n",
       "    <tr>\n",
       "      <th>0</th>\n",
       "      <td>/organization/-fame</td>\n",
       "      <td>#fame</td>\n",
       "      <td>Media</td>\n",
       "      <td>operating</td>\n",
       "      <td>IND</td>\n",
       "      <td>16</td>\n",
       "      <td>Mumbai</td>\n",
       "      <td>Mumbai</td>\n",
       "      <td>/funding-round/9a01d05418af9f794eebff7ace91f638</td>\n",
       "      <td>venture</td>\n",
       "      <td>05-01-2015</td>\n",
       "      <td>10000000.0</td>\n",
       "    </tr>\n",
       "    <tr>\n",
       "      <th>1</th>\n",
       "      <td>/organization/-qounter</td>\n",
       "      <td>:Qounter</td>\n",
       "      <td>Application Platforms|Real Time|Social Network...</td>\n",
       "      <td>operating</td>\n",
       "      <td>USA</td>\n",
       "      <td>DE</td>\n",
       "      <td>DE - Other</td>\n",
       "      <td>Delaware City</td>\n",
       "      <td>/funding-round/22dacff496eb7acb2b901dec1dfe5633</td>\n",
       "      <td>venture</td>\n",
       "      <td>14-10-2014</td>\n",
       "      <td>5000000.0</td>\n",
       "    </tr>\n",
       "    <tr>\n",
       "      <th>3</th>\n",
       "      <td>/organization/-the-one-of-them-inc-</td>\n",
       "      <td>(THE) ONE of THEM,Inc.</td>\n",
       "      <td>Apps|Games|Mobile</td>\n",
       "      <td>operating</td>\n",
       "      <td>NaN</td>\n",
       "      <td>NaN</td>\n",
       "      <td>NaN</td>\n",
       "      <td>NaN</td>\n",
       "      <td>/funding-round/650b8f704416801069bb178a1418776b</td>\n",
       "      <td>venture</td>\n",
       "      <td>30-01-2014</td>\n",
       "      <td>3406878.0</td>\n",
       "    </tr>\n",
       "    <tr>\n",
       "      <th>4</th>\n",
       "      <td>/organization/0-6-com</td>\n",
       "      <td>0-6.com</td>\n",
       "      <td>Curated Web</td>\n",
       "      <td>operating</td>\n",
       "      <td>CHN</td>\n",
       "      <td>22</td>\n",
       "      <td>Beijing</td>\n",
       "      <td>Beijing</td>\n",
       "      <td>/funding-round/5727accaeaa57461bd22a9bdd945382d</td>\n",
       "      <td>venture</td>\n",
       "      <td>19-03-2008</td>\n",
       "      <td>2000000.0</td>\n",
       "    </tr>\n",
       "    <tr>\n",
       "      <th>5</th>\n",
       "      <td>/organization/004-technologies</td>\n",
       "      <td>004 Technologies</td>\n",
       "      <td>Software</td>\n",
       "      <td>operating</td>\n",
       "      <td>USA</td>\n",
       "      <td>IL</td>\n",
       "      <td>Springfield, Illinois</td>\n",
       "      <td>Champaign</td>\n",
       "      <td>/funding-round/1278dd4e6a37fa4b7d7e06c21b3c1830</td>\n",
       "      <td>venture</td>\n",
       "      <td>24-07-2014</td>\n",
       "      <td>5000000.0</td>\n",
       "    </tr>\n",
       "  </tbody>\n",
       "</table>\n",
       "</div>"
      ],
      "text/plain": [
       "                             permalink                    name  \\\n",
       "0                  /organization/-fame                   #fame   \n",
       "1               /organization/-qounter                :Qounter   \n",
       "3  /organization/-the-one-of-them-inc-  (THE) ONE of THEM,Inc.   \n",
       "4                /organization/0-6-com                 0-6.com   \n",
       "5       /organization/004-technologies        004 Technologies   \n",
       "\n",
       "                                       category_list     status country_code  \\\n",
       "0                                              Media  operating          IND   \n",
       "1  Application Platforms|Real Time|Social Network...  operating          USA   \n",
       "3                                  Apps|Games|Mobile  operating          NaN   \n",
       "4                                        Curated Web  operating          CHN   \n",
       "5                                           Software  operating          USA   \n",
       "\n",
       "  state_code                 region           city  \\\n",
       "0         16                 Mumbai         Mumbai   \n",
       "1         DE             DE - Other  Delaware City   \n",
       "3        NaN                    NaN            NaN   \n",
       "4         22                Beijing        Beijing   \n",
       "5         IL  Springfield, Illinois      Champaign   \n",
       "\n",
       "                           funding_round_permalink funding_round_type  \\\n",
       "0  /funding-round/9a01d05418af9f794eebff7ace91f638            venture   \n",
       "1  /funding-round/22dacff496eb7acb2b901dec1dfe5633            venture   \n",
       "3  /funding-round/650b8f704416801069bb178a1418776b            venture   \n",
       "4  /funding-round/5727accaeaa57461bd22a9bdd945382d            venture   \n",
       "5  /funding-round/1278dd4e6a37fa4b7d7e06c21b3c1830            venture   \n",
       "\n",
       "    funded_at  raised_amount_usd  \n",
       "0  05-01-2015         10000000.0  \n",
       "1  14-10-2014          5000000.0  \n",
       "3  30-01-2014          3406878.0  \n",
       "4  19-03-2008          2000000.0  \n",
       "5  24-07-2014          5000000.0  "
      ]
     },
     "execution_count": 52,
     "metadata": {},
     "output_type": "execute_result"
    }
   ],
   "source": [
    "master_frame.head()"
   ]
  },
  {
   "cell_type": "code",
   "execution_count": 53,
   "metadata": {
    "scrolled": true
   },
   "outputs": [
    {
     "name": "stdout",
     "output_type": "stream",
     "text": [
      "807\n"
     ]
    }
   ],
   "source": [
    "# Probably region can help in imputing values for country_code; exploring the region column\n",
    "print(len(set(master_frame[\"region\"])))"
   ]
  },
  {
   "cell_type": "code",
   "execution_count": 54,
   "metadata": {},
   "outputs": [
    {
     "data": {
      "text/plain": [
       "(50449, 12)"
      ]
     },
     "execution_count": 54,
     "metadata": {},
     "output_type": "execute_result"
    }
   ],
   "source": [
    "master_frame.shape"
   ]
  },
  {
   "cell_type": "code",
   "execution_count": 55,
   "metadata": {
    "scrolled": true
   },
   "outputs": [
    {
     "name": "stdout",
     "output_type": "stream",
     "text": [
      "2823\n"
     ]
    }
   ],
   "source": [
    "q = master_frame.loc[ ( master_frame['region'].isnull() ) , :]\n",
    "print(len(q))"
   ]
  },
  {
   "cell_type": "code",
   "execution_count": 56,
   "metadata": {},
   "outputs": [
    {
     "name": "stdout",
     "output_type": "stream",
     "text": [
      "47626\n"
     ]
    }
   ],
   "source": [
    "q = master_frame.loc[ ( master_frame['region'].isnull() == False) , :]\n",
    "print(len(q))"
   ]
  },
  {
   "cell_type": "code",
   "execution_count": 57,
   "metadata": {},
   "outputs": [
    {
     "name": "stdout",
     "output_type": "stream",
     "text": [
      "0\n"
     ]
    }
   ],
   "source": [
    "q = master_frame.loc[( master_frame.country_code.isnull() ) & ( master_frame['region'].isnull() == False ) , :]\n",
    "print(len(q))"
   ]
  },
  {
   "cell_type": "markdown",
   "metadata": {},
   "source": [
    "However, there are no rows which have a region but not country code.\n",
    "\n",
    "Thus we can not use region to impute value of country code. "
   ]
  },
  {
   "cell_type": "markdown",
   "metadata": {},
   "source": [
    "Exploring other columns like \"city\" :"
   ]
  },
  {
   "cell_type": "code",
   "execution_count": 58,
   "metadata": {},
   "outputs": [
    {
     "name": "stdout",
     "output_type": "stream",
     "text": [
      "0\n"
     ]
    }
   ],
   "source": [
    "q = master_frame.loc[( master_frame.country_code.isnull() ) & ( master_frame['city'].isnull() == False ) , :]\n",
    "print(len(q))"
   ]
  },
  {
   "cell_type": "markdown",
   "metadata": {},
   "source": [
    "\n",
    "Thus there are no rows where country code is absent and region/city is present - Ruling out the possibility of imputing values of country on the basis of region/city .\n",
    "\n"
   ]
  },
  {
   "cell_type": "markdown",
   "metadata": {},
   "source": [
    "Thus dropping the rows where country code is missing."
   ]
  },
  {
   "cell_type": "code",
   "execution_count": 59,
   "metadata": {
    "scrolled": true
   },
   "outputs": [
    {
     "data": {
      "text/plain": [
       "permalink                  0.00\n",
       "name                       0.00\n",
       "category_list              1.39\n",
       "status                     0.00\n",
       "country_code               4.38\n",
       "funding_round_permalink    0.00\n",
       "funding_round_type         0.00\n",
       "funded_at                  0.00\n",
       "raised_amount_usd          0.00\n",
       "dtype: float64"
      ]
     },
     "execution_count": 59,
     "metadata": {},
     "output_type": "execute_result"
    }
   ],
   "source": [
    "# Dropping state_code, region, city as not significant for our analysis\n",
    "master_frame = master_frame.drop('state_code', axis = 1)\n",
    "master_frame = master_frame.drop('region', axis = 1)\n",
    "master_frame = master_frame.drop('city', axis = 1)\n",
    "\n",
    "round(100*(master_frame.isnull().sum()/len(master_frame.index)),2)"
   ]
  },
  {
   "cell_type": "code",
   "execution_count": 60,
   "metadata": {},
   "outputs": [
    {
     "data": {
      "text/html": [
       "<div>\n",
       "<style scoped>\n",
       "    .dataframe tbody tr th:only-of-type {\n",
       "        vertical-align: middle;\n",
       "    }\n",
       "\n",
       "    .dataframe tbody tr th {\n",
       "        vertical-align: top;\n",
       "    }\n",
       "\n",
       "    .dataframe thead tr th {\n",
       "        text-align: left;\n",
       "    }\n",
       "\n",
       "    .dataframe thead tr:last-of-type th {\n",
       "        text-align: right;\n",
       "    }\n",
       "</style>\n",
       "<table border=\"1\" class=\"dataframe\">\n",
       "  <thead>\n",
       "    <tr>\n",
       "      <th></th>\n",
       "      <th>count</th>\n",
       "    </tr>\n",
       "    <tr>\n",
       "      <th></th>\n",
       "      <th>raised_amount_usd</th>\n",
       "    </tr>\n",
       "    <tr>\n",
       "      <th>country_code</th>\n",
       "      <th></th>\n",
       "    </tr>\n",
       "  </thead>\n",
       "  <tbody>\n",
       "    <tr>\n",
       "      <th>USA</th>\n",
       "      <td>35167</td>\n",
       "    </tr>\n",
       "    <tr>\n",
       "      <th>GBR</th>\n",
       "      <td>2109</td>\n",
       "    </tr>\n",
       "    <tr>\n",
       "      <th>CHN</th>\n",
       "      <td>1937</td>\n",
       "    </tr>\n",
       "    <tr>\n",
       "      <th>CAN</th>\n",
       "      <td>1212</td>\n",
       "    </tr>\n",
       "    <tr>\n",
       "      <th>IND</th>\n",
       "      <td>939</td>\n",
       "    </tr>\n",
       "  </tbody>\n",
       "</table>\n",
       "</div>"
      ],
      "text/plain": [
       "                         count\n",
       "             raised_amount_usd\n",
       "country_code                  \n",
       "USA                      35167\n",
       "GBR                       2109\n",
       "CHN                       1937\n",
       "CAN                       1212\n",
       "IND                        939"
      ]
     },
     "execution_count": 60,
     "metadata": {},
     "output_type": "execute_result"
    }
   ],
   "source": [
    "# Understanding the country_code\n",
    "# Probing the value that can be imputed\n",
    "master_frame.pivot_table(values = \"raised_amount_usd\", index = \"country_code\", aggfunc = [\"count\"]).sort_values(('count','raised_amount_usd'), ascending=False).head()\n"
   ]
  },
  {
   "cell_type": "code",
   "execution_count": 61,
   "metadata": {},
   "outputs": [
    {
     "data": {
      "text/plain": [
       "(50449, 9)"
      ]
     },
     "execution_count": 61,
     "metadata": {},
     "output_type": "execute_result"
    }
   ],
   "source": [
    "master_frame.shape"
   ]
  },
  {
   "cell_type": "markdown",
   "metadata": {},
   "source": [
    "Since around 70% of the dataset has USA as the country_code; we can safely impute the missing values of country_code with USA"
   ]
  },
  {
   "cell_type": "code",
   "execution_count": 62,
   "metadata": {},
   "outputs": [
    {
     "data": {
      "text/plain": [
       "permalink                  0.00\n",
       "name                       0.00\n",
       "category_list              1.39\n",
       "status                     0.00\n",
       "country_code               0.00\n",
       "funding_round_permalink    0.00\n",
       "funding_round_type         0.00\n",
       "funded_at                  0.00\n",
       "raised_amount_usd          0.00\n",
       "dtype: float64"
      ]
     },
     "execution_count": 62,
     "metadata": {},
     "output_type": "execute_result"
    }
   ],
   "source": [
    "# imputting NaNs in country_code with USA\n",
    "master_frame.loc[pd.isnull(master_frame[\"country_code\"]), [\"country_code\"]] = \"USA\"\n",
    "round(100*(master_frame.isnull().sum()/len(master_frame.index)),2)"
   ]
  },
  {
   "cell_type": "markdown",
   "metadata": {},
   "source": [
    "# Grouping by Country - Country Type analysis"
   ]
  },
  {
   "cell_type": "code",
   "execution_count": 63,
   "metadata": {},
   "outputs": [
    {
     "data": {
      "text/plain": [
       "country_code\n",
       "USA    3.439952e+11\n",
       "CHN    2.289796e+10\n",
       "GBR    1.723388e+10\n",
       "IND    1.009985e+10\n",
       "CAN    8.791852e+09\n",
       "Name: raised_amount_usd, dtype: float64"
      ]
     },
     "execution_count": 63,
     "metadata": {},
     "output_type": "execute_result"
    }
   ],
   "source": [
    "master_frame_by_country_code = master_frame.groupby(\"country_code\")\n",
    "master_frame_by_country_code[\"raised_amount_usd\"].sum().sort_values(ascending = False).head()"
   ]
  },
  {
   "cell_type": "code",
   "execution_count": 64,
   "metadata": {},
   "outputs": [
    {
     "data": {
      "text/html": [
       "<div>\n",
       "<style scoped>\n",
       "    .dataframe tbody tr th:only-of-type {\n",
       "        vertical-align: middle;\n",
       "    }\n",
       "\n",
       "    .dataframe tbody tr th {\n",
       "        vertical-align: top;\n",
       "    }\n",
       "\n",
       "    .dataframe thead th {\n",
       "        text-align: right;\n",
       "    }\n",
       "</style>\n",
       "<table border=\"1\" class=\"dataframe\">\n",
       "  <thead>\n",
       "    <tr style=\"text-align: right;\">\n",
       "      <th></th>\n",
       "      <th>raised_amount_usd</th>\n",
       "    </tr>\n",
       "    <tr>\n",
       "      <th>country_code</th>\n",
       "      <th></th>\n",
       "    </tr>\n",
       "  </thead>\n",
       "  <tbody>\n",
       "    <tr>\n",
       "      <th>USA</th>\n",
       "      <td>3.439952e+11</td>\n",
       "    </tr>\n",
       "    <tr>\n",
       "      <th>CHN</th>\n",
       "      <td>2.289796e+10</td>\n",
       "    </tr>\n",
       "    <tr>\n",
       "      <th>GBR</th>\n",
       "      <td>1.723388e+10</td>\n",
       "    </tr>\n",
       "    <tr>\n",
       "      <th>IND</th>\n",
       "      <td>1.009985e+10</td>\n",
       "    </tr>\n",
       "    <tr>\n",
       "      <th>CAN</th>\n",
       "      <td>8.791852e+09</td>\n",
       "    </tr>\n",
       "  </tbody>\n",
       "</table>\n",
       "</div>"
      ],
      "text/plain": [
       "              raised_amount_usd\n",
       "country_code                   \n",
       "USA                3.439952e+11\n",
       "CHN                2.289796e+10\n",
       "GBR                1.723388e+10\n",
       "IND                1.009985e+10\n",
       "CAN                8.791852e+09"
      ]
     },
     "execution_count": 64,
     "metadata": {},
     "output_type": "execute_result"
    }
   ],
   "source": [
    "master_frame_by_country_code_df = pd.DataFrame(master_frame_by_country_code[\"raised_amount_usd\"].sum().sort_values(ascending = False))\n",
    "master_frame_by_country_code_df.head()"
   ]
  },
  {
   "cell_type": "code",
   "execution_count": 65,
   "metadata": {},
   "outputs": [
    {
     "data": {
      "text/html": [
       "<div>\n",
       "<style scoped>\n",
       "    .dataframe tbody tr th:only-of-type {\n",
       "        vertical-align: middle;\n",
       "    }\n",
       "\n",
       "    .dataframe tbody tr th {\n",
       "        vertical-align: top;\n",
       "    }\n",
       "\n",
       "    .dataframe thead th {\n",
       "        text-align: right;\n",
       "    }\n",
       "</style>\n",
       "<table border=\"1\" class=\"dataframe\">\n",
       "  <thead>\n",
       "    <tr style=\"text-align: right;\">\n",
       "      <th></th>\n",
       "      <th>raised_amount_usd</th>\n",
       "    </tr>\n",
       "    <tr>\n",
       "      <th>country_code</th>\n",
       "      <th></th>\n",
       "    </tr>\n",
       "  </thead>\n",
       "  <tbody>\n",
       "    <tr>\n",
       "      <th>USA</th>\n",
       "      <td>3.439952e+11</td>\n",
       "    </tr>\n",
       "    <tr>\n",
       "      <th>CHN</th>\n",
       "      <td>2.289796e+10</td>\n",
       "    </tr>\n",
       "    <tr>\n",
       "      <th>GBR</th>\n",
       "      <td>1.723388e+10</td>\n",
       "    </tr>\n",
       "    <tr>\n",
       "      <th>IND</th>\n",
       "      <td>1.009985e+10</td>\n",
       "    </tr>\n",
       "    <tr>\n",
       "      <th>CAN</th>\n",
       "      <td>8.791852e+09</td>\n",
       "    </tr>\n",
       "    <tr>\n",
       "      <th>ISR</th>\n",
       "      <td>6.892978e+09</td>\n",
       "    </tr>\n",
       "    <tr>\n",
       "      <th>DEU</th>\n",
       "      <td>6.097825e+09</td>\n",
       "    </tr>\n",
       "    <tr>\n",
       "      <th>FRA</th>\n",
       "      <td>5.907842e+09</td>\n",
       "    </tr>\n",
       "    <tr>\n",
       "      <th>CHE</th>\n",
       "      <td>2.775583e+09</td>\n",
       "    </tr>\n",
       "  </tbody>\n",
       "</table>\n",
       "</div>"
      ],
      "text/plain": [
       "              raised_amount_usd\n",
       "country_code                   \n",
       "USA                3.439952e+11\n",
       "CHN                2.289796e+10\n",
       "GBR                1.723388e+10\n",
       "IND                1.009985e+10\n",
       "CAN                8.791852e+09\n",
       "ISR                6.892978e+09\n",
       "DEU                6.097825e+09\n",
       "FRA                5.907842e+09\n",
       "CHE                2.775583e+09"
      ]
     },
     "execution_count": 65,
     "metadata": {},
     "output_type": "execute_result"
    }
   ],
   "source": [
    "# Selecting the top 9 countries based on 'raised_amount_usd'\n",
    "master_frame_by_country_code_df[0:9]"
   ]
  },
  {
   "cell_type": "markdown",
   "metadata": {},
   "source": [
    "China (CHN), France (FRA), Germany (DEU), Switzerland (CHE) do NOT have english as its official language."
   ]
  },
  {
   "cell_type": "code",
   "execution_count": 66,
   "metadata": {},
   "outputs": [],
   "source": [
    "# Creating list of english speaking countries\n",
    "english_speaking = pd.DataFrame([\"USA\",\"GBR\",\"IND\",\"CAN\",\"ISR\",\"SGP\",\"IRL\",\"AUS\",\"HKG\"], columns = [\"country_code\"])"
   ]
  },
  {
   "cell_type": "code",
   "execution_count": 67,
   "metadata": {},
   "outputs": [
    {
     "name": "stdout",
     "output_type": "stream",
     "text": [
      "  country_code\n",
      "0          USA\n",
      "1          GBR\n",
      "2          IND\n",
      "3          CAN\n",
      "4          ISR\n",
      "5          SGP\n",
      "6          IRL\n",
      "7          AUS\n",
      "8          HKG\n"
     ]
    }
   ],
   "source": [
    "print(english_speaking)"
   ]
  },
  {
   "cell_type": "code",
   "execution_count": 68,
   "metadata": {},
   "outputs": [
    {
     "data": {
      "text/html": [
       "<div>\n",
       "<style scoped>\n",
       "    .dataframe tbody tr th:only-of-type {\n",
       "        vertical-align: middle;\n",
       "    }\n",
       "\n",
       "    .dataframe tbody tr th {\n",
       "        vertical-align: top;\n",
       "    }\n",
       "\n",
       "    .dataframe thead th {\n",
       "        text-align: right;\n",
       "    }\n",
       "</style>\n",
       "<table border=\"1\" class=\"dataframe\">\n",
       "  <thead>\n",
       "    <tr style=\"text-align: right;\">\n",
       "      <th></th>\n",
       "      <th>country_code</th>\n",
       "      <th>raised_amount_usd</th>\n",
       "    </tr>\n",
       "  </thead>\n",
       "  <tbody>\n",
       "    <tr>\n",
       "      <th>0</th>\n",
       "      <td>USA</td>\n",
       "      <td>3.439952e+11</td>\n",
       "    </tr>\n",
       "    <tr>\n",
       "      <th>1</th>\n",
       "      <td>GBR</td>\n",
       "      <td>1.723388e+10</td>\n",
       "    </tr>\n",
       "    <tr>\n",
       "      <th>2</th>\n",
       "      <td>IND</td>\n",
       "      <td>1.009985e+10</td>\n",
       "    </tr>\n",
       "    <tr>\n",
       "      <th>3</th>\n",
       "      <td>CAN</td>\n",
       "      <td>8.791852e+09</td>\n",
       "    </tr>\n",
       "    <tr>\n",
       "      <th>4</th>\n",
       "      <td>ISR</td>\n",
       "      <td>6.892978e+09</td>\n",
       "    </tr>\n",
       "  </tbody>\n",
       "</table>\n",
       "</div>"
      ],
      "text/plain": [
       "  country_code  raised_amount_usd\n",
       "0          USA       3.439952e+11\n",
       "1          GBR       1.723388e+10\n",
       "2          IND       1.009985e+10\n",
       "3          CAN       8.791852e+09\n",
       "4          ISR       6.892978e+09"
      ]
     },
     "execution_count": 68,
     "metadata": {},
     "output_type": "execute_result"
    }
   ],
   "source": [
    "# Filtering out non-english speaking countries from top 9 countries\n",
    "master_frame_country_english = pd.merge(master_frame_by_country_code_df[0:9], english_speaking, how=\"inner\", on=\"country_code\")\n",
    "master_frame_country_english"
   ]
  },
  {
   "cell_type": "code",
   "execution_count": 69,
   "metadata": {},
   "outputs": [
    {
     "data": {
      "text/html": [
       "<div>\n",
       "<style scoped>\n",
       "    .dataframe tbody tr th:only-of-type {\n",
       "        vertical-align: middle;\n",
       "    }\n",
       "\n",
       "    .dataframe tbody tr th {\n",
       "        vertical-align: top;\n",
       "    }\n",
       "\n",
       "    .dataframe thead th {\n",
       "        text-align: right;\n",
       "    }\n",
       "</style>\n",
       "<table border=\"1\" class=\"dataframe\">\n",
       "  <thead>\n",
       "    <tr style=\"text-align: right;\">\n",
       "      <th></th>\n",
       "      <th>country_code</th>\n",
       "      <th>raised_amount_usd</th>\n",
       "    </tr>\n",
       "  </thead>\n",
       "  <tbody>\n",
       "    <tr>\n",
       "      <th>0</th>\n",
       "      <td>USA</td>\n",
       "      <td>3.439952e+11</td>\n",
       "    </tr>\n",
       "    <tr>\n",
       "      <th>1</th>\n",
       "      <td>GBR</td>\n",
       "      <td>1.723388e+10</td>\n",
       "    </tr>\n",
       "    <tr>\n",
       "      <th>2</th>\n",
       "      <td>IND</td>\n",
       "      <td>1.009985e+10</td>\n",
       "    </tr>\n",
       "  </tbody>\n",
       "</table>\n",
       "</div>"
      ],
      "text/plain": [
       "  country_code  raised_amount_usd\n",
       "0          USA       3.439952e+11\n",
       "1          GBR       1.723388e+10\n",
       "2          IND       1.009985e+10"
      ]
     },
     "execution_count": 69,
     "metadata": {},
     "output_type": "execute_result"
    }
   ],
   "source": [
    "# Selecting the top 3 english speaking countries\n",
    "master_frame_country_english[0:3]"
   ]
  },
  {
   "cell_type": "markdown",
   "metadata": {},
   "source": [
    "# Sector Analysis 1"
   ]
  },
  {
   "cell_type": "markdown",
   "metadata": {},
   "source": [
    "Steps :\n",
    "1. Exploring the mapping file\n",
    "2. Cleaning data of mapping file\n",
    "3. Preparing the data master_frame - adding primary_sector\n",
    "4. Resolving conflicts in data in mapping and master_frame\n",
    "5. Creating a main_sector : primary_sector dictionary from mapping file\n",
    "6. Creating a new data frame containing primary_sector and main_sector \n",
    "7. Merging the new dataframe with master_frame - to add main_sector to master_frame "
   ]
  },
  {
   "cell_type": "code",
   "execution_count": 70,
   "metadata": {
    "scrolled": false
   },
   "outputs": [
    {
     "data": {
      "text/html": [
       "<div>\n",
       "<style scoped>\n",
       "    .dataframe tbody tr th:only-of-type {\n",
       "        vertical-align: middle;\n",
       "    }\n",
       "\n",
       "    .dataframe tbody tr th {\n",
       "        vertical-align: top;\n",
       "    }\n",
       "\n",
       "    .dataframe thead th {\n",
       "        text-align: right;\n",
       "    }\n",
       "</style>\n",
       "<table border=\"1\" class=\"dataframe\">\n",
       "  <thead>\n",
       "    <tr style=\"text-align: right;\">\n",
       "      <th></th>\n",
       "      <th>category_list</th>\n",
       "      <th>Automotive &amp; Sports</th>\n",
       "      <th>Blanks</th>\n",
       "      <th>Cleantech / Semiconductors</th>\n",
       "      <th>Entertainment</th>\n",
       "      <th>Health</th>\n",
       "      <th>Manufacturing</th>\n",
       "      <th>News, Search and Messaging</th>\n",
       "      <th>Others</th>\n",
       "      <th>Social, Finance, Analytics, Advertising</th>\n",
       "    </tr>\n",
       "  </thead>\n",
       "  <tbody>\n",
       "    <tr>\n",
       "      <th>0</th>\n",
       "      <td>NaN</td>\n",
       "      <td>0</td>\n",
       "      <td>1</td>\n",
       "      <td>0</td>\n",
       "      <td>0</td>\n",
       "      <td>0</td>\n",
       "      <td>0</td>\n",
       "      <td>0</td>\n",
       "      <td>0</td>\n",
       "      <td>0</td>\n",
       "    </tr>\n",
       "    <tr>\n",
       "      <th>1</th>\n",
       "      <td>3D</td>\n",
       "      <td>0</td>\n",
       "      <td>0</td>\n",
       "      <td>0</td>\n",
       "      <td>0</td>\n",
       "      <td>0</td>\n",
       "      <td>1</td>\n",
       "      <td>0</td>\n",
       "      <td>0</td>\n",
       "      <td>0</td>\n",
       "    </tr>\n",
       "    <tr>\n",
       "      <th>2</th>\n",
       "      <td>3D Printing</td>\n",
       "      <td>0</td>\n",
       "      <td>0</td>\n",
       "      <td>0</td>\n",
       "      <td>0</td>\n",
       "      <td>0</td>\n",
       "      <td>1</td>\n",
       "      <td>0</td>\n",
       "      <td>0</td>\n",
       "      <td>0</td>\n",
       "    </tr>\n",
       "    <tr>\n",
       "      <th>3</th>\n",
       "      <td>3D Technology</td>\n",
       "      <td>0</td>\n",
       "      <td>0</td>\n",
       "      <td>0</td>\n",
       "      <td>0</td>\n",
       "      <td>0</td>\n",
       "      <td>1</td>\n",
       "      <td>0</td>\n",
       "      <td>0</td>\n",
       "      <td>0</td>\n",
       "    </tr>\n",
       "    <tr>\n",
       "      <th>4</th>\n",
       "      <td>Accounting</td>\n",
       "      <td>0</td>\n",
       "      <td>0</td>\n",
       "      <td>0</td>\n",
       "      <td>0</td>\n",
       "      <td>0</td>\n",
       "      <td>0</td>\n",
       "      <td>0</td>\n",
       "      <td>0</td>\n",
       "      <td>1</td>\n",
       "    </tr>\n",
       "  </tbody>\n",
       "</table>\n",
       "</div>"
      ],
      "text/plain": [
       "   category_list  Automotive & Sports  Blanks  Cleantech / Semiconductors  \\\n",
       "0            NaN                    0       1                           0   \n",
       "1             3D                    0       0                           0   \n",
       "2    3D Printing                    0       0                           0   \n",
       "3  3D Technology                    0       0                           0   \n",
       "4     Accounting                    0       0                           0   \n",
       "\n",
       "   Entertainment  Health  Manufacturing  News, Search and Messaging  Others  \\\n",
       "0              0       0              0                           0       0   \n",
       "1              0       0              1                           0       0   \n",
       "2              0       0              1                           0       0   \n",
       "3              0       0              1                           0       0   \n",
       "4              0       0              0                           0       0   \n",
       "\n",
       "   Social, Finance, Analytics, Advertising  \n",
       "0                                        0  \n",
       "1                                        0  \n",
       "2                                        0  \n",
       "3                                        0  \n",
       "4                                        1  "
      ]
     },
     "execution_count": 70,
     "metadata": {},
     "output_type": "execute_result"
    }
   ],
   "source": [
    "# Understanding the mapping file.\n",
    "mapping_df.head()"
   ]
  },
  {
   "cell_type": "code",
   "execution_count": 71,
   "metadata": {
    "scrolled": false
   },
   "outputs": [
    {
     "data": {
      "text/plain": [
       "Index(['category_list', 'Automotive & Sports', 'Blanks',\n",
       "       'Cleantech / Semiconductors', 'Entertainment', 'Health',\n",
       "       'Manufacturing', 'News, Search and Messaging', 'Others',\n",
       "       'Social, Finance, Analytics, Advertising'],\n",
       "      dtype='object')"
      ]
     },
     "execution_count": 71,
     "metadata": {},
     "output_type": "execute_result"
    }
   ],
   "source": [
    "mapping_df.columns"
   ]
  },
  {
   "cell_type": "code",
   "execution_count": 72,
   "metadata": {
    "scrolled": false
   },
   "outputs": [
    {
     "data": {
      "text/plain": [
       "(688, 10)"
      ]
     },
     "execution_count": 72,
     "metadata": {},
     "output_type": "execute_result"
    }
   ],
   "source": [
    "mapping_df.shape"
   ]
  },
  {
   "cell_type": "code",
   "execution_count": 73,
   "metadata": {
    "scrolled": true
   },
   "outputs": [
    {
     "data": {
      "text/plain": [
       "category_list                              0.15\n",
       "Automotive & Sports                        0.00\n",
       "Blanks                                     0.00\n",
       "Cleantech / Semiconductors                 0.00\n",
       "Entertainment                              0.00\n",
       "Health                                     0.00\n",
       "Manufacturing                              0.00\n",
       "News, Search and Messaging                 0.00\n",
       "Others                                     0.00\n",
       "Social, Finance, Analytics, Advertising    0.00\n",
       "dtype: float64"
      ]
     },
     "execution_count": 73,
     "metadata": {},
     "output_type": "execute_result"
    }
   ],
   "source": [
    "round(100*(mapping_df.isnull().sum()/len(mapping_df.index)),2)"
   ]
  },
  {
   "cell_type": "markdown",
   "metadata": {},
   "source": [
    "#### Cleaning data of mapping file"
   ]
  },
  {
   "cell_type": "code",
   "execution_count": 74,
   "metadata": {
    "scrolled": true
   },
   "outputs": [
    {
     "data": {
      "text/plain": [
       "category_list                              0.0\n",
       "Automotive & Sports                        0.0\n",
       "Blanks                                     0.0\n",
       "Cleantech / Semiconductors                 0.0\n",
       "Entertainment                              0.0\n",
       "Health                                     0.0\n",
       "Manufacturing                              0.0\n",
       "News, Search and Messaging                 0.0\n",
       "Others                                     0.0\n",
       "Social, Finance, Analytics, Advertising    0.0\n",
       "dtype: float64"
      ]
     },
     "execution_count": 74,
     "metadata": {},
     "output_type": "execute_result"
    }
   ],
   "source": [
    "# removing NaNs in category_list\n",
    "mapping_df = mapping_df[~mapping_df.category_list.isnull() ]\n",
    "round(100*(mapping_df.isnull().sum()/len(mapping_df.index)),2)"
   ]
  },
  {
   "cell_type": "code",
   "execution_count": 75,
   "metadata": {},
   "outputs": [
    {
     "data": {
      "text/plain": [
       "(687, 10)"
      ]
     },
     "execution_count": 75,
     "metadata": {},
     "output_type": "execute_result"
    }
   ],
   "source": [
    "mapping_df.shape"
   ]
  },
  {
   "cell_type": "markdown",
   "metadata": {},
   "source": [
    "Hence 1 row containing NaN as category_list has been removed."
   ]
  },
  {
   "cell_type": "code",
   "execution_count": 76,
   "metadata": {},
   "outputs": [
    {
     "data": {
      "text/html": [
       "<div>\n",
       "<style scoped>\n",
       "    .dataframe tbody tr th:only-of-type {\n",
       "        vertical-align: middle;\n",
       "    }\n",
       "\n",
       "    .dataframe tbody tr th {\n",
       "        vertical-align: top;\n",
       "    }\n",
       "\n",
       "    .dataframe thead th {\n",
       "        text-align: right;\n",
       "    }\n",
       "</style>\n",
       "<table border=\"1\" class=\"dataframe\">\n",
       "  <thead>\n",
       "    <tr style=\"text-align: right;\">\n",
       "      <th></th>\n",
       "      <th>category_list</th>\n",
       "      <th>Automotive &amp; Sports</th>\n",
       "      <th>Blanks</th>\n",
       "      <th>Cleantech / Semiconductors</th>\n",
       "      <th>Entertainment</th>\n",
       "      <th>Health</th>\n",
       "      <th>Manufacturing</th>\n",
       "      <th>News, Search and Messaging</th>\n",
       "      <th>Others</th>\n",
       "      <th>Social, Finance, Analytics, Advertising</th>\n",
       "    </tr>\n",
       "  </thead>\n",
       "  <tbody>\n",
       "    <tr>\n",
       "      <th>1</th>\n",
       "      <td>3d</td>\n",
       "      <td>0</td>\n",
       "      <td>0</td>\n",
       "      <td>0</td>\n",
       "      <td>0</td>\n",
       "      <td>0</td>\n",
       "      <td>1</td>\n",
       "      <td>0</td>\n",
       "      <td>0</td>\n",
       "      <td>0</td>\n",
       "    </tr>\n",
       "    <tr>\n",
       "      <th>2</th>\n",
       "      <td>3d printing</td>\n",
       "      <td>0</td>\n",
       "      <td>0</td>\n",
       "      <td>0</td>\n",
       "      <td>0</td>\n",
       "      <td>0</td>\n",
       "      <td>1</td>\n",
       "      <td>0</td>\n",
       "      <td>0</td>\n",
       "      <td>0</td>\n",
       "    </tr>\n",
       "    <tr>\n",
       "      <th>3</th>\n",
       "      <td>3d technology</td>\n",
       "      <td>0</td>\n",
       "      <td>0</td>\n",
       "      <td>0</td>\n",
       "      <td>0</td>\n",
       "      <td>0</td>\n",
       "      <td>1</td>\n",
       "      <td>0</td>\n",
       "      <td>0</td>\n",
       "      <td>0</td>\n",
       "    </tr>\n",
       "    <tr>\n",
       "      <th>4</th>\n",
       "      <td>accounting</td>\n",
       "      <td>0</td>\n",
       "      <td>0</td>\n",
       "      <td>0</td>\n",
       "      <td>0</td>\n",
       "      <td>0</td>\n",
       "      <td>0</td>\n",
       "      <td>0</td>\n",
       "      <td>0</td>\n",
       "      <td>1</td>\n",
       "    </tr>\n",
       "    <tr>\n",
       "      <th>5</th>\n",
       "      <td>active lifestyle</td>\n",
       "      <td>0</td>\n",
       "      <td>0</td>\n",
       "      <td>0</td>\n",
       "      <td>0</td>\n",
       "      <td>1</td>\n",
       "      <td>0</td>\n",
       "      <td>0</td>\n",
       "      <td>0</td>\n",
       "      <td>0</td>\n",
       "    </tr>\n",
       "  </tbody>\n",
       "</table>\n",
       "</div>"
      ],
      "text/plain": [
       "      category_list  Automotive & Sports  Blanks  Cleantech / Semiconductors  \\\n",
       "1                3d                    0       0                           0   \n",
       "2       3d printing                    0       0                           0   \n",
       "3     3d technology                    0       0                           0   \n",
       "4        accounting                    0       0                           0   \n",
       "5  active lifestyle                    0       0                           0   \n",
       "\n",
       "   Entertainment  Health  Manufacturing  News, Search and Messaging  Others  \\\n",
       "1              0       0              1                           0       0   \n",
       "2              0       0              1                           0       0   \n",
       "3              0       0              1                           0       0   \n",
       "4              0       0              0                           0       0   \n",
       "5              0       1              0                           0       0   \n",
       "\n",
       "   Social, Finance, Analytics, Advertising  \n",
       "1                                        0  \n",
       "2                                        0  \n",
       "3                                        0  \n",
       "4                                        1  \n",
       "5                                        0  "
      ]
     },
     "execution_count": 76,
     "metadata": {},
     "output_type": "execute_result"
    }
   ],
   "source": [
    "# Converting all categories to lower case for consistency\n",
    "mapping_df[\"category_list\"] = mapping_df[\"category_list\"].apply(lambda x: x.lower())\n",
    "mapping_df.head()"
   ]
  },
  {
   "cell_type": "markdown",
   "metadata": {},
   "source": [
    "#### Cleaning and manipulating master_frame :"
   ]
  },
  {
   "cell_type": "markdown",
   "metadata": {},
   "source": [
    "Steps :\n",
    "\n",
    "1. Impute category_list\n",
    "\n",
    "2. Adding primary_sector to master_frame\n",
    "\n",
    "3. manipulating data in primary_sector column of master_frame"
   ]
  },
  {
   "cell_type": "code",
   "execution_count": 77,
   "metadata": {
    "scrolled": true
   },
   "outputs": [
    {
     "data": {
      "text/html": [
       "<div>\n",
       "<style scoped>\n",
       "    .dataframe tbody tr th:only-of-type {\n",
       "        vertical-align: middle;\n",
       "    }\n",
       "\n",
       "    .dataframe tbody tr th {\n",
       "        vertical-align: top;\n",
       "    }\n",
       "\n",
       "    .dataframe thead tr th {\n",
       "        text-align: left;\n",
       "    }\n",
       "\n",
       "    .dataframe thead tr:last-of-type th {\n",
       "        text-align: right;\n",
       "    }\n",
       "</style>\n",
       "<table border=\"1\" class=\"dataframe\">\n",
       "  <thead>\n",
       "    <tr>\n",
       "      <th></th>\n",
       "      <th>count</th>\n",
       "    </tr>\n",
       "    <tr>\n",
       "      <th></th>\n",
       "      <th>raised_amount_usd</th>\n",
       "    </tr>\n",
       "    <tr>\n",
       "      <th>category_list</th>\n",
       "      <th></th>\n",
       "    </tr>\n",
       "  </thead>\n",
       "  <tbody>\n",
       "    <tr>\n",
       "      <th>Biotechnology</th>\n",
       "      <td>5227</td>\n",
       "    </tr>\n",
       "    <tr>\n",
       "      <th>Software</th>\n",
       "      <td>3887</td>\n",
       "    </tr>\n",
       "    <tr>\n",
       "      <th>Health Care</th>\n",
       "      <td>1317</td>\n",
       "    </tr>\n",
       "    <tr>\n",
       "      <th>Clean Technology</th>\n",
       "      <td>1254</td>\n",
       "    </tr>\n",
       "    <tr>\n",
       "      <th>Mobile</th>\n",
       "      <td>1167</td>\n",
       "    </tr>\n",
       "  </tbody>\n",
       "</table>\n",
       "</div>"
      ],
      "text/plain": [
       "                             count\n",
       "                 raised_amount_usd\n",
       "category_list                     \n",
       "Biotechnology                 5227\n",
       "Software                      3887\n",
       "Health Care                   1317\n",
       "Clean Technology              1254\n",
       "Mobile                        1167"
      ]
     },
     "execution_count": 77,
     "metadata": {},
     "output_type": "execute_result"
    }
   ],
   "source": [
    "# Understanding the category_list\n",
    "# Probing the value that can be imputed\n",
    "master_frame.pivot_table(values = \"raised_amount_usd\", index = \"category_list\", aggfunc = [\"count\"]).sort_values(('count','raised_amount_usd'), ascending=False).head()\n"
   ]
  },
  {
   "cell_type": "markdown",
   "metadata": {},
   "source": [
    "We can see that Biotechnology has the highest occurences (10% of category_list), which is significantly higher than the frequency of other categories.\n",
    "\n",
    "Thus we can safely impute the value of missing categories as Biotechnology."
   ]
  },
  {
   "cell_type": "code",
   "execution_count": 78,
   "metadata": {},
   "outputs": [
    {
     "data": {
      "text/plain": [
       "(50449, 9)"
      ]
     },
     "execution_count": 78,
     "metadata": {},
     "output_type": "execute_result"
    }
   ],
   "source": [
    "# Out of the total almost 10% of dataset has Biotechnology as the category\n",
    "master_frame.shape"
   ]
  },
  {
   "cell_type": "code",
   "execution_count": 79,
   "metadata": {
    "scrolled": true
   },
   "outputs": [
    {
     "data": {
      "text/plain": [
       "permalink                  0.0\n",
       "name                       0.0\n",
       "category_list              0.0\n",
       "status                     0.0\n",
       "country_code               0.0\n",
       "funding_round_permalink    0.0\n",
       "funding_round_type         0.0\n",
       "funded_at                  0.0\n",
       "raised_amount_usd          0.0\n",
       "dtype: float64"
      ]
     },
     "execution_count": 79,
     "metadata": {},
     "output_type": "execute_result"
    }
   ],
   "source": [
    "# Imputting the missing values of category_list with \"Biotechnology\"\n",
    "master_frame.loc[pd.isnull(master_frame[\"category_list\"]), [\"category_list\"]] = \"Biotechnology\"\n",
    "round(100*(master_frame.isnull().sum()/len(master_frame.index)),2)"
   ]
  },
  {
   "cell_type": "code",
   "execution_count": 80,
   "metadata": {
    "scrolled": true
   },
   "outputs": [
    {
     "data": {
      "text/html": [
       "<div>\n",
       "<style scoped>\n",
       "    .dataframe tbody tr th:only-of-type {\n",
       "        vertical-align: middle;\n",
       "    }\n",
       "\n",
       "    .dataframe tbody tr th {\n",
       "        vertical-align: top;\n",
       "    }\n",
       "\n",
       "    .dataframe thead th {\n",
       "        text-align: right;\n",
       "    }\n",
       "</style>\n",
       "<table border=\"1\" class=\"dataframe\">\n",
       "  <thead>\n",
       "    <tr style=\"text-align: right;\">\n",
       "      <th></th>\n",
       "      <th>permalink</th>\n",
       "      <th>name</th>\n",
       "      <th>category_list</th>\n",
       "      <th>status</th>\n",
       "      <th>country_code</th>\n",
       "      <th>funding_round_permalink</th>\n",
       "      <th>funding_round_type</th>\n",
       "      <th>funded_at</th>\n",
       "      <th>raised_amount_usd</th>\n",
       "      <th>primary_sector</th>\n",
       "    </tr>\n",
       "  </thead>\n",
       "  <tbody>\n",
       "    <tr>\n",
       "      <th>0</th>\n",
       "      <td>/organization/-fame</td>\n",
       "      <td>#fame</td>\n",
       "      <td>Media</td>\n",
       "      <td>operating</td>\n",
       "      <td>IND</td>\n",
       "      <td>/funding-round/9a01d05418af9f794eebff7ace91f638</td>\n",
       "      <td>venture</td>\n",
       "      <td>05-01-2015</td>\n",
       "      <td>10000000.0</td>\n",
       "      <td>Media</td>\n",
       "    </tr>\n",
       "    <tr>\n",
       "      <th>1</th>\n",
       "      <td>/organization/-qounter</td>\n",
       "      <td>:Qounter</td>\n",
       "      <td>Application Platforms|Real Time|Social Network...</td>\n",
       "      <td>operating</td>\n",
       "      <td>USA</td>\n",
       "      <td>/funding-round/22dacff496eb7acb2b901dec1dfe5633</td>\n",
       "      <td>venture</td>\n",
       "      <td>14-10-2014</td>\n",
       "      <td>5000000.0</td>\n",
       "      <td>Application Platforms</td>\n",
       "    </tr>\n",
       "    <tr>\n",
       "      <th>3</th>\n",
       "      <td>/organization/-the-one-of-them-inc-</td>\n",
       "      <td>(THE) ONE of THEM,Inc.</td>\n",
       "      <td>Apps|Games|Mobile</td>\n",
       "      <td>operating</td>\n",
       "      <td>USA</td>\n",
       "      <td>/funding-round/650b8f704416801069bb178a1418776b</td>\n",
       "      <td>venture</td>\n",
       "      <td>30-01-2014</td>\n",
       "      <td>3406878.0</td>\n",
       "      <td>Apps</td>\n",
       "    </tr>\n",
       "    <tr>\n",
       "      <th>4</th>\n",
       "      <td>/organization/0-6-com</td>\n",
       "      <td>0-6.com</td>\n",
       "      <td>Curated Web</td>\n",
       "      <td>operating</td>\n",
       "      <td>CHN</td>\n",
       "      <td>/funding-round/5727accaeaa57461bd22a9bdd945382d</td>\n",
       "      <td>venture</td>\n",
       "      <td>19-03-2008</td>\n",
       "      <td>2000000.0</td>\n",
       "      <td>Curated Web</td>\n",
       "    </tr>\n",
       "    <tr>\n",
       "      <th>5</th>\n",
       "      <td>/organization/004-technologies</td>\n",
       "      <td>004 Technologies</td>\n",
       "      <td>Software</td>\n",
       "      <td>operating</td>\n",
       "      <td>USA</td>\n",
       "      <td>/funding-round/1278dd4e6a37fa4b7d7e06c21b3c1830</td>\n",
       "      <td>venture</td>\n",
       "      <td>24-07-2014</td>\n",
       "      <td>5000000.0</td>\n",
       "      <td>Software</td>\n",
       "    </tr>\n",
       "  </tbody>\n",
       "</table>\n",
       "</div>"
      ],
      "text/plain": [
       "                             permalink                    name  \\\n",
       "0                  /organization/-fame                   #fame   \n",
       "1               /organization/-qounter                :Qounter   \n",
       "3  /organization/-the-one-of-them-inc-  (THE) ONE of THEM,Inc.   \n",
       "4                /organization/0-6-com                 0-6.com   \n",
       "5       /organization/004-technologies        004 Technologies   \n",
       "\n",
       "                                       category_list     status country_code  \\\n",
       "0                                              Media  operating          IND   \n",
       "1  Application Platforms|Real Time|Social Network...  operating          USA   \n",
       "3                                  Apps|Games|Mobile  operating          USA   \n",
       "4                                        Curated Web  operating          CHN   \n",
       "5                                           Software  operating          USA   \n",
       "\n",
       "                           funding_round_permalink funding_round_type  \\\n",
       "0  /funding-round/9a01d05418af9f794eebff7ace91f638            venture   \n",
       "1  /funding-round/22dacff496eb7acb2b901dec1dfe5633            venture   \n",
       "3  /funding-round/650b8f704416801069bb178a1418776b            venture   \n",
       "4  /funding-round/5727accaeaa57461bd22a9bdd945382d            venture   \n",
       "5  /funding-round/1278dd4e6a37fa4b7d7e06c21b3c1830            venture   \n",
       "\n",
       "    funded_at  raised_amount_usd         primary_sector  \n",
       "0  05-01-2015         10000000.0                  Media  \n",
       "1  14-10-2014          5000000.0  Application Platforms  \n",
       "3  30-01-2014          3406878.0                   Apps  \n",
       "4  19-03-2008          2000000.0            Curated Web  \n",
       "5  24-07-2014          5000000.0               Software  "
      ]
     },
     "execution_count": 80,
     "metadata": {},
     "output_type": "execute_result"
    }
   ],
   "source": [
    "# Adding the primary sector column to master_frame\n",
    "master_frame[\"primary_sector\"] = master_frame[\"category_list\"].apply(lambda x:x if (x.find('|')==-1) else x[0:x.find(\"|\")])\n",
    "master_frame.head()"
   ]
  },
  {
   "cell_type": "code",
   "execution_count": 81,
   "metadata": {
    "scrolled": true
   },
   "outputs": [
    {
     "data": {
      "text/html": [
       "<div>\n",
       "<style scoped>\n",
       "    .dataframe tbody tr th:only-of-type {\n",
       "        vertical-align: middle;\n",
       "    }\n",
       "\n",
       "    .dataframe tbody tr th {\n",
       "        vertical-align: top;\n",
       "    }\n",
       "\n",
       "    .dataframe thead th {\n",
       "        text-align: right;\n",
       "    }\n",
       "</style>\n",
       "<table border=\"1\" class=\"dataframe\">\n",
       "  <thead>\n",
       "    <tr style=\"text-align: right;\">\n",
       "      <th></th>\n",
       "      <th>permalink</th>\n",
       "      <th>name</th>\n",
       "      <th>category_list</th>\n",
       "      <th>status</th>\n",
       "      <th>country_code</th>\n",
       "      <th>funding_round_permalink</th>\n",
       "      <th>funding_round_type</th>\n",
       "      <th>funded_at</th>\n",
       "      <th>raised_amount_usd</th>\n",
       "      <th>primary_sector</th>\n",
       "    </tr>\n",
       "  </thead>\n",
       "  <tbody>\n",
       "    <tr>\n",
       "      <th>0</th>\n",
       "      <td>/organization/-fame</td>\n",
       "      <td>#fame</td>\n",
       "      <td>Media</td>\n",
       "      <td>operating</td>\n",
       "      <td>IND</td>\n",
       "      <td>/funding-round/9a01d05418af9f794eebff7ace91f638</td>\n",
       "      <td>venture</td>\n",
       "      <td>05-01-2015</td>\n",
       "      <td>10000000.0</td>\n",
       "      <td>media</td>\n",
       "    </tr>\n",
       "    <tr>\n",
       "      <th>1</th>\n",
       "      <td>/organization/-qounter</td>\n",
       "      <td>:Qounter</td>\n",
       "      <td>Application Platforms|Real Time|Social Network...</td>\n",
       "      <td>operating</td>\n",
       "      <td>USA</td>\n",
       "      <td>/funding-round/22dacff496eb7acb2b901dec1dfe5633</td>\n",
       "      <td>venture</td>\n",
       "      <td>14-10-2014</td>\n",
       "      <td>5000000.0</td>\n",
       "      <td>application platforms</td>\n",
       "    </tr>\n",
       "    <tr>\n",
       "      <th>3</th>\n",
       "      <td>/organization/-the-one-of-them-inc-</td>\n",
       "      <td>(THE) ONE of THEM,Inc.</td>\n",
       "      <td>Apps|Games|Mobile</td>\n",
       "      <td>operating</td>\n",
       "      <td>USA</td>\n",
       "      <td>/funding-round/650b8f704416801069bb178a1418776b</td>\n",
       "      <td>venture</td>\n",
       "      <td>30-01-2014</td>\n",
       "      <td>3406878.0</td>\n",
       "      <td>apps</td>\n",
       "    </tr>\n",
       "    <tr>\n",
       "      <th>4</th>\n",
       "      <td>/organization/0-6-com</td>\n",
       "      <td>0-6.com</td>\n",
       "      <td>Curated Web</td>\n",
       "      <td>operating</td>\n",
       "      <td>CHN</td>\n",
       "      <td>/funding-round/5727accaeaa57461bd22a9bdd945382d</td>\n",
       "      <td>venture</td>\n",
       "      <td>19-03-2008</td>\n",
       "      <td>2000000.0</td>\n",
       "      <td>curated web</td>\n",
       "    </tr>\n",
       "    <tr>\n",
       "      <th>5</th>\n",
       "      <td>/organization/004-technologies</td>\n",
       "      <td>004 Technologies</td>\n",
       "      <td>Software</td>\n",
       "      <td>operating</td>\n",
       "      <td>USA</td>\n",
       "      <td>/funding-round/1278dd4e6a37fa4b7d7e06c21b3c1830</td>\n",
       "      <td>venture</td>\n",
       "      <td>24-07-2014</td>\n",
       "      <td>5000000.0</td>\n",
       "      <td>software</td>\n",
       "    </tr>\n",
       "  </tbody>\n",
       "</table>\n",
       "</div>"
      ],
      "text/plain": [
       "                             permalink                    name  \\\n",
       "0                  /organization/-fame                   #fame   \n",
       "1               /organization/-qounter                :Qounter   \n",
       "3  /organization/-the-one-of-them-inc-  (THE) ONE of THEM,Inc.   \n",
       "4                /organization/0-6-com                 0-6.com   \n",
       "5       /organization/004-technologies        004 Technologies   \n",
       "\n",
       "                                       category_list     status country_code  \\\n",
       "0                                              Media  operating          IND   \n",
       "1  Application Platforms|Real Time|Social Network...  operating          USA   \n",
       "3                                  Apps|Games|Mobile  operating          USA   \n",
       "4                                        Curated Web  operating          CHN   \n",
       "5                                           Software  operating          USA   \n",
       "\n",
       "                           funding_round_permalink funding_round_type  \\\n",
       "0  /funding-round/9a01d05418af9f794eebff7ace91f638            venture   \n",
       "1  /funding-round/22dacff496eb7acb2b901dec1dfe5633            venture   \n",
       "3  /funding-round/650b8f704416801069bb178a1418776b            venture   \n",
       "4  /funding-round/5727accaeaa57461bd22a9bdd945382d            venture   \n",
       "5  /funding-round/1278dd4e6a37fa4b7d7e06c21b3c1830            venture   \n",
       "\n",
       "    funded_at  raised_amount_usd         primary_sector  \n",
       "0  05-01-2015         10000000.0                  media  \n",
       "1  14-10-2014          5000000.0  application platforms  \n",
       "3  30-01-2014          3406878.0                   apps  \n",
       "4  19-03-2008          2000000.0            curated web  \n",
       "5  24-07-2014          5000000.0               software  "
      ]
     },
     "execution_count": 81,
     "metadata": {},
     "output_type": "execute_result"
    }
   ],
   "source": [
    "# Manipulating data in primary sector, so that it can be compared with mapping file category_list\n",
    "\n",
    "master_frame[\"primary_sector\"] = master_frame[\"primary_sector\"].apply(lambda x: x.lower())\n",
    "master_frame.head()"
   ]
  },
  {
   "cell_type": "code",
   "execution_count": 82,
   "metadata": {
    "scrolled": true
   },
   "outputs": [
    {
     "name": "stdout",
     "output_type": "stream",
     "text": [
      "['adaptive equipment', 'alternative medicine', 'analytics', 'big data analytics', 'biotechnology and semiconductor', 'business analytics', 'cannabis', 'career management', 'china internet', 'cloud management', 'contact management', 'digital rights management', 'digital signage', 'document management', 'educational games', 'energy management', 'enterprise hardware', 'event management', 'finance', 'finance technology', 'financial exchanges', 'financial services', 'fleet management', 'governance', 'greentech', 'identity management', 'innovation management', 'intellectual asset management', 'investment management', 'it management', 'journalism', 'knowledge management', 'lead management', 'mobile analytics', 'nanotechnology', 'natural gas uses', 'natural language processing', 'natural resources', 'navigation', 'personal finance', 'personalization', 'predictive analytics', 'professional networking', 'professional services', 'project management', 'promotional', 'property management', 'rapidly expanding', 'risk management', 'supply chain management', 'task management', 'waste management']\n"
     ]
    }
   ],
   "source": [
    "# Comparing the data in 2 dataframes to understand if there are any conflicts\n",
    "\n",
    "e = set(list(master_frame[\"primary_sector\"])).difference(set(list(mapping_df[\"category_list\"])))\n",
    "print(sorted(e))"
   ]
  },
  {
   "cell_type": "code",
   "execution_count": 83,
   "metadata": {},
   "outputs": [
    {
     "name": "stdout",
     "output_type": "stream",
     "text": [
      "['0notechnology', '0tural language processing', '0tural resources', '0vigation', 'a0lytics', 'alter0tive medicine', 'anything capital intensive', 'aquaculture', 'baby boomers', 'baby safety', 'big data a0lytics', 'biomass power generation', 'boating industry', 'building owners', 'business a0lytics', 'can0bis', 'career ma0gement', 'casual games', 'charities', 'chi0 internet', 'cloud ma0gement', 'cloud-based music', 'contact ma0gement', 'custom retail', 'digital rights ma0gement', 'digital sig0ge', 'direct advertising', 'document ma0gement', 'educatio0l games', 'email newsletters', 'energy ma0gement', 'energy storage', 'event ma0gement', 'farmers market', 'fi0nce', 'fi0nce technology', 'fi0ncial exchanges', 'fi0ncial services', 'field support services', 'film distribution', 'flash sales', 'fleet ma0gement', 'flowers', 'fmcg', 'forums', 'fuel cells', 'funeral industry', 'gay & lesbian', 'gift registries', 'gover0nce', 'green', 'group buying', 'handmade', 'hedge funds', 'home owners', 'homeless shelter', 'iaas', 'ict', 'identity ma0gement', 'impact investing', 'indians', 'innovation ma0gement', 'intellectual asset ma0gement', 'investment ma0gement', 'it ma0gement', 'jour0lism', 'k-12 education', 'knowledge ma0gement', 'landscaping', 'lead ma0gement', 'lifestyle products', 'low bid auctions', 'match-making', 'medical professio0ls', 'micro-enterprises', 'minerals', 'mobile a0lytics', 'mobile social', 'mobile video', 'monetization', 'moneymaking', 'multi-level marketing', 'music services', 'musicians', 'organic', 'performance marketing', 'perso0l branding', 'perso0l data', 'perso0l fi0nce', 'perso0l health', 'perso0lization', 'pervasive computing', 'photo editing', 'postal and courier services', 'predictive a0lytics', 'private social networking', 'productivity', 'professio0l networking', 'professio0l services', 'project ma0gement', 'promotio0l', 'property ma0gement', 'q&a', 'realtors', 'renewable tech', 'risk ma0gement', 'senior citizens', 'shoes', 'smart grid', 'social media ma0gement', 'social media platforms', 'social recruiting', 'speech recognition', 'subscription service', 'supply chain ma0gement', 'task ma0gement', 'universities', 'university students', 'unmanned air systems', 'usability', 'user experience design', 'vending and concessions', 'veteri0ry', 'waste ma0gement', 'wholesale', 'women', 'young adults']\n"
     ]
    }
   ],
   "source": [
    "d = set(list(mapping_df[\"category_list\"])).difference(set(list(master_frame[\"primary_sector\"])))\n",
    "print(sorted(d))"
   ]
  },
  {
   "cell_type": "markdown",
   "metadata": {},
   "source": [
    "It can be seen from above output, that some sectors are missing in the mapping file.\n",
    "\n",
    "On a closer look, it can be observed that for some sectors in mapping file, 'na' has been replaced by 0.\n",
    "\n",
    "Hence, going to clean the data in mapping file and then re-check."
   ]
  },
  {
   "cell_type": "code",
   "execution_count": 84,
   "metadata": {},
   "outputs": [],
   "source": [
    "mapping_df[\"category_list\"] = mapping_df[\"category_list\"].str.replace(\"0\",\"na\")"
   ]
  },
  {
   "cell_type": "code",
   "execution_count": 85,
   "metadata": {
    "scrolled": true
   },
   "outputs": [
    {
     "data": {
      "text/html": [
       "<div>\n",
       "<style scoped>\n",
       "    .dataframe tbody tr th:only-of-type {\n",
       "        vertical-align: middle;\n",
       "    }\n",
       "\n",
       "    .dataframe tbody tr th {\n",
       "        vertical-align: top;\n",
       "    }\n",
       "\n",
       "    .dataframe thead th {\n",
       "        text-align: right;\n",
       "    }\n",
       "</style>\n",
       "<table border=\"1\" class=\"dataframe\">\n",
       "  <thead>\n",
       "    <tr style=\"text-align: right;\">\n",
       "      <th></th>\n",
       "      <th>category_list</th>\n",
       "      <th>Automotive &amp; Sports</th>\n",
       "      <th>Blanks</th>\n",
       "      <th>Cleantech / Semiconductors</th>\n",
       "      <th>Entertainment</th>\n",
       "      <th>Health</th>\n",
       "      <th>Manufacturing</th>\n",
       "      <th>News, Search and Messaging</th>\n",
       "      <th>Others</th>\n",
       "      <th>Social, Finance, Analytics, Advertising</th>\n",
       "    </tr>\n",
       "  </thead>\n",
       "  <tbody>\n",
       "    <tr>\n",
       "      <th>1</th>\n",
       "      <td>3d</td>\n",
       "      <td>0</td>\n",
       "      <td>0</td>\n",
       "      <td>0</td>\n",
       "      <td>0</td>\n",
       "      <td>0</td>\n",
       "      <td>1</td>\n",
       "      <td>0</td>\n",
       "      <td>0</td>\n",
       "      <td>0</td>\n",
       "    </tr>\n",
       "    <tr>\n",
       "      <th>2</th>\n",
       "      <td>3d printing</td>\n",
       "      <td>0</td>\n",
       "      <td>0</td>\n",
       "      <td>0</td>\n",
       "      <td>0</td>\n",
       "      <td>0</td>\n",
       "      <td>1</td>\n",
       "      <td>0</td>\n",
       "      <td>0</td>\n",
       "      <td>0</td>\n",
       "    </tr>\n",
       "    <tr>\n",
       "      <th>3</th>\n",
       "      <td>3d technology</td>\n",
       "      <td>0</td>\n",
       "      <td>0</td>\n",
       "      <td>0</td>\n",
       "      <td>0</td>\n",
       "      <td>0</td>\n",
       "      <td>1</td>\n",
       "      <td>0</td>\n",
       "      <td>0</td>\n",
       "      <td>0</td>\n",
       "    </tr>\n",
       "    <tr>\n",
       "      <th>4</th>\n",
       "      <td>accounting</td>\n",
       "      <td>0</td>\n",
       "      <td>0</td>\n",
       "      <td>0</td>\n",
       "      <td>0</td>\n",
       "      <td>0</td>\n",
       "      <td>0</td>\n",
       "      <td>0</td>\n",
       "      <td>0</td>\n",
       "      <td>1</td>\n",
       "    </tr>\n",
       "    <tr>\n",
       "      <th>5</th>\n",
       "      <td>active lifestyle</td>\n",
       "      <td>0</td>\n",
       "      <td>0</td>\n",
       "      <td>0</td>\n",
       "      <td>0</td>\n",
       "      <td>1</td>\n",
       "      <td>0</td>\n",
       "      <td>0</td>\n",
       "      <td>0</td>\n",
       "      <td>0</td>\n",
       "    </tr>\n",
       "  </tbody>\n",
       "</table>\n",
       "</div>"
      ],
      "text/plain": [
       "      category_list  Automotive & Sports  Blanks  Cleantech / Semiconductors  \\\n",
       "1                3d                    0       0                           0   \n",
       "2       3d printing                    0       0                           0   \n",
       "3     3d technology                    0       0                           0   \n",
       "4        accounting                    0       0                           0   \n",
       "5  active lifestyle                    0       0                           0   \n",
       "\n",
       "   Entertainment  Health  Manufacturing  News, Search and Messaging  Others  \\\n",
       "1              0       0              1                           0       0   \n",
       "2              0       0              1                           0       0   \n",
       "3              0       0              1                           0       0   \n",
       "4              0       0              0                           0       0   \n",
       "5              0       1              0                           0       0   \n",
       "\n",
       "   Social, Finance, Analytics, Advertising  \n",
       "1                                        0  \n",
       "2                                        0  \n",
       "3                                        0  \n",
       "4                                        1  \n",
       "5                                        0  "
      ]
     },
     "execution_count": 85,
     "metadata": {},
     "output_type": "execute_result"
    }
   ],
   "source": [
    "mapping_df.head()"
   ]
  },
  {
   "cell_type": "code",
   "execution_count": 86,
   "metadata": {},
   "outputs": [
    {
     "name": "stdout",
     "output_type": "stream",
     "text": [
      "['adaptive equipment', 'biotechnology and semiconductor', 'enterprise 2.0', 'enterprise hardware', 'greentech', 'natural gas uses', 'rapidly expanding']\n"
     ]
    }
   ],
   "source": [
    "mapping_category_list = [x for x in list(mapping_df[\"category_list\"])]\n",
    "master_frame_primary_sector_list = [x for x in list(master_frame[\"primary_sector\"]) ]\n",
    "\n",
    "e = set(master_frame_primary_sector_list).difference(set(mapping_category_list))\n",
    "print(sorted(e))"
   ]
  },
  {
   "cell_type": "markdown",
   "metadata": {},
   "source": [
    "The number of mismatch has reduced !\n",
    "\n",
    "Due to replacement of 0 by na - \"enterprise 2.0\" in mapping file has also changed to \"enterprise 2.na\" - Rectifying that first"
   ]
  },
  {
   "cell_type": "code",
   "execution_count": 87,
   "metadata": {},
   "outputs": [],
   "source": [
    "mapping_df[\"category_list\"] = mapping_df[\"category_list\"].str.replace(\"enterprise 2.na\",\"enterprise 2.0\")"
   ]
  },
  {
   "cell_type": "code",
   "execution_count": 88,
   "metadata": {},
   "outputs": [
    {
     "name": "stdout",
     "output_type": "stream",
     "text": [
      "['adaptive equipment', 'biotechnology and semiconductor', 'enterprise hardware', 'greentech', 'natural gas uses', 'rapidly expanding']\n"
     ]
    }
   ],
   "source": [
    "mapping_category_list = [x for x in list(mapping_df[\"category_list\"])]\n",
    "master_frame_primary_sector_list = [x for x in list(master_frame[\"primary_sector\"]) ]\n",
    "\n",
    "e = set(master_frame_primary_sector_list).difference(set(mapping_category_list))\n",
    "print(sorted(e))"
   ]
  },
  {
   "cell_type": "markdown",
   "metadata": {},
   "source": [
    "Since 'adaptive equipment', 'biotechnology and semiconductor', 'enterprise hardware', 'greentech', 'natural gas uses', 'rapidly expanding' categories in master_frame are missing in the mapping file, I will be adding these to Blanks category of main sector for conducting Sector Analysis."
   ]
  },
  {
   "cell_type": "markdown",
   "metadata": {},
   "source": [
    "#### The Sector dictionary would have a mapping of main_sector and primary_sector"
   ]
  },
  {
   "cell_type": "code",
   "execution_count": 89,
   "metadata": {},
   "outputs": [],
   "source": [
    "sector_dict = { 'Automotive & Sports' : [],\n",
    "                'Blanks' : [],\n",
    "                'Cleantech / Semiconductors' : [],\n",
    "                'Entertainment' : [],\n",
    "                'Health' : [],\n",
    "                'Manufacturing' : [],\n",
    "                'News, Search and Messaging' : [],\n",
    "                'Others' : [],\n",
    "                'Social, Finance, Analytics, Advertising' : []\n",
    "              }"
   ]
  },
  {
   "cell_type": "code",
   "execution_count": 90,
   "metadata": {},
   "outputs": [],
   "source": [
    "sector_dict[\"Blanks\"].append('adaptive equipment')\n",
    "sector_dict[\"Blanks\"].append('biotechnology and semiconductor') \n",
    "sector_dict[\"Blanks\"].append('greentech')\n",
    "sector_dict[\"Blanks\"].append('enterprise hardware')\n",
    "sector_dict[\"Blanks\"].append('natural gas uses')\n",
    "sector_dict[\"Blanks\"].append('rapidly expanding')"
   ]
  },
  {
   "cell_type": "code",
   "execution_count": 91,
   "metadata": {},
   "outputs": [
    {
     "data": {
      "text/plain": [
       "{'Automotive & Sports': [],\n",
       " 'Blanks': ['adaptive equipment',\n",
       "  'biotechnology and semiconductor',\n",
       "  'greentech',\n",
       "  'enterprise hardware',\n",
       "  'natural gas uses',\n",
       "  'rapidly expanding'],\n",
       " 'Cleantech / Semiconductors': [],\n",
       " 'Entertainment': [],\n",
       " 'Health': [],\n",
       " 'Manufacturing': [],\n",
       " 'News, Search and Messaging': [],\n",
       " 'Others': [],\n",
       " 'Social, Finance, Analytics, Advertising': []}"
      ]
     },
     "execution_count": 91,
     "metadata": {},
     "output_type": "execute_result"
    }
   ],
   "source": [
    "sector_dict"
   ]
  },
  {
   "cell_type": "markdown",
   "metadata": {},
   "source": [
    "#### Building the sector dictionary now.."
   ]
  },
  {
   "cell_type": "markdown",
   "metadata": {},
   "source": [
    "Algorithm :\n",
    "for each row in mapping_df:\n",
    "    for each column in the row:\n",
    "        if column == 1\n",
    "            sector_dict[column].append(row)"
   ]
  },
  {
   "cell_type": "code",
   "execution_count": 92,
   "metadata": {},
   "outputs": [],
   "source": [
    "for row_index in mapping_df.index:\n",
    "    for col in mapping_df:\n",
    "        if mapping_df[col][row_index]==1:\n",
    "            sector_dict[col].append(mapping_df[\"category_list\"][row_index])"
   ]
  },
  {
   "cell_type": "code",
   "execution_count": 93,
   "metadata": {},
   "outputs": [
    {
     "data": {
      "text/plain": [
       "{'Automotive & Sports': ['adventure travel',\n",
       "  'aerospace',\n",
       "  'auto',\n",
       "  'automated kiosk',\n",
       "  'automotive',\n",
       "  'bicycles',\n",
       "  'boating industry',\n",
       "  'cad',\n",
       "  'cars',\n",
       "  'design',\n",
       "  'designers',\n",
       "  'drones',\n",
       "  'electric vehicles',\n",
       "  'fuels',\n",
       "  'heavy industry',\n",
       "  'industrial automation',\n",
       "  'limousines',\n",
       "  'soccer',\n",
       "  'sporting goods',\n",
       "  'sports',\n",
       "  'transportation',\n",
       "  'unmanned air systems'],\n",
       " 'Blanks': ['adaptive equipment',\n",
       "  'biotechnology and semiconductor',\n",
       "  'greentech',\n",
       "  'enterprise hardware',\n",
       "  'natural gas uses',\n",
       "  'rapidly expanding'],\n",
       " 'Cleantech / Semiconductors': ['air pollution control',\n",
       "  'aquaculture',\n",
       "  'bio-pharm',\n",
       "  'biofuels',\n",
       "  'bioinformatics',\n",
       "  'biomass power generation',\n",
       "  'biometrics',\n",
       "  'biotechnology',\n",
       "  'bitcoin',\n",
       "  'carbon',\n",
       "  'chemicals',\n",
       "  'clean energy',\n",
       "  'clean technology',\n",
       "  'clean technology it',\n",
       "  'commercial solar',\n",
       "  'commodities',\n",
       "  'concentrated solar power',\n",
       "  'disruptive models',\n",
       "  'early-stage technology',\n",
       "  'energy',\n",
       "  'energy efficiency',\n",
       "  'energy it',\n",
       "  'energy management',\n",
       "  'energy storage',\n",
       "  'environmental innovation',\n",
       "  'fertility',\n",
       "  'fuel cells',\n",
       "  'funeral industry',\n",
       "  'gas',\n",
       "  'green',\n",
       "  'green consumer goods',\n",
       "  'home & garden',\n",
       "  'home automation',\n",
       "  'home decor',\n",
       "  'lighting',\n",
       "  'material science',\n",
       "  'mechanical solutions',\n",
       "  'minerals',\n",
       "  'mining technologies',\n",
       "  'nanotechnology',\n",
       "  'natural language processing',\n",
       "  'natural resources',\n",
       "  'recycling',\n",
       "  'renewable energies',\n",
       "  'renewable tech',\n",
       "  'semiconductor manufacturing equipment',\n",
       "  'semiconductors',\n",
       "  'solar',\n",
       "  'space travel',\n",
       "  'waste management',\n",
       "  'water',\n",
       "  'water purification',\n",
       "  'wearables'],\n",
       " 'Entertainment': ['art',\n",
       "  'artists globally',\n",
       "  'audio',\n",
       "  'audiobooks',\n",
       "  'brewing',\n",
       "  'business travelers',\n",
       "  'casual games',\n",
       "  'celebrity',\n",
       "  'coffee',\n",
       "  'comics',\n",
       "  'concerts',\n",
       "  'console gaming',\n",
       "  'content',\n",
       "  'content creators',\n",
       "  'content delivery',\n",
       "  'content discovery',\n",
       "  'content syndication',\n",
       "  'contests',\n",
       "  'craft beer',\n",
       "  'creative',\n",
       "  'creative industries',\n",
       "  'digital entertainment',\n",
       "  'digital media',\n",
       "  'digital rights management',\n",
       "  'digital signage',\n",
       "  'e-books',\n",
       "  'ebooks',\n",
       "  'educational games',\n",
       "  'edutainment',\n",
       "  'entertainment',\n",
       "  'entertainment industry',\n",
       "  'event management',\n",
       "  'events',\n",
       "  'fantasy sports',\n",
       "  'fashion',\n",
       "  'film',\n",
       "  'film distribution',\n",
       "  'film production',\n",
       "  'freetoplay gaming',\n",
       "  'gambling',\n",
       "  'game',\n",
       "  'game mechanics',\n",
       "  'games',\n",
       "  'gamification',\n",
       "  'hotels',\n",
       "  'in-flight entertainment',\n",
       "  'independent music labels',\n",
       "  'interface design',\n",
       "  'interior design',\n",
       "  'jewelry',\n",
       "  'leisure',\n",
       "  'lifestyle',\n",
       "  'lifestyle businesses',\n",
       "  'lifestyle products',\n",
       "  'media',\n",
       "  'mobile games',\n",
       "  'mobile video',\n",
       "  'music',\n",
       "  'music education',\n",
       "  'music services',\n",
       "  'music venues',\n",
       "  'musical instruments',\n",
       "  'musicians',\n",
       "  'online gaming',\n",
       "  'online video advertising',\n",
       "  'photo editing',\n",
       "  'photo sharing',\n",
       "  'photography',\n",
       "  'resorts',\n",
       "  'restaurants',\n",
       "  'reviews and recommendations',\n",
       "  'shoes',\n",
       "  'shopping',\n",
       "  'television',\n",
       "  'theatre',\n",
       "  'ticketing',\n",
       "  'tourism',\n",
       "  'travel',\n",
       "  'travel & tourism',\n",
       "  'video',\n",
       "  'video conferencing',\n",
       "  'video games',\n",
       "  'video on demand',\n",
       "  'video streaming',\n",
       "  'virtual workforces',\n",
       "  'voip',\n",
       "  'weddings',\n",
       "  'wine and spirits',\n",
       "  'wireless'],\n",
       " 'Health': ['active lifestyle',\n",
       "  'alternative medicine',\n",
       "  'animal feed',\n",
       "  'assisitive technology',\n",
       "  'assisted living',\n",
       "  'babies',\n",
       "  'baby accessories',\n",
       "  'baby boomers',\n",
       "  'baby safety',\n",
       "  'beauty',\n",
       "  'cannabis',\n",
       "  'child care',\n",
       "  'clinical trials',\n",
       "  'cooking',\n",
       "  'corporate wellness',\n",
       "  'cosmetic surgery',\n",
       "  'cosmetics',\n",
       "  'dental',\n",
       "  'diabetes',\n",
       "  'diagnostics',\n",
       "  'dietary supplements',\n",
       "  'doctors',\n",
       "  'elder care',\n",
       "  'electronic health records',\n",
       "  'exercise',\n",
       "  'eyewear',\n",
       "  'fitness',\n",
       "  'genetic testing',\n",
       "  'health and insurance',\n",
       "  'health and wellness',\n",
       "  'health care',\n",
       "  'health care information technology',\n",
       "  'health diagnostics',\n",
       "  'health services industry',\n",
       "  'healthcare services',\n",
       "  'hospitals',\n",
       "  'independent pharmacies',\n",
       "  'lasers',\n",
       "  'medical',\n",
       "  'medical devices',\n",
       "  'medical professionals',\n",
       "  'mens specific',\n",
       "  'mhealth',\n",
       "  'mobile health',\n",
       "  'neuroscience',\n",
       "  'nutrition',\n",
       "  'organic',\n",
       "  'organic food',\n",
       "  'outdoors',\n",
       "  'personal health',\n",
       "  'pets',\n",
       "  'pharmaceuticals',\n",
       "  'physicians',\n",
       "  'public safety',\n",
       "  'public transportation',\n",
       "  'senior citizens',\n",
       "  'senior health',\n",
       "  'sextech',\n",
       "  'specialty chemicals',\n",
       "  'specialty foods',\n",
       "  'speech recognition',\n",
       "  'therapeutics',\n",
       "  'veterinary'],\n",
       " 'Manufacturing': ['3d',\n",
       "  '3d printing',\n",
       "  '3d technology',\n",
       "  'advanced materials',\n",
       "  'agriculture',\n",
       "  'architecture',\n",
       "  'batteries',\n",
       "  'building products',\n",
       "  'civil engineers',\n",
       "  'communications hardware',\n",
       "  'communications infrastructure',\n",
       "  'computer vision',\n",
       "  'computers',\n",
       "  'construction',\n",
       "  'consumer electronics',\n",
       "  'consumer goods',\n",
       "  'defense',\n",
       "  'displays',\n",
       "  'dod/military',\n",
       "  'electrical distribution',\n",
       "  'electronics',\n",
       "  'embedded hardware and software',\n",
       "  'farmers market',\n",
       "  'farming',\n",
       "  'fmcg',\n",
       "  'food processing',\n",
       "  'furniture',\n",
       "  'gadget',\n",
       "  'groceries',\n",
       "  'handmade',\n",
       "  'hardware',\n",
       "  'hardware + software',\n",
       "  'industrial',\n",
       "  'manufacturing',\n",
       "  'mobile infrastructure',\n",
       "  'mobile software tools',\n",
       "  'new product development',\n",
       "  'new technologies',\n",
       "  'optical communications',\n",
       "  'storage'],\n",
       " 'News, Search and Messaging': ['app discovery',\n",
       "  'app marketing',\n",
       "  'app stores',\n",
       "  'application performance monitoring',\n",
       "  'application platforms',\n",
       "  'apps',\n",
       "  'archiving',\n",
       "  'blogging platforms',\n",
       "  'broadcasting',\n",
       "  'brokers',\n",
       "  'browser extensions',\n",
       "  'building owners',\n",
       "  'cable',\n",
       "  'call center automation',\n",
       "  'certification test',\n",
       "  'chat',\n",
       "  'china internet',\n",
       "  'classifieds',\n",
       "  'cloud-based music',\n",
       "  'cloud computing',\n",
       "  'cloud data services',\n",
       "  'cloud infrastructure',\n",
       "  'cloud management',\n",
       "  'cloud security',\n",
       "  'commercial real estate',\n",
       "  'comparison shopping',\n",
       "  'curated web',\n",
       "  'delivery',\n",
       "  'demographies',\n",
       "  'direct marketing',\n",
       "  'direct sales',\n",
       "  'domains',\n",
       "  'email',\n",
       "  'enterprise search',\n",
       "  'forums',\n",
       "  'gps',\n",
       "  'graphics',\n",
       "  'group sms',\n",
       "  'internet',\n",
       "  'internet infrastructure',\n",
       "  'internet radio market',\n",
       "  'internet service providers',\n",
       "  'journalism',\n",
       "  'local search',\n",
       "  'maps',\n",
       "  'meeting software',\n",
       "  'messaging',\n",
       "  'microblogging',\n",
       "  'mobile',\n",
       "  'mobile devices',\n",
       "  'mobile enterprise',\n",
       "  'mobile social',\n",
       "  'navigation',\n",
       "  'news',\n",
       "  'online dating',\n",
       "  'online rental',\n",
       "  'online reservations',\n",
       "  'online scheduling',\n",
       "  'online shopping',\n",
       "  'online travel',\n",
       "  'peer-to-peer',\n",
       "  'private social networking',\n",
       "  'professional networking',\n",
       "  'publishing',\n",
       "  'q&a',\n",
       "  'recruiting',\n",
       "  'ride sharing',\n",
       "  'search',\n",
       "  'search marketing',\n",
       "  'seo',\n",
       "  'web browsers',\n",
       "  'web design'],\n",
       " 'Others': ['advice',\n",
       "  'algorithms',\n",
       "  'all markets',\n",
       "  'all students',\n",
       "  'alumni',\n",
       "  'angels',\n",
       "  'collectibles',\n",
       "  'college campuses',\n",
       "  'distribution',\n",
       "  'distributors',\n",
       "  'diy',\n",
       "  'document management',\n",
       "  'e-commerce',\n",
       "  'e-commerce platforms',\n",
       "  'eda tools',\n",
       "  'ediscovery',\n",
       "  'edtech',\n",
       "  'education',\n",
       "  'emerging markets',\n",
       "  'employment',\n",
       "  'engineering firms',\n",
       "  'enterprise 2.0',\n",
       "  'enterprise application',\n",
       "  'enterprise resource planning',\n",
       "  'enterprise security',\n",
       "  'enterprise software',\n",
       "  'enterprises',\n",
       "  'entrepreneur',\n",
       "  'families',\n",
       "  'field support services',\n",
       "  'file sharing',\n",
       "  'flash sales',\n",
       "  'flash storage',\n",
       "  'fleet management',\n",
       "  'flowers',\n",
       "  'freelancers',\n",
       "  'fruit',\n",
       "  'gay & lesbian',\n",
       "  'general public worldwide',\n",
       "  'geospatial',\n",
       "  'gift card',\n",
       "  'gift exchange',\n",
       "  'gift registries',\n",
       "  'governance',\n",
       "  'government innovation',\n",
       "  'governments',\n",
       "  'guides',\n",
       "  'high school students',\n",
       "  'high schools',\n",
       "  'high tech',\n",
       "  'home owners',\n",
       "  'home renovation',\n",
       "  'homeland security',\n",
       "  'homeless shelter',\n",
       "  'hospitality',\n",
       "  'human computer interaction',\n",
       "  'human resource automation',\n",
       "  'human resources',\n",
       "  'humanitarian',\n",
       "  'iaas',\n",
       "  'ict',\n",
       "  'identity',\n",
       "  'indians',\n",
       "  'indoor positioning',\n",
       "  'intellectual asset management',\n",
       "  'intellectual property',\n",
       "  'intelligent systems',\n",
       "  'interest graph',\n",
       "  'ios',\n",
       "  'ipad',\n",
       "  'iphone',\n",
       "  'it and cybersecurity',\n",
       "  'it management',\n",
       "  'k-12 education',\n",
       "  'kids',\n",
       "  'knowledge management',\n",
       "  'landscaping',\n",
       "  'language learning',\n",
       "  'law enforcement',\n",
       "  'lead generation',\n",
       "  'lead management',\n",
       "  'legal',\n",
       "  'licensing',\n",
       "  'life sciences',\n",
       "  'linux',\n",
       "  'local',\n",
       "  'local based services',\n",
       "  'local businesses',\n",
       "  'local commerce',\n",
       "  'location based services',\n",
       "  'logistics',\n",
       "  'logistics company',\n",
       "  'low bid auctions',\n",
       "  'loyalty programs',\n",
       "  'm2m',\n",
       "  'marketplaces',\n",
       "  'mass customization',\n",
       "  'match-making',\n",
       "  'micro-enterprises',\n",
       "  'mobile security',\n",
       "  'mobility',\n",
       "  'network security',\n",
       "  'networking',\n",
       "  'non-tech',\n",
       "  'non profit',\n",
       "  'nonprofits',\n",
       "  'office space',\n",
       "  'oil',\n",
       "  'oil & gas',\n",
       "  'oil and gas',\n",
       "  'online education',\n",
       "  'online identity',\n",
       "  'open source',\n",
       "  'opinions',\n",
       "  'optimization',\n",
       "  'outsourcing',\n",
       "  'parenting',\n",
       "  'parking',\n",
       "  'personal data',\n",
       "  'personalization',\n",
       "  'pervasive computing',\n",
       "  'physical security',\n",
       "  'plumbers',\n",
       "  'point of sale',\n",
       "  'politics',\n",
       "  'polling',\n",
       "  'portals',\n",
       "  'postal and courier services',\n",
       "  'presentations',\n",
       "  'printing',\n",
       "  'privacy',\n",
       "  'private school',\n",
       "  'procurement',\n",
       "  'product design',\n",
       "  'product development services',\n",
       "  'productivity',\n",
       "  'productivity software',\n",
       "  'professional services',\n",
       "  'project management',\n",
       "  'qr codes',\n",
       "  'real estate',\n",
       "  'real time',\n",
       "  'realtors',\n",
       "  'recreation',\n",
       "  'religion',\n",
       "  'rental housing',\n",
       "  'reputation',\n",
       "  'rfid',\n",
       "  'robotics',\n",
       "  'saas',\n",
       "  'sales automation',\n",
       "  'security',\n",
       "  'sensors',\n",
       "  'service industries',\n",
       "  'service providers',\n",
       "  'services',\n",
       "  'shared services',\n",
       "  'shipping',\n",
       "  'simulation',\n",
       "  'skill assessment',\n",
       "  'small and medium businesses',\n",
       "  'smart grid',\n",
       "  'sns',\n",
       "  'software',\n",
       "  'staffing firms',\n",
       "  'startups',\n",
       "  'subscription service',\n",
       "  'supply chain management',\n",
       "  'surveys',\n",
       "  'synchronization',\n",
       "  'systems',\n",
       "  'task management',\n",
       "  'taxis',\n",
       "  'tea',\n",
       "  'technology',\n",
       "  'telecommunications',\n",
       "  'textiles',\n",
       "  'tracking',\n",
       "  'trading',\n",
       "  'training',\n",
       "  'translation',\n",
       "  'universities',\n",
       "  'university students',\n",
       "  'usability',\n",
       "  'user experience design',\n",
       "  'user interface',\n",
       "  'utilities',\n",
       "  'vending and concessions',\n",
       "  'watch',\n",
       "  'web development',\n",
       "  'web hosting',\n",
       "  'web tools',\n",
       "  'wholesale',\n",
       "  'women',\n",
       "  'young adults'],\n",
       " 'Social, Finance, Analytics, Advertising': ['accounting',\n",
       "  'ad targeting',\n",
       "  'advertising',\n",
       "  'advertising exchanges',\n",
       "  'advertising networks',\n",
       "  'advertising platforms',\n",
       "  'analytics',\n",
       "  'android',\n",
       "  'anything capital intensive',\n",
       "  'artificial intelligence',\n",
       "  'auctions',\n",
       "  'augmented reality',\n",
       "  'b2b',\n",
       "  'b2b express delivery',\n",
       "  'banking',\n",
       "  'big data',\n",
       "  'big data analytics',\n",
       "  'billing',\n",
       "  'bpo services',\n",
       "  'brand marketing',\n",
       "  'bridging online and offline',\n",
       "  'business analytics',\n",
       "  'business development',\n",
       "  'business information systems',\n",
       "  'business intelligence',\n",
       "  'business productivity',\n",
       "  'business services',\n",
       "  'career management',\n",
       "  'career planning',\n",
       "  'charities',\n",
       "  'charity',\n",
       "  'charter schools',\n",
       "  'collaboration',\n",
       "  'collaborative consumption',\n",
       "  'college recruiting',\n",
       "  'colleges',\n",
       "  'communities',\n",
       "  'consulting',\n",
       "  'consumer behavior',\n",
       "  'consumer internet',\n",
       "  'consumer lending',\n",
       "  'consumers',\n",
       "  'contact centers',\n",
       "  'contact management',\n",
       "  'corporate it',\n",
       "  'corporate training',\n",
       "  'coupons',\n",
       "  'coworking',\n",
       "  'credit',\n",
       "  'credit cards',\n",
       "  'crm',\n",
       "  'crowdfunding',\n",
       "  'crowdsourcing',\n",
       "  'custom retail',\n",
       "  'customer service',\n",
       "  'customer support tools',\n",
       "  'cyber',\n",
       "  'cyber security',\n",
       "  'data center automation',\n",
       "  'data center infrastructure',\n",
       "  'data centers',\n",
       "  'data integration',\n",
       "  'data mining',\n",
       "  'data privacy',\n",
       "  'data security',\n",
       "  'data visualization',\n",
       "  'databases',\n",
       "  'debt collecting',\n",
       "  'developer apis',\n",
       "  'developer tools',\n",
       "  'development platforms',\n",
       "  'direct advertising',\n",
       "  'discounts',\n",
       "  'email marketing',\n",
       "  'email newsletters',\n",
       "  'employer benefits programs',\n",
       "  'enterprise purchasing',\n",
       "  'estimation and quoting',\n",
       "  'face recognition',\n",
       "  'facebook applications',\n",
       "  'finance',\n",
       "  'finance technology',\n",
       "  'financial exchanges',\n",
       "  'financial services',\n",
       "  'fintech',\n",
       "  'fraud detection',\n",
       "  'freemium',\n",
       "  'gold',\n",
       "  'group buying',\n",
       "  'hedge funds',\n",
       "  'identity management',\n",
       "  'image recognition',\n",
       "  'impact investing',\n",
       "  'incentives',\n",
       "  'incubators',\n",
       "  'information security',\n",
       "  'information services',\n",
       "  'information technology',\n",
       "  'infrastructure',\n",
       "  'innovation engineering',\n",
       "  'innovation management',\n",
       "  'insurance',\n",
       "  'internet marketing',\n",
       "  'internet of things',\n",
       "  'investment management',\n",
       "  'local advertising',\n",
       "  'lotteries',\n",
       "  'machine learning',\n",
       "  'market research',\n",
       "  'marketing automation',\n",
       "  'mobile advertising',\n",
       "  'mobile analytics',\n",
       "  'mobile commerce',\n",
       "  'mobile payments',\n",
       "  'mobile shopping',\n",
       "  'monetization',\n",
       "  'moneymaking',\n",
       "  'multi-level marketing',\n",
       "  'p2p money transfer',\n",
       "  'paas',\n",
       "  'payments',\n",
       "  'performance marketing',\n",
       "  'personal branding',\n",
       "  'personal finance',\n",
       "  'pre seed',\n",
       "  'predictive analytics',\n",
       "  'price comparison',\n",
       "  'promotional',\n",
       "  'property management',\n",
       "  'public relations',\n",
       "  'retail',\n",
       "  'retail technology',\n",
       "  'risk management',\n",
       "  'sales and marketing',\n",
       "  'social + mobile + local',\n",
       "  'social bookmarking',\n",
       "  'social business',\n",
       "  'social buying',\n",
       "  'social commerce',\n",
       "  'social crm',\n",
       "  'social fundraising',\n",
       "  'social games',\n",
       "  'social media',\n",
       "  'social media management',\n",
       "  'social media marketing',\n",
       "  'social media platforms',\n",
       "  'social network media',\n",
       "  'social news',\n",
       "  'social recruiting',\n",
       "  'social television',\n",
       "  'social travel',\n",
       "  'stock exchanges',\n",
       "  'venture capital']}"
      ]
     },
     "execution_count": 93,
     "metadata": {},
     "output_type": "execute_result"
    }
   ],
   "source": [
    "# The sector dictionary has been populated\n",
    "\n",
    "sector_dict"
   ]
  },
  {
   "cell_type": "markdown",
   "metadata": {},
   "source": [
    "Now this dictionary contains main_sectors as the key and a list of corresponding sub_categories as the value.\n",
    "\n",
    "The idea is to create a \"primary sector\" and \"main_sector\" mapping - in a column1 (primary sector) and column2 (main sector) structure - would be then converting it to a dataframe and then merging with master_frame"
   ]
  },
  {
   "cell_type": "markdown",
   "metadata": {},
   "source": [
    "Algorithm :\n",
    "for each row in master_frame:\n",
    "    extract the column value of primary_sector\n",
    "    for key, values in sector_dict.values:\n",
    "        if primary_sector in values_list\n",
    "            master_frame[\"main_sector\"][row] = key"
   ]
  },
  {
   "cell_type": "code",
   "execution_count": 94,
   "metadata": {},
   "outputs": [],
   "source": [
    "# Building the primary_sector (key) and main_sector (value) dictionary\n",
    "\n",
    "primary_to_main_dict = {}"
   ]
  },
  {
   "cell_type": "code",
   "execution_count": 95,
   "metadata": {},
   "outputs": [],
   "source": [
    "for row_index in master_frame.index:\n",
    "    primary_s = master_frame[\"primary_sector\"][row_index]\n",
    "    for key , value in sector_dict.items():\n",
    "        if primary_s in value:\n",
    "            primary_to_main_dict[primary_s] = key"
   ]
  },
  {
   "cell_type": "code",
   "execution_count": 96,
   "metadata": {},
   "outputs": [
    {
     "name": "stdout",
     "output_type": "stream",
     "text": [
      "{'media': 'Entertainment', 'application platforms': 'News, Search and Messaging', 'apps': 'News, Search and Messaging', 'curated web': 'News, Search and Messaging', 'software': 'Others', 'biotechnology': 'Cleantech / Semiconductors', 'analytics': 'Social, Finance, Analytics, Advertising', 'education': 'Others', 'beauty': 'Health', 'local businesses': 'Others', 'cosmetics': 'Health', 'games': 'Entertainment', 'hospitality': 'Others', 'health care': 'Health', 'ios': 'Others', 'social travel': 'Social, Finance, Analytics, Advertising', 'advertising': 'Social, Finance, Analytics, Advertising', 'e-commerce': 'Others', 'internet': 'News, Search and Messaging', 'service providers': 'Others', 'mobile': 'News, Search and Messaging', 'manufacturing': 'Manufacturing', 'public transportation': 'Health', 'travel': 'Entertainment', 'baby accessories': 'Health', 'finance': 'Social, Finance, Analytics, Advertising', 'health and wellness': 'Health', 'news': 'News, Search and Messaging', 'art': 'Entertainment', 'big data': 'Social, Finance, Analytics, Advertising', 'customer service': 'Social, Finance, Analytics, Advertising', 'real estate': 'Others', 'edtech': 'Others', 'computers': 'Manufacturing', 'clean technology': 'Cleantech / Semiconductors', 'services': 'Others', 'cloud computing': 'News, Search and Messaging', 'ad targeting': 'Social, Finance, Analytics, Advertising', 'credit cards': 'Social, Finance, Analytics, Advertising', 'hardware + software': 'Manufacturing', 'internet of things': 'Social, Finance, Analytics, Advertising', 'cloud infrastructure': 'News, Search and Messaging', 'messaging': 'News, Search and Messaging', 'information technology': 'Social, Finance, Analytics, Advertising', 'consumer electronics': 'Manufacturing', 'enterprise software': 'Others', 'data centers': 'Social, Finance, Analytics, Advertising', 'point of sale': 'Others', 'artificial intelligence': 'Social, Finance, Analytics, Advertising', 'android': 'Social, Finance, Analytics, Advertising', 'enterprises': 'Others', 'blogging platforms': 'News, Search and Messaging', 'project management': 'Others', '3d technology': 'Manufacturing', '3d': 'Manufacturing', '3d printing': 'Manufacturing', 'drones': 'Automotive & Sports', 'technology': 'Others', 'automotive': 'Automotive & Sports', 'automated kiosk': 'Automotive & Sports', 'music': 'Entertainment', 'web hosting': 'Others', 'cloud data services': 'News, Search and Messaging', 'consulting': 'Social, Finance, Analytics, Advertising', 'game': 'Entertainment', 'physical security': 'Others', 'coupons': 'Social, Finance, Analytics, Advertising', 'security': 'Others', 'databases': 'Social, Finance, Analytics, Advertising', 'flash storage': 'Others', 'animal feed': 'Health', 'machine learning': 'Social, Finance, Analytics, Advertising', 'commercial real estate': 'News, Search and Messaging', 'human resources': 'Others', 'office space': 'Others', 'online shopping': 'News, Search and Messaging', 'carbon': 'Cleantech / Semiconductors', 'leisure': 'Entertainment', 'photography': 'Entertainment', 'video': 'Entertainment', 'startups': 'Others', 'accounting': 'Social, Finance, Analytics, Advertising', 'concentrated solar power': 'Cleantech / Semiconductors', 'b2b': 'Social, Finance, Analytics, Advertising', 'nanotechnology': 'Cleantech / Semiconductors', 'bicycles': 'Automotive & Sports', 'content creators': 'Entertainment', 'brand marketing': 'Social, Finance, Analytics, Advertising', 'finance technology': 'Social, Finance, Analytics, Advertising', 'networking': 'Others', 'digital entertainment': 'Entertainment', 'exercise': 'Health', 'food processing': 'Manufacturing', 'crowdsourcing': 'Social, Finance, Analytics, Advertising', 'business analytics': 'Social, Finance, Analytics, Advertising', 'chemicals': 'Cleantech / Semiconductors', 'consumer goods': 'Manufacturing', 'audio': 'Entertainment', 'batteries': 'Manufacturing', 'search': 'News, Search and Messaging', 'social media': 'Social, Finance, Analytics, Advertising', 'health care information technology': 'Health', 'oil & gas': 'Others', 'audiobooks': 'Entertainment', 'business services': 'Social, Finance, Analytics, Advertising', 'innovation engineering': 'Social, Finance, Analytics, Advertising', 'collaboration': 'Social, Finance, Analytics, Advertising', 'financial services': 'Social, Finance, Analytics, Advertising', 'contact management': 'Social, Finance, Analytics, Advertising', 'information security': 'Social, Finance, Analytics, Advertising', 'semiconductors': 'Cleantech / Semiconductors', 'coffee': 'Entertainment', 'energy': 'Cleantech / Semiconductors', 'government innovation': 'Others', 'clean energy': 'Cleantech / Semiconductors', 'logistics': 'Others', 'domains': 'News, Search and Messaging', 'career management': 'Social, Finance, Analytics, Advertising', 'homeland security': 'Others', 'development platforms': 'Social, Finance, Analytics, Advertising', 'credit': 'Social, Finance, Analytics, Advertising', 'medical devices': 'Health', 'construction': 'Manufacturing', 'medical': 'Health', 'content': 'Entertainment', 'internet radio market': 'News, Search and Messaging', 'employer benefits programs': 'Social, Finance, Analytics, Advertising', 'telecommunications': 'Others', 'fashion': 'Entertainment', 'design': 'Automotive & Sports', 'advertising platforms': 'Social, Finance, Analytics, Advertising', 'sports': 'Automotive & Sports', 'crm': 'Social, Finance, Analytics, Advertising', 'data integration': 'Social, Finance, Analytics, Advertising', 'hardware': 'Manufacturing', 'facebook applications': 'Social, Finance, Analytics, Advertising', 'comparison shopping': 'News, Search and Messaging', 'intellectual property': 'Others', 'bio-pharm': 'Cleantech / Semiconductors', 'cloud management': 'News, Search and Messaging', 'business intelligence': 'Social, Finance, Analytics, Advertising', 'entertainment': 'Entertainment', 'assisitive technology': 'Health', 'saas': 'Others', 'child care': 'Health', 'digital media': 'Entertainment', 'content delivery': 'Entertainment', 'marketing automation': 'Social, Finance, Analytics, Advertising', 'electrical distribution': 'Manufacturing', 'renewable energies': 'Cleantech / Semiconductors', 'human resource automation': 'Others', 'big data analytics': 'Social, Finance, Analytics, Advertising', 'payments': 'Social, Finance, Analytics, Advertising', 'colleges': 'Social, Finance, Analytics, Advertising', 'embedded hardware and software': 'Manufacturing', 'aerospace': 'Automotive & Sports', 'direct sales': 'News, Search and Messaging', 'dod/military': 'Manufacturing', 'alumni': 'Others', 'furniture': 'Manufacturing', 'consumer lending': 'Social, Finance, Analytics, Advertising', 'ediscovery': 'Others', 'business development': 'Social, Finance, Analytics, Advertising', 'commodities': 'Cleantech / Semiconductors', 'information services': 'Social, Finance, Analytics, Advertising', 'gps': 'News, Search and Messaging', 'lasers': 'Health', 'agriculture': 'Manufacturing', 'legal': 'Others', 'broadcasting': 'News, Search and Messaging', 'employment': 'Others', 'online travel': 'News, Search and Messaging', 'hotels': 'Entertainment', 'health diagnostics': 'Health', 'content syndication': 'Entertainment', 'public relations': 'Social, Finance, Analytics, Advertising', 'business productivity': 'Social, Finance, Analytics, Advertising', 'interface design': 'Entertainment', 'iphone': 'Others', 'retail': 'Social, Finance, Analytics, Advertising', 'cars': 'Automotive & Sports', 'consumer internet': 'Social, Finance, Analytics, Advertising', 'pharmaceuticals': 'Health', 'fitness': 'Health', 'network security': 'Others', 'electronics': 'Manufacturing', 'data mining': 'Social, Finance, Analytics, Advertising', 'cloud security': 'News, Search and Messaging', 'healthcare services': 'Health', 'charter schools': 'Social, Finance, Analytics, Advertising', 'architecture': 'Manufacturing', 'home automation': 'Cleantech / Semiconductors', 'document management': 'Others', 'algorithms': 'Others', 'bitcoin': 'Cleantech / Semiconductors', 'internet service providers': 'News, Search and Messaging', 'nonprofits': 'Others', 'industrial': 'Manufacturing', 'distribution': 'Others', 'digital signage': 'Entertainment', 'communications hardware': 'Manufacturing', 'location based services': 'Others', 'social commerce': 'Social, Finance, Analytics, Advertising', 'investment management': 'Social, Finance, Analytics, Advertising', 'gambling': 'Entertainment', 'internet marketing': 'Social, Finance, Analytics, Advertising', 'active lifestyle': 'Health', 'wine and spirits': 'Entertainment', 'cannabis': 'Health', 'cooking': 'Health', 'pets': 'Health', 'communities': 'Social, Finance, Analytics, Advertising', 'estimation and quoting': 'Social, Finance, Analytics, Advertising', 'diagnostics': 'Health', 'environmental innovation': 'Cleantech / Semiconductors', 'small and medium businesses': 'Others', 'specialty foods': 'Health', 'energy management': 'Cleantech / Semiconductors', 'sensors': 'Others', 'mobile security': 'Others', 'recruiting': 'News, Search and Messaging', 'crowdfunding': 'Social, Finance, Analytics, Advertising', 'incubators': 'Social, Finance, Analytics, Advertising', 'voip': 'Entertainment', 'gold': 'Social, Finance, Analytics, Advertising', 'local': 'Others', 'property management': 'Social, Finance, Analytics, Advertising', 'discounts': 'Social, Finance, Analytics, Advertising', 'ticketing': 'Entertainment', 'wireless': 'Entertainment', 'biometrics': 'Cleantech / Semiconductors', 'enterprise security': 'Others', 'banking': 'Social, Finance, Analytics, Advertising', 'alternative medicine': 'Health', 'local search': 'News, Search and Messaging', 'app discovery': 'News, Search and Messaging', 'advertising exchanges': 'Social, Finance, Analytics, Advertising', 'application performance monitoring': 'News, Search and Messaging', 'meeting software': 'News, Search and Messaging', 'app stores': 'News, Search and Messaging', 'opinions': 'Others', 'delivery': 'News, Search and Messaging', 'social television': 'Social, Finance, Analytics, Advertising', 'online scheduling': 'News, Search and Messaging', 'consumers': 'Social, Finance, Analytics, Advertising', 'developer tools': 'Social, Finance, Analytics, Advertising', 'app marketing': 'News, Search and Messaging', 'all markets': 'Others', 'corporate it': 'Social, Finance, Analytics, Advertising', 'developer apis': 'Social, Finance, Analytics, Advertising', 'marketplaces': 'Others', 'water': 'Cleantech / Semiconductors', 'energy efficiency': 'Cleantech / Semiconductors', 'brokers': 'News, Search and Messaging', 'publishing': 'News, Search and Messaging', 'restaurants': 'Entertainment', 'email': 'News, Search and Messaging', 'therapeutics': 'Health', 'cyber security': 'Social, Finance, Analytics, Advertising', 'photo sharing': 'Entertainment', 'billing': 'Social, Finance, Analytics, Advertising', 'data security': 'Social, Finance, Analytics, Advertising', 'dental': 'Health', 'data privacy': 'Social, Finance, Analytics, Advertising', 'social business': 'Social, Finance, Analytics, Advertising', 'fuels': 'Automotive & Sports', 'identity': 'Others', 'diabetes': 'Health', 'intelligent systems': 'Others', 'hospitals': 'Health', 'educational games': 'Entertainment', 'auctions': 'Social, Finance, Analytics, Advertising', 'consumer behavior': 'Social, Finance, Analytics, Advertising', 'bridging online and offline': 'Social, Finance, Analytics, Advertising', 'seo': 'News, Search and Messaging', 'artists globally': 'Entertainment', 'real time': 'Others', 'augmented reality': 'Social, Finance, Analytics, Advertising', 'defense': 'Manufacturing', 'lead management': 'Others', 'sales automation': 'Others', 'private school': 'Others', 'governments': 'Others', 'infrastructure': 'Social, Finance, Analytics, Advertising', 'archiving': 'News, Search and Messaging', 'bioinformatics': 'Cleantech / Semiconductors', 'public safety': 'Health', 'it management': 'Others', 'event management': 'Entertainment', 'enterprise search': 'News, Search and Messaging', 'babies': 'Health', 'classifieds': 'News, Search and Messaging', 'corporate training': 'Social, Finance, Analytics, Advertising', 'clinical trials': 'Health', 'events': 'Entertainment', 'reviews and recommendations': 'Entertainment', 'all students': 'Others', 'navigation': 'News, Search and Messaging', 'creative industries': 'Entertainment', 'freelancers': 'Others', 'collaborative consumption': 'Social, Finance, Analytics, Advertising', 'internet infrastructure': 'News, Search and Messaging', 'communications infrastructure': 'Manufacturing', 'advice': 'Others', 'coworking': 'Social, Finance, Analytics, Advertising', 'social network media': 'Social, Finance, Analytics, Advertising', 'e-books': 'Entertainment', 'local advertising': 'Social, Finance, Analytics, Advertising', 'mobile commerce': 'Social, Finance, Analytics, Advertising', 'cyber': 'Social, Finance, Analytics, Advertising', 'emerging markets': 'Others', 'outsourcing': 'Others', 'open source': 'Others', 'mobility': 'Others', 'professional services': 'Others', 'transportation': 'Automotive & Sports', 'health and insurance': 'Health', 'chat': 'News, Search and Messaging', 'licensing': 'Others', 'groceries': 'Manufacturing', 'cad': 'Automotive & Sports', 'new technologies': 'Manufacturing', 'venture capital': 'Social, Finance, Analytics, Advertising', 'recreation': 'Others', 'ebooks': 'Entertainment', 'comics': 'Entertainment', 'non-tech': 'Others', 'email marketing': 'Social, Finance, Analytics, Advertising', 'product development services': 'Others', 'home & garden': 'Cleantech / Semiconductors', 'lifestyle businesses': 'Entertainment', 'life sciences': 'Others', 'mass customization': 'Others', 'weddings': 'Entertainment', 'politics': 'Others', 'contact centers': 'Social, Finance, Analytics, Advertising', 'e-commerce platforms': 'Others', 'innovation management': 'Social, Finance, Analytics, Advertising', 'gadget': 'Manufacturing', 'social news': 'Social, Finance, Analytics, Advertising', 'rental housing': 'Others', 'trading': 'Others', 'organic food': 'Health', 'direct marketing': 'News, Search and Messaging', 'productivity software': 'Others', 'industrial automation': 'Automotive & Sports', 'optical communications': 'Manufacturing', 'eda tools': 'Others', 'insurance': 'Social, Finance, Analytics, Advertising', 'sales and marketing': 'Social, Finance, Analytics, Advertising', 'online rental': 'News, Search and Messaging', 'college campuses': 'Others', 'home decor': 'Cleantech / Semiconductors', 'parking': 'Others', 'gift card': 'Others', 'auto': 'Automotive & Sports', 'electronic health records': 'Health', 'assisted living': 'Health', 'elder care': 'Health', 'families': 'Others', 'cable': 'News, Search and Messaging', 'enterprise hardware': 'Blanks', 'personalization': 'Others', 'law enforcement': 'Others', 'distributors': 'Others', 'video streaming': 'Entertainment', 'doctors': 'Health', 'knowledge management': 'Others', 'simulation': 'Others', 'new product development': 'Manufacturing', 'computer vision': 'Manufacturing', 'health services industry': 'Health', 'certification test': 'News, Search and Messaging', 'identity management': 'Social, Finance, Analytics, Advertising', 'shopping': 'Entertainment', 'utilities': 'Others', 'career planning': 'Social, Finance, Analytics, Advertising', 'market research': 'Social, Finance, Analytics, Advertising', 'fantasy sports': 'Entertainment', 'engineering firms': 'Others', 'ipad': 'Others', 'designers': 'Automotive & Sports', 'charity': 'Social, Finance, Analytics, Advertising', 'farming': 'Manufacturing', 'mobile games': 'Entertainment', 'collectibles': 'Others', 'tea': 'Others', 'systems': 'Others', 'film': 'Entertainment', 'online video advertising': 'Entertainment', 'paas': 'Social, Finance, Analytics, Advertising', 'digital rights management': 'Entertainment', 'image recognition': 'Social, Finance, Analytics, Advertising', 'angels': 'Others', 'natural gas uses': 'Blanks', 'electric vehicles': 'Automotive & Sports', 'predictive analytics': 'Social, Finance, Analytics, Advertising', 'natural language processing': 'Cleantech / Semiconductors', 'robotics': 'Others', 'file sharing': 'Others', 'travel & tourism': 'Entertainment', 'console gaming': 'Entertainment', 'optimization': 'Others', 'staffing firms': 'Others', 'online gaming': 'Entertainment', 'storage': 'Manufacturing', 'lighting': 'Cleantech / Semiconductors', 'risk management': 'Social, Finance, Analytics, Advertising', 'lead generation': 'Others', 'lifestyle': 'Entertainment', 'content discovery': 'Entertainment', 'intellectual asset management': 'Others', 'enterprise 2.0': 'Others', 'data center automation': 'Social, Finance, Analytics, Advertising', 'call center automation': 'News, Search and Messaging', 'linux': 'Others', 'sextech': 'Health', 'creative': 'Entertainment', 'non profit': 'Others', 'customer support tools': 'Social, Finance, Analytics, Advertising', 'contests': 'Entertainment', 'browser extensions': 'News, Search and Messaging', 'data center infrastructure': 'Social, Finance, Analytics, Advertising', 'language learning': 'Others', 'gamification': 'Entertainment', 'sporting goods': 'Automotive & Sports', 'concerts': 'Entertainment', 'civil engineers': 'Manufacturing', 'online education': 'Others', 'fraud detection': 'Social, Finance, Analytics, Advertising', 'mobile health': 'Health', 'online reservations': 'News, Search and Messaging', 'privacy': 'Others', 'game mechanics': 'Entertainment', 'adaptive equipment': 'Blanks', 'video games': 'Entertainment', 'web development': 'Others', 'enterprise application': 'Others', 'freemium': 'Social, Finance, Analytics, Advertising', 'logistics company': 'Others', 'group sms': 'News, Search and Messaging', 'dietary supplements': 'Health', 'mobile devices': 'News, Search and Messaging', 'textiles': 'Others', 'plumbers': 'Others', 'web design': 'News, Search and Messaging', 'supply chain management': 'Others', 'building products': 'Manufacturing', 'heavy industry': 'Automotive & Sports', 'china internet': 'News, Search and Messaging', 'b2b express delivery': 'Social, Finance, Analytics, Advertising', 'corporate wellness': 'Health', 'interior design': 'Entertainment', 'displays': 'Manufacturing', 'humanitarian': 'Others', 'clean technology it': 'Cleantech / Semiconductors', 'synchronization': 'Others', 'general public worldwide': 'Others', 'entrepreneur': 'Others', 'kids': 'Others', 'semiconductor manufacturing equipment': 'Cleantech / Semiconductors', 'demographies': 'News, Search and Messaging', 'fintech': 'Social, Finance, Analytics, Advertising', 'wearables': 'Cleantech / Semiconductors', 'mobile shopping': 'Social, Finance, Analytics, Advertising', 'guides': 'Others', 'data visualization': 'Social, Finance, Analytics, Advertising', 'printing': 'Others', 'mobile analytics': 'Social, Finance, Analytics, Advertising', 'specialty chemicals': 'Health', 'film production': 'Entertainment', 'training': 'Others', 'human computer interaction': 'Others', 'recycling': 'Cleantech / Semiconductors', 'biofuels': 'Cleantech / Semiconductors', 'sns': 'Others', 'celebrity': 'Entertainment', 'stock exchanges': 'Social, Finance, Analytics, Advertising', 'maps': 'News, Search and Messaging', 'graphics': 'News, Search and Messaging', 'advanced materials': 'Manufacturing', 'oil': 'Others', 'television': 'Entertainment', 'polling': 'Others', 'eyewear': 'Health', 'rfid': 'Others', 'outdoors': 'Health', 'religion': 'Others', 'peer-to-peer': 'News, Search and Messaging', 'adventure travel': 'Automotive & Sports', 'limousines': 'Automotive & Sports', 'price comparison': 'Social, Finance, Analytics, Advertising', 'shipping': 'Others', 'biotechnology and semiconductor': 'Blanks', 'brewing': 'Entertainment', 'mobile enterprise': 'News, Search and Messaging', 'resorts': 'Entertainment', 'portals': 'Others', 'oil and gas': 'Others', 'social bookmarking': 'Social, Finance, Analytics, Advertising', 'web browsers': 'News, Search and Messaging', 'mobile software tools': 'Manufacturing', 'home renovation': 'Others', 'waste management': 'Cleantech / Semiconductors', 'debt collecting': 'Social, Finance, Analytics, Advertising', 'indoor positioning': 'Others', 'gas': 'Cleantech / Semiconductors', 'video on demand': 'Entertainment', 'geospatial': 'Others', 'video conferencing': 'Entertainment', 'craft beer': 'Entertainment', 'product design': 'Others', 'business information systems': 'Social, Finance, Analytics, Advertising', 'mobile payments': 'Social, Finance, Analytics, Advertising', 'natural resources': 'Cleantech / Semiconductors', 'rapidly expanding': 'Blanks', 'high tech': 'Others', 'theatre': 'Entertainment', 'web tools': 'Others', 'online dating': 'News, Search and Messaging', 'edutainment': 'Entertainment', 'it and cybersecurity': 'Others', 'mens specific': 'Health', 'high school students': 'Others', 'high schools': 'Others', 'material science': 'Cleantech / Semiconductors', 'social crm': 'Social, Finance, Analytics, Advertising', 'governance': 'Others', 'advertising networks': 'Social, Finance, Analytics, Advertising', 'lotteries': 'Social, Finance, Analytics, Advertising', 'green consumer goods': 'Cleantech / Semiconductors', 'in-flight entertainment': 'Entertainment', 'm2m': 'Others', 'diy': 'Others', 'retail technology': 'Social, Finance, Analytics, Advertising', 'business travelers': 'Entertainment', 'face recognition': 'Social, Finance, Analytics, Advertising', 'musical instruments': 'Entertainment', 'energy it': 'Cleantech / Semiconductors', 'skill assessment': 'Others', 'translation': 'Others', 'entertainment industry': 'Entertainment', 'genetic testing': 'Health', 'space travel': 'Cleantech / Semiconductors', 'fruit': 'Others', 'tourism': 'Entertainment', 'disruptive models': 'Cleantech / Semiconductors', 'p2p money transfer': 'Social, Finance, Analytics, Advertising', 'journalism': 'News, Search and Messaging', 'college recruiting': 'Social, Finance, Analytics, Advertising', 'fertility': 'Cleantech / Semiconductors', 'freetoplay gaming': 'Entertainment', 'commercial solar': 'Cleantech / Semiconductors', 'online identity': 'Others', 'pre seed': 'Social, Finance, Analytics, Advertising', 'local commerce': 'Others', 'nutrition': 'Health', 'physicians': 'Health', 'social fundraising': 'Social, Finance, Analytics, Advertising', 'senior health': 'Health', 'bpo services': 'Social, Finance, Analytics, Advertising', 'procurement': 'Others', 'qr codes': 'Others', 'solar': 'Cleantech / Semiconductors', 'mining technologies': 'Cleantech / Semiconductors', 'air pollution control': 'Cleantech / Semiconductors', 'enterprise resource planning': 'Others', 'presentations': 'Others', 'personal finance': 'Social, Finance, Analytics, Advertising', 'search marketing': 'News, Search and Messaging', 'mobile advertising': 'Social, Finance, Analytics, Advertising', 'incentives': 'Social, Finance, Analytics, Advertising', 'fleet management': 'Others', 'local based services': 'Others', 'independent pharmacies': 'Health', 'loyalty programs': 'Others', 'social games': 'Social, Finance, Analytics, Advertising', 'cosmetic surgery': 'Health', 'greentech': 'Blanks', 'mobile infrastructure': 'Manufacturing', 'professional networking': 'News, Search and Messaging', 'social media marketing': 'Social, Finance, Analytics, Advertising', 'early-stage technology': 'Cleantech / Semiconductors', 'enterprise purchasing': 'Social, Finance, Analytics, Advertising', 'mhealth': 'Health', 'music education': 'Entertainment', 'financial exchanges': 'Social, Finance, Analytics, Advertising', 'virtual workforces': 'Entertainment', 'shared services': 'Others', 'reputation': 'Others', 'promotional': 'Social, Finance, Analytics, Advertising', 'independent music labels': 'Entertainment', 'soccer': 'Automotive & Sports', 'microblogging': 'News, Search and Messaging', 'jewelry': 'Entertainment', 'water purification': 'Cleantech / Semiconductors', 'music venues': 'Entertainment', 'taxis': 'Others', 'social buying': 'Social, Finance, Analytics, Advertising', 'social + mobile + local': 'Social, Finance, Analytics, Advertising', 'gift exchange': 'Others', 'ride sharing': 'News, Search and Messaging', 'neuroscience': 'Health', 'interest graph': 'Others', 'parenting': 'Others', 'mechanical solutions': 'Cleantech / Semiconductors', 'user interface': 'Others', 'watch': 'Others', 'surveys': 'Others', 'service industries': 'Others', 'tracking': 'Others', 'task management': 'Others'}\n"
     ]
    }
   ],
   "source": [
    "print(primary_to_main_dict)"
   ]
  },
  {
   "cell_type": "code",
   "execution_count": 97,
   "metadata": {},
   "outputs": [],
   "source": [
    "# Converting the primary_Sector and main_sector dictionary to a dataframe so it can be marged with master_frame\n",
    "\n",
    "primary_to_main_df = pd.DataFrame(list(primary_to_main_dict.items()), columns = ['primary_sector','main_sector'])"
   ]
  },
  {
   "cell_type": "code",
   "execution_count": 98,
   "metadata": {
    "scrolled": false
   },
   "outputs": [
    {
     "data": {
      "text/html": [
       "<div>\n",
       "<style scoped>\n",
       "    .dataframe tbody tr th:only-of-type {\n",
       "        vertical-align: middle;\n",
       "    }\n",
       "\n",
       "    .dataframe tbody tr th {\n",
       "        vertical-align: top;\n",
       "    }\n",
       "\n",
       "    .dataframe thead th {\n",
       "        text-align: right;\n",
       "    }\n",
       "</style>\n",
       "<table border=\"1\" class=\"dataframe\">\n",
       "  <thead>\n",
       "    <tr style=\"text-align: right;\">\n",
       "      <th></th>\n",
       "      <th>primary_sector</th>\n",
       "      <th>main_sector</th>\n",
       "    </tr>\n",
       "  </thead>\n",
       "  <tbody>\n",
       "    <tr>\n",
       "      <th>0</th>\n",
       "      <td>media</td>\n",
       "      <td>Entertainment</td>\n",
       "    </tr>\n",
       "    <tr>\n",
       "      <th>1</th>\n",
       "      <td>application platforms</td>\n",
       "      <td>News, Search and Messaging</td>\n",
       "    </tr>\n",
       "    <tr>\n",
       "      <th>2</th>\n",
       "      <td>apps</td>\n",
       "      <td>News, Search and Messaging</td>\n",
       "    </tr>\n",
       "    <tr>\n",
       "      <th>3</th>\n",
       "      <td>curated web</td>\n",
       "      <td>News, Search and Messaging</td>\n",
       "    </tr>\n",
       "    <tr>\n",
       "      <th>4</th>\n",
       "      <td>software</td>\n",
       "      <td>Others</td>\n",
       "    </tr>\n",
       "  </tbody>\n",
       "</table>\n",
       "</div>"
      ],
      "text/plain": [
       "          primary_sector                 main_sector\n",
       "0                  media               Entertainment\n",
       "1  application platforms  News, Search and Messaging\n",
       "2                   apps  News, Search and Messaging\n",
       "3            curated web  News, Search and Messaging\n",
       "4               software                      Others"
      ]
     },
     "execution_count": 98,
     "metadata": {},
     "output_type": "execute_result"
    }
   ],
   "source": [
    "primary_to_main_df.head()"
   ]
  },
  {
   "cell_type": "code",
   "execution_count": 99,
   "metadata": {
    "scrolled": true
   },
   "outputs": [
    {
     "data": {
      "text/html": [
       "<div>\n",
       "<style scoped>\n",
       "    .dataframe tbody tr th:only-of-type {\n",
       "        vertical-align: middle;\n",
       "    }\n",
       "\n",
       "    .dataframe tbody tr th {\n",
       "        vertical-align: top;\n",
       "    }\n",
       "\n",
       "    .dataframe thead th {\n",
       "        text-align: right;\n",
       "    }\n",
       "</style>\n",
       "<table border=\"1\" class=\"dataframe\">\n",
       "  <thead>\n",
       "    <tr style=\"text-align: right;\">\n",
       "      <th></th>\n",
       "      <th>permalink</th>\n",
       "      <th>name</th>\n",
       "      <th>category_list</th>\n",
       "      <th>status</th>\n",
       "      <th>country_code</th>\n",
       "      <th>funding_round_permalink</th>\n",
       "      <th>funding_round_type</th>\n",
       "      <th>funded_at</th>\n",
       "      <th>raised_amount_usd</th>\n",
       "      <th>primary_sector</th>\n",
       "    </tr>\n",
       "  </thead>\n",
       "  <tbody>\n",
       "    <tr>\n",
       "      <th>0</th>\n",
       "      <td>/organization/-fame</td>\n",
       "      <td>#fame</td>\n",
       "      <td>Media</td>\n",
       "      <td>operating</td>\n",
       "      <td>IND</td>\n",
       "      <td>/funding-round/9a01d05418af9f794eebff7ace91f638</td>\n",
       "      <td>venture</td>\n",
       "      <td>05-01-2015</td>\n",
       "      <td>10000000.0</td>\n",
       "      <td>media</td>\n",
       "    </tr>\n",
       "    <tr>\n",
       "      <th>1</th>\n",
       "      <td>/organization/-qounter</td>\n",
       "      <td>:Qounter</td>\n",
       "      <td>Application Platforms|Real Time|Social Network...</td>\n",
       "      <td>operating</td>\n",
       "      <td>USA</td>\n",
       "      <td>/funding-round/22dacff496eb7acb2b901dec1dfe5633</td>\n",
       "      <td>venture</td>\n",
       "      <td>14-10-2014</td>\n",
       "      <td>5000000.0</td>\n",
       "      <td>application platforms</td>\n",
       "    </tr>\n",
       "    <tr>\n",
       "      <th>3</th>\n",
       "      <td>/organization/-the-one-of-them-inc-</td>\n",
       "      <td>(THE) ONE of THEM,Inc.</td>\n",
       "      <td>Apps|Games|Mobile</td>\n",
       "      <td>operating</td>\n",
       "      <td>USA</td>\n",
       "      <td>/funding-round/650b8f704416801069bb178a1418776b</td>\n",
       "      <td>venture</td>\n",
       "      <td>30-01-2014</td>\n",
       "      <td>3406878.0</td>\n",
       "      <td>apps</td>\n",
       "    </tr>\n",
       "    <tr>\n",
       "      <th>4</th>\n",
       "      <td>/organization/0-6-com</td>\n",
       "      <td>0-6.com</td>\n",
       "      <td>Curated Web</td>\n",
       "      <td>operating</td>\n",
       "      <td>CHN</td>\n",
       "      <td>/funding-round/5727accaeaa57461bd22a9bdd945382d</td>\n",
       "      <td>venture</td>\n",
       "      <td>19-03-2008</td>\n",
       "      <td>2000000.0</td>\n",
       "      <td>curated web</td>\n",
       "    </tr>\n",
       "    <tr>\n",
       "      <th>5</th>\n",
       "      <td>/organization/004-technologies</td>\n",
       "      <td>004 Technologies</td>\n",
       "      <td>Software</td>\n",
       "      <td>operating</td>\n",
       "      <td>USA</td>\n",
       "      <td>/funding-round/1278dd4e6a37fa4b7d7e06c21b3c1830</td>\n",
       "      <td>venture</td>\n",
       "      <td>24-07-2014</td>\n",
       "      <td>5000000.0</td>\n",
       "      <td>software</td>\n",
       "    </tr>\n",
       "  </tbody>\n",
       "</table>\n",
       "</div>"
      ],
      "text/plain": [
       "                             permalink                    name  \\\n",
       "0                  /organization/-fame                   #fame   \n",
       "1               /organization/-qounter                :Qounter   \n",
       "3  /organization/-the-one-of-them-inc-  (THE) ONE of THEM,Inc.   \n",
       "4                /organization/0-6-com                 0-6.com   \n",
       "5       /organization/004-technologies        004 Technologies   \n",
       "\n",
       "                                       category_list     status country_code  \\\n",
       "0                                              Media  operating          IND   \n",
       "1  Application Platforms|Real Time|Social Network...  operating          USA   \n",
       "3                                  Apps|Games|Mobile  operating          USA   \n",
       "4                                        Curated Web  operating          CHN   \n",
       "5                                           Software  operating          USA   \n",
       "\n",
       "                           funding_round_permalink funding_round_type  \\\n",
       "0  /funding-round/9a01d05418af9f794eebff7ace91f638            venture   \n",
       "1  /funding-round/22dacff496eb7acb2b901dec1dfe5633            venture   \n",
       "3  /funding-round/650b8f704416801069bb178a1418776b            venture   \n",
       "4  /funding-round/5727accaeaa57461bd22a9bdd945382d            venture   \n",
       "5  /funding-round/1278dd4e6a37fa4b7d7e06c21b3c1830            venture   \n",
       "\n",
       "    funded_at  raised_amount_usd         primary_sector  \n",
       "0  05-01-2015         10000000.0                  media  \n",
       "1  14-10-2014          5000000.0  application platforms  \n",
       "3  30-01-2014          3406878.0                   apps  \n",
       "4  19-03-2008          2000000.0            curated web  \n",
       "5  24-07-2014          5000000.0               software  "
      ]
     },
     "execution_count": 99,
     "metadata": {},
     "output_type": "execute_result"
    }
   ],
   "source": [
    "master_frame.head()"
   ]
  },
  {
   "cell_type": "code",
   "execution_count": 100,
   "metadata": {},
   "outputs": [
    {
     "data": {
      "text/plain": [
       "(50449, 11)"
      ]
     },
     "execution_count": 100,
     "metadata": {},
     "output_type": "execute_result"
    }
   ],
   "source": [
    "# Merge the two data frames\n",
    "master_frame = pd.merge(master_frame, primary_to_main_df, how=\"inner\", on=\"primary_sector\")\n",
    "master_frame.shape"
   ]
  },
  {
   "cell_type": "code",
   "execution_count": 101,
   "metadata": {},
   "outputs": [
    {
     "data": {
      "text/plain": [
       "(7, 11)"
      ]
     },
     "execution_count": 101,
     "metadata": {},
     "output_type": "execute_result"
    }
   ],
   "source": [
    "# Calculating occurences of \"Blanks\" category in the master_frame\n",
    "master_frame.loc[master_frame[\"main_sector\"]==\"Blanks\",:].shape"
   ]
  },
  {
   "cell_type": "code",
   "execution_count": 102,
   "metadata": {},
   "outputs": [
    {
     "data": {
      "text/plain": [
       "(50442, 11)"
      ]
     },
     "execution_count": 102,
     "metadata": {},
     "output_type": "execute_result"
    }
   ],
   "source": [
    "# Removing \"Blanks\" category from the master_frame\n",
    "master_frame = master_frame.loc[master_frame[\"main_sector\"]!=\"Blanks\",:]\n",
    "master_frame.shape"
   ]
  },
  {
   "cell_type": "code",
   "execution_count": 103,
   "metadata": {
    "scrolled": true
   },
   "outputs": [
    {
     "data": {
      "text/html": [
       "<div>\n",
       "<style scoped>\n",
       "    .dataframe tbody tr th:only-of-type {\n",
       "        vertical-align: middle;\n",
       "    }\n",
       "\n",
       "    .dataframe tbody tr th {\n",
       "        vertical-align: top;\n",
       "    }\n",
       "\n",
       "    .dataframe thead th {\n",
       "        text-align: right;\n",
       "    }\n",
       "</style>\n",
       "<table border=\"1\" class=\"dataframe\">\n",
       "  <thead>\n",
       "    <tr style=\"text-align: right;\">\n",
       "      <th></th>\n",
       "      <th>permalink</th>\n",
       "      <th>name</th>\n",
       "      <th>category_list</th>\n",
       "      <th>status</th>\n",
       "      <th>country_code</th>\n",
       "      <th>funding_round_permalink</th>\n",
       "      <th>funding_round_type</th>\n",
       "      <th>funded_at</th>\n",
       "      <th>raised_amount_usd</th>\n",
       "      <th>primary_sector</th>\n",
       "      <th>main_sector</th>\n",
       "    </tr>\n",
       "  </thead>\n",
       "  <tbody>\n",
       "    <tr>\n",
       "      <th>0</th>\n",
       "      <td>/organization/-fame</td>\n",
       "      <td>#fame</td>\n",
       "      <td>Media</td>\n",
       "      <td>operating</td>\n",
       "      <td>IND</td>\n",
       "      <td>/funding-round/9a01d05418af9f794eebff7ace91f638</td>\n",
       "      <td>venture</td>\n",
       "      <td>05-01-2015</td>\n",
       "      <td>10000000.0</td>\n",
       "      <td>media</td>\n",
       "      <td>Entertainment</td>\n",
       "    </tr>\n",
       "    <tr>\n",
       "      <th>1</th>\n",
       "      <td>/organization/90min</td>\n",
       "      <td>90min</td>\n",
       "      <td>Media|News|Publishing|Soccer|Sports</td>\n",
       "      <td>operating</td>\n",
       "      <td>GBR</td>\n",
       "      <td>/funding-round/21a2cbf6f2fb2a1c2a61e04bf930dfe6</td>\n",
       "      <td>venture</td>\n",
       "      <td>06-10-2015</td>\n",
       "      <td>15000000.0</td>\n",
       "      <td>media</td>\n",
       "      <td>Entertainment</td>\n",
       "    </tr>\n",
       "    <tr>\n",
       "      <th>2</th>\n",
       "      <td>/organization/90min</td>\n",
       "      <td>90min</td>\n",
       "      <td>Media|News|Publishing|Soccer|Sports</td>\n",
       "      <td>operating</td>\n",
       "      <td>GBR</td>\n",
       "      <td>/funding-round/bd626ed022f5c66574b1afe234f3c90d</td>\n",
       "      <td>venture</td>\n",
       "      <td>07-05-2013</td>\n",
       "      <td>5800000.0</td>\n",
       "      <td>media</td>\n",
       "      <td>Entertainment</td>\n",
       "    </tr>\n",
       "    <tr>\n",
       "      <th>3</th>\n",
       "      <td>/organization/90min</td>\n",
       "      <td>90min</td>\n",
       "      <td>Media|News|Publishing|Soccer|Sports</td>\n",
       "      <td>operating</td>\n",
       "      <td>GBR</td>\n",
       "      <td>/funding-round/fd4b15e8c97ee2ffc0acccdbe1a98810</td>\n",
       "      <td>venture</td>\n",
       "      <td>26-03-2014</td>\n",
       "      <td>18000000.0</td>\n",
       "      <td>media</td>\n",
       "      <td>Entertainment</td>\n",
       "    </tr>\n",
       "    <tr>\n",
       "      <th>4</th>\n",
       "      <td>/organization/all-def-digital</td>\n",
       "      <td>All Def Digital</td>\n",
       "      <td>Media</td>\n",
       "      <td>operating</td>\n",
       "      <td>USA</td>\n",
       "      <td>/funding-round/452a2342fe720285c3b92e9bd927d9ba</td>\n",
       "      <td>venture</td>\n",
       "      <td>06-08-2014</td>\n",
       "      <td>5000000.0</td>\n",
       "      <td>media</td>\n",
       "      <td>Entertainment</td>\n",
       "    </tr>\n",
       "  </tbody>\n",
       "</table>\n",
       "</div>"
      ],
      "text/plain": [
       "                       permalink             name  \\\n",
       "0            /organization/-fame            #fame   \n",
       "1            /organization/90min            90min   \n",
       "2            /organization/90min            90min   \n",
       "3            /organization/90min            90min   \n",
       "4  /organization/all-def-digital  All Def Digital   \n",
       "\n",
       "                         category_list     status country_code  \\\n",
       "0                                Media  operating          IND   \n",
       "1  Media|News|Publishing|Soccer|Sports  operating          GBR   \n",
       "2  Media|News|Publishing|Soccer|Sports  operating          GBR   \n",
       "3  Media|News|Publishing|Soccer|Sports  operating          GBR   \n",
       "4                                Media  operating          USA   \n",
       "\n",
       "                           funding_round_permalink funding_round_type  \\\n",
       "0  /funding-round/9a01d05418af9f794eebff7ace91f638            venture   \n",
       "1  /funding-round/21a2cbf6f2fb2a1c2a61e04bf930dfe6            venture   \n",
       "2  /funding-round/bd626ed022f5c66574b1afe234f3c90d            venture   \n",
       "3  /funding-round/fd4b15e8c97ee2ffc0acccdbe1a98810            venture   \n",
       "4  /funding-round/452a2342fe720285c3b92e9bd927d9ba            venture   \n",
       "\n",
       "    funded_at  raised_amount_usd primary_sector    main_sector  \n",
       "0  05-01-2015         10000000.0          media  Entertainment  \n",
       "1  06-10-2015         15000000.0          media  Entertainment  \n",
       "2  07-05-2013          5800000.0          media  Entertainment  \n",
       "3  26-03-2014         18000000.0          media  Entertainment  \n",
       "4  06-08-2014          5000000.0          media  Entertainment  "
      ]
     },
     "execution_count": 103,
     "metadata": {},
     "output_type": "execute_result"
    }
   ],
   "source": [
    "# The output of Sector Analysis 1\n",
    "master_frame.head()"
   ]
  },
  {
   "cell_type": "markdown",
   "metadata": {},
   "source": [
    "# Sector Analysis 2"
   ]
  },
  {
   "cell_type": "markdown",
   "metadata": {},
   "source": [
    "According to country Analysis :"
   ]
  },
  {
   "cell_type": "markdown",
   "metadata": {},
   "source": [
    "Country 1 - USA, Country 2 - GBR, Country 3 - IND"
   ]
  },
  {
   "cell_type": "code",
   "execution_count": 104,
   "metadata": {},
   "outputs": [
    {
     "data": {
      "text/plain": [
       "count       50442\n",
       "unique          1\n",
       "top       venture\n",
       "freq        50442\n",
       "Name: funding_round_type, dtype: object"
      ]
     },
     "execution_count": 104,
     "metadata": {},
     "output_type": "execute_result"
    }
   ],
   "source": [
    "master_frame[\"funding_round_type\"].describe()"
   ]
  },
  {
   "cell_type": "markdown",
   "metadata": {},
   "source": [
    "While performing Funding Type Analysis, it was determined that \"venture\" is the only suitable FT and hence other FTs were removed from the dataframe. Thus there will not be a need for putting condition on founding_round_type."
   ]
  },
  {
   "cell_type": "code",
   "execution_count": 105,
   "metadata": {
    "scrolled": true
   },
   "outputs": [
    {
     "data": {
      "text/html": [
       "<div>\n",
       "<style scoped>\n",
       "    .dataframe tbody tr th:only-of-type {\n",
       "        vertical-align: middle;\n",
       "    }\n",
       "\n",
       "    .dataframe tbody tr th {\n",
       "        vertical-align: top;\n",
       "    }\n",
       "\n",
       "    .dataframe thead th {\n",
       "        text-align: right;\n",
       "    }\n",
       "</style>\n",
       "<table border=\"1\" class=\"dataframe\">\n",
       "  <thead>\n",
       "    <tr style=\"text-align: right;\">\n",
       "      <th></th>\n",
       "      <th>permalink</th>\n",
       "      <th>name</th>\n",
       "      <th>category_list</th>\n",
       "      <th>status</th>\n",
       "      <th>country_code</th>\n",
       "      <th>funding_round_permalink</th>\n",
       "      <th>funding_round_type</th>\n",
       "      <th>funded_at</th>\n",
       "      <th>raised_amount_usd</th>\n",
       "      <th>primary_sector</th>\n",
       "      <th>main_sector</th>\n",
       "    </tr>\n",
       "  </thead>\n",
       "  <tbody>\n",
       "    <tr>\n",
       "      <th>4</th>\n",
       "      <td>/organization/all-def-digital</td>\n",
       "      <td>All Def Digital</td>\n",
       "      <td>Media</td>\n",
       "      <td>operating</td>\n",
       "      <td>USA</td>\n",
       "      <td>/funding-round/452a2342fe720285c3b92e9bd927d9ba</td>\n",
       "      <td>venture</td>\n",
       "      <td>06-08-2014</td>\n",
       "      <td>5000000.0</td>\n",
       "      <td>media</td>\n",
       "      <td>Entertainment</td>\n",
       "    </tr>\n",
       "    <tr>\n",
       "      <th>14</th>\n",
       "      <td>/organization/chefs-feed</td>\n",
       "      <td>ChefsFeed</td>\n",
       "      <td>Media|Mobile|Restaurants|Technology</td>\n",
       "      <td>operating</td>\n",
       "      <td>USA</td>\n",
       "      <td>/funding-round/adca195749ae9ace84684723fbe75e5b</td>\n",
       "      <td>venture</td>\n",
       "      <td>26-02-2015</td>\n",
       "      <td>5000000.0</td>\n",
       "      <td>media</td>\n",
       "      <td>Entertainment</td>\n",
       "    </tr>\n",
       "    <tr>\n",
       "      <th>21</th>\n",
       "      <td>/organization/huffingtonpost</td>\n",
       "      <td>The Huffington Post</td>\n",
       "      <td>Media|News|Publishing</td>\n",
       "      <td>acquired</td>\n",
       "      <td>USA</td>\n",
       "      <td>/funding-round/7f05940c4d2dfecb8e50a0e5720e5065</td>\n",
       "      <td>venture</td>\n",
       "      <td>01-08-2006</td>\n",
       "      <td>5000000.0</td>\n",
       "      <td>media</td>\n",
       "      <td>Entertainment</td>\n",
       "    </tr>\n",
       "    <tr>\n",
       "      <th>22</th>\n",
       "      <td>/organization/huffingtonpost</td>\n",
       "      <td>The Huffington Post</td>\n",
       "      <td>Media|News|Publishing</td>\n",
       "      <td>acquired</td>\n",
       "      <td>USA</td>\n",
       "      <td>/funding-round/9241ae16e08df17ebdc064e49e23035a</td>\n",
       "      <td>venture</td>\n",
       "      <td>01-09-2007</td>\n",
       "      <td>5000000.0</td>\n",
       "      <td>media</td>\n",
       "      <td>Entertainment</td>\n",
       "    </tr>\n",
       "    <tr>\n",
       "      <th>33</th>\n",
       "      <td>/organization/mediabong</td>\n",
       "      <td>MEDIABONG</td>\n",
       "      <td>Media|Semantic Search|Video</td>\n",
       "      <td>operating</td>\n",
       "      <td>USA</td>\n",
       "      <td>/funding-round/9282890ca87072025dc1807f400acee6</td>\n",
       "      <td>venture</td>\n",
       "      <td>13-05-2015</td>\n",
       "      <td>5000000.0</td>\n",
       "      <td>media</td>\n",
       "      <td>Entertainment</td>\n",
       "    </tr>\n",
       "  </tbody>\n",
       "</table>\n",
       "</div>"
      ],
      "text/plain": [
       "                        permalink                 name  \\\n",
       "4   /organization/all-def-digital      All Def Digital   \n",
       "14       /organization/chefs-feed            ChefsFeed   \n",
       "21   /organization/huffingtonpost  The Huffington Post   \n",
       "22   /organization/huffingtonpost  The Huffington Post   \n",
       "33        /organization/mediabong            MEDIABONG   \n",
       "\n",
       "                          category_list     status country_code  \\\n",
       "4                                 Media  operating          USA   \n",
       "14  Media|Mobile|Restaurants|Technology  operating          USA   \n",
       "21                Media|News|Publishing   acquired          USA   \n",
       "22                Media|News|Publishing   acquired          USA   \n",
       "33          Media|Semantic Search|Video  operating          USA   \n",
       "\n",
       "                            funding_round_permalink funding_round_type  \\\n",
       "4   /funding-round/452a2342fe720285c3b92e9bd927d9ba            venture   \n",
       "14  /funding-round/adca195749ae9ace84684723fbe75e5b            venture   \n",
       "21  /funding-round/7f05940c4d2dfecb8e50a0e5720e5065            venture   \n",
       "22  /funding-round/9241ae16e08df17ebdc064e49e23035a            venture   \n",
       "33  /funding-round/9282890ca87072025dc1807f400acee6            venture   \n",
       "\n",
       "     funded_at  raised_amount_usd primary_sector    main_sector  \n",
       "4   06-08-2014          5000000.0          media  Entertainment  \n",
       "14  26-02-2015          5000000.0          media  Entertainment  \n",
       "21  01-08-2006          5000000.0          media  Entertainment  \n",
       "22  01-09-2007          5000000.0          media  Entertainment  \n",
       "33  13-05-2015          5000000.0          media  Entertainment  "
      ]
     },
     "execution_count": 105,
     "metadata": {},
     "output_type": "execute_result"
    }
   ],
   "source": [
    "D1 = master_frame.loc[ (master_frame[\"country_code\"]==\"USA\") & (master_frame[\"raised_amount_usd\"] >= 5000000) & (master_frame[\"raised_amount_usd\"] <= 15000000) ,:]\n",
    "D1.head()"
   ]
  },
  {
   "cell_type": "code",
   "execution_count": 106,
   "metadata": {},
   "outputs": [
    {
     "data": {
      "text/plain": [
       "(14573, 11)"
      ]
     },
     "execution_count": 106,
     "metadata": {},
     "output_type": "execute_result"
    }
   ],
   "source": [
    "# Finding total number of investments for country D1 - equal to number of rows\n",
    "# I have not considered multiple investments in same company as a single investment\n",
    "D1.shape"
   ]
  },
  {
   "cell_type": "code",
   "execution_count": 107,
   "metadata": {},
   "outputs": [
    {
     "data": {
      "text/plain": [
       "119846942758.0"
      ]
     },
     "execution_count": 107,
     "metadata": {},
     "output_type": "execute_result"
    }
   ],
   "source": [
    "D1[\"raised_amount_usd\"].sum()"
   ]
  },
  {
   "cell_type": "code",
   "execution_count": 108,
   "metadata": {},
   "outputs": [
    {
     "data": {
      "text/html": [
       "<div>\n",
       "<style scoped>\n",
       "    .dataframe tbody tr th:only-of-type {\n",
       "        vertical-align: middle;\n",
       "    }\n",
       "\n",
       "    .dataframe tbody tr th {\n",
       "        vertical-align: top;\n",
       "    }\n",
       "\n",
       "    .dataframe thead th {\n",
       "        text-align: right;\n",
       "    }\n",
       "</style>\n",
       "<table border=\"1\" class=\"dataframe\">\n",
       "  <thead>\n",
       "    <tr style=\"text-align: right;\">\n",
       "      <th></th>\n",
       "      <th>permalink</th>\n",
       "      <th>name</th>\n",
       "      <th>category_list</th>\n",
       "      <th>status</th>\n",
       "      <th>country_code</th>\n",
       "      <th>funding_round_permalink</th>\n",
       "      <th>funding_round_type</th>\n",
       "      <th>funded_at</th>\n",
       "      <th>raised_amount_usd</th>\n",
       "      <th>primary_sector</th>\n",
       "      <th>main_sector</th>\n",
       "    </tr>\n",
       "  </thead>\n",
       "  <tbody>\n",
       "    <tr>\n",
       "      <th>1</th>\n",
       "      <td>/organization/90min</td>\n",
       "      <td>90min</td>\n",
       "      <td>Media|News|Publishing|Soccer|Sports</td>\n",
       "      <td>operating</td>\n",
       "      <td>GBR</td>\n",
       "      <td>/funding-round/21a2cbf6f2fb2a1c2a61e04bf930dfe6</td>\n",
       "      <td>venture</td>\n",
       "      <td>06-10-2015</td>\n",
       "      <td>15000000.0</td>\n",
       "      <td>media</td>\n",
       "      <td>Entertainment</td>\n",
       "    </tr>\n",
       "    <tr>\n",
       "      <th>2</th>\n",
       "      <td>/organization/90min</td>\n",
       "      <td>90min</td>\n",
       "      <td>Media|News|Publishing|Soccer|Sports</td>\n",
       "      <td>operating</td>\n",
       "      <td>GBR</td>\n",
       "      <td>/funding-round/bd626ed022f5c66574b1afe234f3c90d</td>\n",
       "      <td>venture</td>\n",
       "      <td>07-05-2013</td>\n",
       "      <td>5800000.0</td>\n",
       "      <td>media</td>\n",
       "      <td>Entertainment</td>\n",
       "    </tr>\n",
       "    <tr>\n",
       "      <th>84</th>\n",
       "      <td>/organization/common-interest-communities</td>\n",
       "      <td>Common Interest Communities</td>\n",
       "      <td>Application Platforms|Internet|Software|Startups</td>\n",
       "      <td>operating</td>\n",
       "      <td>GBR</td>\n",
       "      <td>/funding-round/8195587cbd5e51af7514ee92ef4ba6ba</td>\n",
       "      <td>venture</td>\n",
       "      <td>09-07-2014</td>\n",
       "      <td>10000000.0</td>\n",
       "      <td>application platforms</td>\n",
       "      <td>News, Search and Messaging</td>\n",
       "    </tr>\n",
       "    <tr>\n",
       "      <th>100</th>\n",
       "      <td>/organization/geospock-ltd-</td>\n",
       "      <td>GeoSpock Ltd.</td>\n",
       "      <td>Application Platforms|Databases|Real Time</td>\n",
       "      <td>operating</td>\n",
       "      <td>GBR</td>\n",
       "      <td>/funding-round/cf3fe3b7c86186b9f478d0ea37613f7a</td>\n",
       "      <td>venture</td>\n",
       "      <td>01-10-2014</td>\n",
       "      <td>5460000.0</td>\n",
       "      <td>application platforms</td>\n",
       "      <td>News, Search and Messaging</td>\n",
       "    </tr>\n",
       "    <tr>\n",
       "      <th>101</th>\n",
       "      <td>/organization/geospock-ltd-</td>\n",
       "      <td>GeoSpock Ltd.</td>\n",
       "      <td>Application Platforms|Databases|Real Time</td>\n",
       "      <td>operating</td>\n",
       "      <td>GBR</td>\n",
       "      <td>/funding-round/e5e4ef4ebae63fc36ef0cd57dd20ff1c</td>\n",
       "      <td>venture</td>\n",
       "      <td>05-10-2015</td>\n",
       "      <td>5400000.0</td>\n",
       "      <td>application platforms</td>\n",
       "      <td>News, Search and Messaging</td>\n",
       "    </tr>\n",
       "  </tbody>\n",
       "</table>\n",
       "</div>"
      ],
      "text/plain": [
       "                                     permalink                         name  \\\n",
       "1                          /organization/90min                        90min   \n",
       "2                          /organization/90min                        90min   \n",
       "84   /organization/common-interest-communities  Common Interest Communities   \n",
       "100                /organization/geospock-ltd-                GeoSpock Ltd.   \n",
       "101                /organization/geospock-ltd-                GeoSpock Ltd.   \n",
       "\n",
       "                                        category_list     status country_code  \\\n",
       "1                 Media|News|Publishing|Soccer|Sports  operating          GBR   \n",
       "2                 Media|News|Publishing|Soccer|Sports  operating          GBR   \n",
       "84   Application Platforms|Internet|Software|Startups  operating          GBR   \n",
       "100         Application Platforms|Databases|Real Time  operating          GBR   \n",
       "101         Application Platforms|Databases|Real Time  operating          GBR   \n",
       "\n",
       "                             funding_round_permalink funding_round_type  \\\n",
       "1    /funding-round/21a2cbf6f2fb2a1c2a61e04bf930dfe6            venture   \n",
       "2    /funding-round/bd626ed022f5c66574b1afe234f3c90d            venture   \n",
       "84   /funding-round/8195587cbd5e51af7514ee92ef4ba6ba            venture   \n",
       "100  /funding-round/cf3fe3b7c86186b9f478d0ea37613f7a            venture   \n",
       "101  /funding-round/e5e4ef4ebae63fc36ef0cd57dd20ff1c            venture   \n",
       "\n",
       "      funded_at  raised_amount_usd         primary_sector  \\\n",
       "1    06-10-2015         15000000.0                  media   \n",
       "2    07-05-2013          5800000.0                  media   \n",
       "84   09-07-2014         10000000.0  application platforms   \n",
       "100  01-10-2014          5460000.0  application platforms   \n",
       "101  05-10-2015          5400000.0  application platforms   \n",
       "\n",
       "                    main_sector  \n",
       "1                 Entertainment  \n",
       "2                 Entertainment  \n",
       "84   News, Search and Messaging  \n",
       "100  News, Search and Messaging  \n",
       "101  News, Search and Messaging  "
      ]
     },
     "execution_count": 108,
     "metadata": {},
     "output_type": "execute_result"
    }
   ],
   "source": [
    "D2 = master_frame.loc[ (master_frame[\"country_code\"]==\"GBR\") & (master_frame[\"raised_amount_usd\"] >= 5000000) & (master_frame[\"raised_amount_usd\"] <= 15000000) ,:]\n",
    "D2.head()"
   ]
  },
  {
   "cell_type": "code",
   "execution_count": 109,
   "metadata": {},
   "outputs": [
    {
     "data": {
      "text/plain": [
       "(816, 11)"
      ]
     },
     "execution_count": 109,
     "metadata": {},
     "output_type": "execute_result"
    }
   ],
   "source": [
    "# Finding total number of investments for country D2 - equal to number of rows\n",
    "D2.shape"
   ]
  },
  {
   "cell_type": "code",
   "execution_count": 110,
   "metadata": {},
   "outputs": [
    {
     "data": {
      "text/plain": [
       "6238543406.0"
      ]
     },
     "execution_count": 110,
     "metadata": {},
     "output_type": "execute_result"
    }
   ],
   "source": [
    "D2[\"raised_amount_usd\"].sum()"
   ]
  },
  {
   "cell_type": "code",
   "execution_count": 111,
   "metadata": {},
   "outputs": [
    {
     "data": {
      "text/html": [
       "<div>\n",
       "<style scoped>\n",
       "    .dataframe tbody tr th:only-of-type {\n",
       "        vertical-align: middle;\n",
       "    }\n",
       "\n",
       "    .dataframe tbody tr th {\n",
       "        vertical-align: top;\n",
       "    }\n",
       "\n",
       "    .dataframe thead th {\n",
       "        text-align: right;\n",
       "    }\n",
       "</style>\n",
       "<table border=\"1\" class=\"dataframe\">\n",
       "  <thead>\n",
       "    <tr style=\"text-align: right;\">\n",
       "      <th></th>\n",
       "      <th>permalink</th>\n",
       "      <th>name</th>\n",
       "      <th>category_list</th>\n",
       "      <th>status</th>\n",
       "      <th>country_code</th>\n",
       "      <th>funding_round_permalink</th>\n",
       "      <th>funding_round_type</th>\n",
       "      <th>funded_at</th>\n",
       "      <th>raised_amount_usd</th>\n",
       "      <th>primary_sector</th>\n",
       "      <th>main_sector</th>\n",
       "    </tr>\n",
       "  </thead>\n",
       "  <tbody>\n",
       "    <tr>\n",
       "      <th>157</th>\n",
       "      <td>/organization/500px</td>\n",
       "      <td>500px</td>\n",
       "      <td>Apps|Internet|Photography|Promotional|Sales an...</td>\n",
       "      <td>operating</td>\n",
       "      <td>CAN</td>\n",
       "      <td>/funding-round/344b1e2b60ff76f4548c69ea7c04901f</td>\n",
       "      <td>venture</td>\n",
       "      <td>07-08-2013</td>\n",
       "      <td>8800000.0</td>\n",
       "      <td>apps</td>\n",
       "      <td>News, Search and Messaging</td>\n",
       "    </tr>\n",
       "    <tr>\n",
       "      <th>158</th>\n",
       "      <td>/organization/500px</td>\n",
       "      <td>500px</td>\n",
       "      <td>Apps|Internet|Photography|Promotional|Sales an...</td>\n",
       "      <td>operating</td>\n",
       "      <td>CAN</td>\n",
       "      <td>/funding-round/36b2c6975d20b602b5d9ea9724e383ea</td>\n",
       "      <td>venture</td>\n",
       "      <td>21-07-2015</td>\n",
       "      <td>13000000.0</td>\n",
       "      <td>apps</td>\n",
       "      <td>News, Search and Messaging</td>\n",
       "    </tr>\n",
       "    <tr>\n",
       "      <th>159</th>\n",
       "      <td>/organization/500px</td>\n",
       "      <td>500px</td>\n",
       "      <td>Apps|Internet|Photography|Promotional|Sales an...</td>\n",
       "      <td>operating</td>\n",
       "      <td>CAN</td>\n",
       "      <td>/funding-round/79c5fa844058b277cfa4d14231e71c9e</td>\n",
       "      <td>venture</td>\n",
       "      <td>01-10-2012</td>\n",
       "      <td>5000000.0</td>\n",
       "      <td>apps</td>\n",
       "      <td>News, Search and Messaging</td>\n",
       "    </tr>\n",
       "    <tr>\n",
       "      <th>161</th>\n",
       "      <td>/organization/500px</td>\n",
       "      <td>500px</td>\n",
       "      <td>Apps|Internet|Photography|Promotional|Sales an...</td>\n",
       "      <td>operating</td>\n",
       "      <td>CAN</td>\n",
       "      <td>/funding-round/9bfb5c28edeb300e49a54d61805afe08</td>\n",
       "      <td>venture</td>\n",
       "      <td>28-12-2011</td>\n",
       "      <td>5000000.0</td>\n",
       "      <td>apps</td>\n",
       "      <td>News, Search and Messaging</td>\n",
       "    </tr>\n",
       "    <tr>\n",
       "      <th>162</th>\n",
       "      <td>/organization/500px</td>\n",
       "      <td>500px</td>\n",
       "      <td>Apps|Internet|Photography|Promotional|Sales an...</td>\n",
       "      <td>operating</td>\n",
       "      <td>CAN</td>\n",
       "      <td>/funding-round/dc3ecf929da7967aef6d2502f76edbd1</td>\n",
       "      <td>venture</td>\n",
       "      <td>30-05-2012</td>\n",
       "      <td>5000000.0</td>\n",
       "      <td>apps</td>\n",
       "      <td>News, Search and Messaging</td>\n",
       "    </tr>\n",
       "  </tbody>\n",
       "</table>\n",
       "</div>"
      ],
      "text/plain": [
       "               permalink   name  \\\n",
       "157  /organization/500px  500px   \n",
       "158  /organization/500px  500px   \n",
       "159  /organization/500px  500px   \n",
       "161  /organization/500px  500px   \n",
       "162  /organization/500px  500px   \n",
       "\n",
       "                                         category_list     status  \\\n",
       "157  Apps|Internet|Photography|Promotional|Sales an...  operating   \n",
       "158  Apps|Internet|Photography|Promotional|Sales an...  operating   \n",
       "159  Apps|Internet|Photography|Promotional|Sales an...  operating   \n",
       "161  Apps|Internet|Photography|Promotional|Sales an...  operating   \n",
       "162  Apps|Internet|Photography|Promotional|Sales an...  operating   \n",
       "\n",
       "    country_code                          funding_round_permalink  \\\n",
       "157          CAN  /funding-round/344b1e2b60ff76f4548c69ea7c04901f   \n",
       "158          CAN  /funding-round/36b2c6975d20b602b5d9ea9724e383ea   \n",
       "159          CAN  /funding-round/79c5fa844058b277cfa4d14231e71c9e   \n",
       "161          CAN  /funding-round/9bfb5c28edeb300e49a54d61805afe08   \n",
       "162          CAN  /funding-round/dc3ecf929da7967aef6d2502f76edbd1   \n",
       "\n",
       "    funding_round_type   funded_at  raised_amount_usd primary_sector  \\\n",
       "157            venture  07-08-2013          8800000.0           apps   \n",
       "158            venture  21-07-2015         13000000.0           apps   \n",
       "159            venture  01-10-2012          5000000.0           apps   \n",
       "161            venture  28-12-2011          5000000.0           apps   \n",
       "162            venture  30-05-2012          5000000.0           apps   \n",
       "\n",
       "                    main_sector  \n",
       "157  News, Search and Messaging  \n",
       "158  News, Search and Messaging  \n",
       "159  News, Search and Messaging  \n",
       "161  News, Search and Messaging  \n",
       "162  News, Search and Messaging  "
      ]
     },
     "execution_count": 111,
     "metadata": {},
     "output_type": "execute_result"
    }
   ],
   "source": [
    "# Finding total number of investments for country D3 - equal to number of rows\n",
    "D3 = master_frame.loc[ (master_frame[\"country_code\"]==\"CAN\") & (master_frame[\"raised_amount_usd\"] >= 5000000) & (master_frame[\"raised_amount_usd\"] <= 15000000) ,:]\n",
    "D3.head()"
   ]
  },
  {
   "cell_type": "code",
   "execution_count": 112,
   "metadata": {
    "scrolled": true
   },
   "outputs": [
    {
     "data": {
      "text/plain": [
       "(477, 11)"
      ]
     },
     "execution_count": 112,
     "metadata": {},
     "output_type": "execute_result"
    }
   ],
   "source": [
    "D3.shape"
   ]
  },
  {
   "cell_type": "code",
   "execution_count": 113,
   "metadata": {},
   "outputs": [
    {
     "data": {
      "text/plain": [
       "3783474736.0"
      ]
     },
     "execution_count": 113,
     "metadata": {},
     "output_type": "execute_result"
    }
   ],
   "source": [
    "D3[\"raised_amount_usd\"].sum()"
   ]
  },
  {
   "cell_type": "markdown",
   "metadata": {},
   "source": [
    "### Sector wise Calculations for D1 ( USA )"
   ]
  },
  {
   "cell_type": "code",
   "execution_count": 114,
   "metadata": {
    "scrolled": true
   },
   "outputs": [
    {
     "data": {
      "text/html": [
       "<div>\n",
       "<style scoped>\n",
       "    .dataframe tbody tr th:only-of-type {\n",
       "        vertical-align: middle;\n",
       "    }\n",
       "\n",
       "    .dataframe tbody tr th {\n",
       "        vertical-align: top;\n",
       "    }\n",
       "\n",
       "    .dataframe thead tr th {\n",
       "        text-align: left;\n",
       "    }\n",
       "\n",
       "    .dataframe thead tr:last-of-type th {\n",
       "        text-align: right;\n",
       "    }\n",
       "</style>\n",
       "<table border=\"1\" class=\"dataframe\">\n",
       "  <thead>\n",
       "    <tr>\n",
       "      <th></th>\n",
       "      <th>sum</th>\n",
       "      <th>count</th>\n",
       "    </tr>\n",
       "    <tr>\n",
       "      <th></th>\n",
       "      <th>raised_amount_usd</th>\n",
       "      <th>raised_amount_usd</th>\n",
       "    </tr>\n",
       "    <tr>\n",
       "      <th>main_sector</th>\n",
       "      <th></th>\n",
       "      <th></th>\n",
       "    </tr>\n",
       "  </thead>\n",
       "  <tbody>\n",
       "    <tr>\n",
       "      <th>Automotive &amp; Sports</th>\n",
       "      <td>1.842405e+09</td>\n",
       "      <td>241</td>\n",
       "    </tr>\n",
       "    <tr>\n",
       "      <th>Cleantech / Semiconductors</th>\n",
       "      <td>2.461135e+10</td>\n",
       "      <td>2954</td>\n",
       "    </tr>\n",
       "    <tr>\n",
       "      <th>Entertainment</th>\n",
       "      <td>5.931231e+09</td>\n",
       "      <td>759</td>\n",
       "    </tr>\n",
       "    <tr>\n",
       "      <th>Health</th>\n",
       "      <td>8.872950e+09</td>\n",
       "      <td>1049</td>\n",
       "    </tr>\n",
       "    <tr>\n",
       "      <th>Manufacturing</th>\n",
       "      <td>8.162209e+09</td>\n",
       "      <td>995</td>\n",
       "    </tr>\n",
       "    <tr>\n",
       "      <th>News, Search and Messaging</th>\n",
       "      <td>1.535794e+10</td>\n",
       "      <td>1871</td>\n",
       "    </tr>\n",
       "    <tr>\n",
       "      <th>Others</th>\n",
       "      <td>2.813693e+10</td>\n",
       "      <td>3383</td>\n",
       "    </tr>\n",
       "    <tr>\n",
       "      <th>Social, Finance, Analytics, Advertising</th>\n",
       "      <td>2.693193e+10</td>\n",
       "      <td>3321</td>\n",
       "    </tr>\n",
       "  </tbody>\n",
       "</table>\n",
       "</div>"
      ],
      "text/plain": [
       "                                                      sum             count\n",
       "                                        raised_amount_usd raised_amount_usd\n",
       "main_sector                                                                \n",
       "Automotive & Sports                          1.842405e+09               241\n",
       "Cleantech / Semiconductors                   2.461135e+10              2954\n",
       "Entertainment                                5.931231e+09               759\n",
       "Health                                       8.872950e+09              1049\n",
       "Manufacturing                                8.162209e+09               995\n",
       "News, Search and Messaging                   1.535794e+10              1871\n",
       "Others                                       2.813693e+10              3383\n",
       "Social, Finance, Analytics, Advertising      2.693193e+10              3321"
      ]
     },
     "execution_count": 114,
     "metadata": {},
     "output_type": "execute_result"
    }
   ],
   "source": [
    "D1.pivot_table(values = 'raised_amount_usd', index = 'main_sector', aggfunc = ['sum','count'])"
   ]
  },
  {
   "cell_type": "markdown",
   "metadata": {},
   "source": [
    "##### Company that received the highest investment for Other Sector (top sector of USA) :"
   ]
  },
  {
   "cell_type": "code",
   "execution_count": 115,
   "metadata": {
    "scrolled": false
   },
   "outputs": [
    {
     "data": {
      "text/html": [
       "<div>\n",
       "<style scoped>\n",
       "    .dataframe tbody tr th:only-of-type {\n",
       "        vertical-align: middle;\n",
       "    }\n",
       "\n",
       "    .dataframe tbody tr th {\n",
       "        vertical-align: top;\n",
       "    }\n",
       "\n",
       "    .dataframe thead tr th {\n",
       "        text-align: left;\n",
       "    }\n",
       "\n",
       "    .dataframe thead tr:last-of-type th {\n",
       "        text-align: right;\n",
       "    }\n",
       "</style>\n",
       "<table border=\"1\" class=\"dataframe\">\n",
       "  <thead>\n",
       "    <tr>\n",
       "      <th></th>\n",
       "      <th>count</th>\n",
       "    </tr>\n",
       "    <tr>\n",
       "      <th></th>\n",
       "      <th>raised_amount_usd</th>\n",
       "    </tr>\n",
       "    <tr>\n",
       "      <th>permalink</th>\n",
       "      <th></th>\n",
       "    </tr>\n",
       "  </thead>\n",
       "  <tbody>\n",
       "    <tr>\n",
       "      <th>/organization/payoneer</th>\n",
       "      <td>7</td>\n",
       "    </tr>\n",
       "    <tr>\n",
       "      <th>/organization/emn8</th>\n",
       "      <td>7</td>\n",
       "    </tr>\n",
       "    <tr>\n",
       "      <th>/organization/netscaler</th>\n",
       "      <td>6</td>\n",
       "    </tr>\n",
       "    <tr>\n",
       "      <th>/organization/social-bicycles</th>\n",
       "      <td>6</td>\n",
       "    </tr>\n",
       "    <tr>\n",
       "      <th>/organization/capella</th>\n",
       "      <td>6</td>\n",
       "    </tr>\n",
       "  </tbody>\n",
       "</table>\n",
       "</div>"
      ],
      "text/plain": [
       "                                          count\n",
       "                              raised_amount_usd\n",
       "permalink                                      \n",
       "/organization/payoneer                        7\n",
       "/organization/emn8                            7\n",
       "/organization/netscaler                       6\n",
       "/organization/social-bicycles                 6\n",
       "/organization/capella                         6"
      ]
     },
     "execution_count": 115,
     "metadata": {},
     "output_type": "execute_result"
    }
   ],
   "source": [
    "D1.loc[D1[\"main_sector\"]==\"Others\",:].pivot_table(values = 'raised_amount_usd', index = 'permalink', aggfunc = ['count']).sort_values(('count','raised_amount_usd'), ascending=False).head()"
   ]
  },
  {
   "cell_type": "markdown",
   "metadata": {},
   "source": [
    "##### Company that received the highest investment for Social, Finance, Analytics, Advertising Sector (second best sector of USA) :"
   ]
  },
  {
   "cell_type": "code",
   "execution_count": 116,
   "metadata": {
    "scrolled": true
   },
   "outputs": [
    {
     "data": {
      "text/html": [
       "<div>\n",
       "<style scoped>\n",
       "    .dataframe tbody tr th:only-of-type {\n",
       "        vertical-align: middle;\n",
       "    }\n",
       "\n",
       "    .dataframe tbody tr th {\n",
       "        vertical-align: top;\n",
       "    }\n",
       "\n",
       "    .dataframe thead tr th {\n",
       "        text-align: left;\n",
       "    }\n",
       "\n",
       "    .dataframe thead tr:last-of-type th {\n",
       "        text-align: right;\n",
       "    }\n",
       "</style>\n",
       "<table border=\"1\" class=\"dataframe\">\n",
       "  <thead>\n",
       "    <tr>\n",
       "      <th></th>\n",
       "      <th>count</th>\n",
       "    </tr>\n",
       "    <tr>\n",
       "      <th></th>\n",
       "      <th>raised_amount_usd</th>\n",
       "    </tr>\n",
       "    <tr>\n",
       "      <th>permalink</th>\n",
       "      <th></th>\n",
       "    </tr>\n",
       "  </thead>\n",
       "  <tbody>\n",
       "    <tr>\n",
       "      <th>/organization/powerhouse-dynamics</th>\n",
       "      <td>12</td>\n",
       "    </tr>\n",
       "    <tr>\n",
       "      <th>/organization/lithiumtechnologies</th>\n",
       "      <td>10</td>\n",
       "    </tr>\n",
       "    <tr>\n",
       "      <th>/organization/netbase</th>\n",
       "      <td>7</td>\n",
       "    </tr>\n",
       "    <tr>\n",
       "      <th>/organization/shotspotter</th>\n",
       "      <td>7</td>\n",
       "    </tr>\n",
       "    <tr>\n",
       "      <th>/organization/optier</th>\n",
       "      <td>7</td>\n",
       "    </tr>\n",
       "  </tbody>\n",
       "</table>\n",
       "</div>"
      ],
      "text/plain": [
       "                                              count\n",
       "                                  raised_amount_usd\n",
       "permalink                                          \n",
       "/organization/powerhouse-dynamics                12\n",
       "/organization/lithiumtechnologies                10\n",
       "/organization/netbase                             7\n",
       "/organization/shotspotter                         7\n",
       "/organization/optier                              7"
      ]
     },
     "execution_count": 116,
     "metadata": {},
     "output_type": "execute_result"
    }
   ],
   "source": [
    "D1.loc[D1[\"main_sector\"]==\"Social, Finance, Analytics, Advertising\",:].pivot_table(values = 'raised_amount_usd', index = 'permalink', aggfunc = ['count']).sort_values(('count','raised_amount_usd'), ascending=False).head()"
   ]
  },
  {
   "cell_type": "markdown",
   "metadata": {},
   "source": [
    "## Sector wise Calculations for D2 ( GBR )"
   ]
  },
  {
   "cell_type": "code",
   "execution_count": 117,
   "metadata": {
    "scrolled": false
   },
   "outputs": [
    {
     "data": {
      "text/html": [
       "<div>\n",
       "<style scoped>\n",
       "    .dataframe tbody tr th:only-of-type {\n",
       "        vertical-align: middle;\n",
       "    }\n",
       "\n",
       "    .dataframe tbody tr th {\n",
       "        vertical-align: top;\n",
       "    }\n",
       "\n",
       "    .dataframe thead tr th {\n",
       "        text-align: left;\n",
       "    }\n",
       "\n",
       "    .dataframe thead tr:last-of-type th {\n",
       "        text-align: right;\n",
       "    }\n",
       "</style>\n",
       "<table border=\"1\" class=\"dataframe\">\n",
       "  <thead>\n",
       "    <tr>\n",
       "      <th></th>\n",
       "      <th>sum</th>\n",
       "      <th>count</th>\n",
       "    </tr>\n",
       "    <tr>\n",
       "      <th></th>\n",
       "      <th>raised_amount_usd</th>\n",
       "      <th>raised_amount_usd</th>\n",
       "    </tr>\n",
       "    <tr>\n",
       "      <th>main_sector</th>\n",
       "      <th></th>\n",
       "      <th></th>\n",
       "    </tr>\n",
       "  </thead>\n",
       "  <tbody>\n",
       "    <tr>\n",
       "      <th>Automotive &amp; Sports</th>\n",
       "      <td>2.020516e+08</td>\n",
       "      <td>23</td>\n",
       "    </tr>\n",
       "    <tr>\n",
       "      <th>Cleantech / Semiconductors</th>\n",
       "      <td>1.288544e+09</td>\n",
       "      <td>161</td>\n",
       "    </tr>\n",
       "    <tr>\n",
       "      <th>Entertainment</th>\n",
       "      <td>5.735147e+08</td>\n",
       "      <td>75</td>\n",
       "    </tr>\n",
       "    <tr>\n",
       "      <th>Health</th>\n",
       "      <td>2.425375e+08</td>\n",
       "      <td>31</td>\n",
       "    </tr>\n",
       "    <tr>\n",
       "      <th>Manufacturing</th>\n",
       "      <td>3.933243e+08</td>\n",
       "      <td>50</td>\n",
       "    </tr>\n",
       "    <tr>\n",
       "      <th>News, Search and Messaging</th>\n",
       "      <td>6.685007e+08</td>\n",
       "      <td>88</td>\n",
       "    </tr>\n",
       "    <tr>\n",
       "      <th>Others</th>\n",
       "      <td>1.520442e+09</td>\n",
       "      <td>201</td>\n",
       "    </tr>\n",
       "    <tr>\n",
       "      <th>Social, Finance, Analytics, Advertising</th>\n",
       "      <td>1.349628e+09</td>\n",
       "      <td>187</td>\n",
       "    </tr>\n",
       "  </tbody>\n",
       "</table>\n",
       "</div>"
      ],
      "text/plain": [
       "                                                      sum             count\n",
       "                                        raised_amount_usd raised_amount_usd\n",
       "main_sector                                                                \n",
       "Automotive & Sports                          2.020516e+08                23\n",
       "Cleantech / Semiconductors                   1.288544e+09               161\n",
       "Entertainment                                5.735147e+08                75\n",
       "Health                                       2.425375e+08                31\n",
       "Manufacturing                                3.933243e+08                50\n",
       "News, Search and Messaging                   6.685007e+08                88\n",
       "Others                                       1.520442e+09               201\n",
       "Social, Finance, Analytics, Advertising      1.349628e+09               187"
      ]
     },
     "execution_count": 117,
     "metadata": {},
     "output_type": "execute_result"
    }
   ],
   "source": [
    "D2.pivot_table(values = 'raised_amount_usd', index = 'main_sector', aggfunc = ['sum','count'])"
   ]
  },
  {
   "cell_type": "markdown",
   "metadata": {},
   "source": [
    "##### Company that received the highest investment for Other Sector (top sector of GBR) :"
   ]
  },
  {
   "cell_type": "code",
   "execution_count": 118,
   "metadata": {
    "scrolled": false
   },
   "outputs": [
    {
     "data": {
      "text/html": [
       "<div>\n",
       "<style scoped>\n",
       "    .dataframe tbody tr th:only-of-type {\n",
       "        vertical-align: middle;\n",
       "    }\n",
       "\n",
       "    .dataframe tbody tr th {\n",
       "        vertical-align: top;\n",
       "    }\n",
       "\n",
       "    .dataframe thead tr th {\n",
       "        text-align: left;\n",
       "    }\n",
       "\n",
       "    .dataframe thead tr:last-of-type th {\n",
       "        text-align: right;\n",
       "    }\n",
       "</style>\n",
       "<table border=\"1\" class=\"dataframe\">\n",
       "  <thead>\n",
       "    <tr>\n",
       "      <th></th>\n",
       "      <th>count</th>\n",
       "    </tr>\n",
       "    <tr>\n",
       "      <th></th>\n",
       "      <th>raised_amount_usd</th>\n",
       "    </tr>\n",
       "    <tr>\n",
       "      <th>permalink</th>\n",
       "      <th></th>\n",
       "    </tr>\n",
       "  </thead>\n",
       "  <tbody>\n",
       "    <tr>\n",
       "      <th>/organization/sensage</th>\n",
       "      <td>4</td>\n",
       "    </tr>\n",
       "    <tr>\n",
       "      <th>/organization/electric-cloud</th>\n",
       "      <td>4</td>\n",
       "    </tr>\n",
       "    <tr>\n",
       "      <th>/organization/notonthehighstreet</th>\n",
       "      <td>4</td>\n",
       "    </tr>\n",
       "    <tr>\n",
       "      <th>/organization/datanomic</th>\n",
       "      <td>4</td>\n",
       "    </tr>\n",
       "    <tr>\n",
       "      <th>/organization/silverrail-technologies</th>\n",
       "      <td>3</td>\n",
       "    </tr>\n",
       "  </tbody>\n",
       "</table>\n",
       "</div>"
      ],
      "text/plain": [
       "                                                  count\n",
       "                                      raised_amount_usd\n",
       "permalink                                              \n",
       "/organization/sensage                                 4\n",
       "/organization/electric-cloud                          4\n",
       "/organization/notonthehighstreet                      4\n",
       "/organization/datanomic                               4\n",
       "/organization/silverrail-technologies                 3"
      ]
     },
     "execution_count": 118,
     "metadata": {},
     "output_type": "execute_result"
    }
   ],
   "source": [
    "D2.loc[D2[\"main_sector\"]==\"Others\",:].pivot_table(values = 'raised_amount_usd', index = 'permalink', aggfunc = ['count']).sort_values(('count','raised_amount_usd'), ascending=False).head()"
   ]
  },
  {
   "cell_type": "markdown",
   "metadata": {},
   "source": [
    "##### Company that received the highest investment for Social, Finance, Analytics, Advertising (2nd Best sector of GBR) :"
   ]
  },
  {
   "cell_type": "code",
   "execution_count": 119,
   "metadata": {
    "scrolled": true
   },
   "outputs": [
    {
     "data": {
      "text/html": [
       "<div>\n",
       "<style scoped>\n",
       "    .dataframe tbody tr th:only-of-type {\n",
       "        vertical-align: middle;\n",
       "    }\n",
       "\n",
       "    .dataframe tbody tr th {\n",
       "        vertical-align: top;\n",
       "    }\n",
       "\n",
       "    .dataframe thead tr th {\n",
       "        text-align: left;\n",
       "    }\n",
       "\n",
       "    .dataframe thead tr:last-of-type th {\n",
       "        text-align: right;\n",
       "    }\n",
       "</style>\n",
       "<table border=\"1\" class=\"dataframe\">\n",
       "  <thead>\n",
       "    <tr>\n",
       "      <th></th>\n",
       "      <th>count</th>\n",
       "    </tr>\n",
       "    <tr>\n",
       "      <th></th>\n",
       "      <th>raised_amount_usd</th>\n",
       "    </tr>\n",
       "    <tr>\n",
       "      <th>permalink</th>\n",
       "      <th></th>\n",
       "    </tr>\n",
       "  </thead>\n",
       "  <tbody>\n",
       "    <tr>\n",
       "      <th>/organization/zopa</th>\n",
       "      <td>4</td>\n",
       "    </tr>\n",
       "    <tr>\n",
       "      <th>/organization/celltick-technologies</th>\n",
       "      <td>4</td>\n",
       "    </tr>\n",
       "    <tr>\n",
       "      <th>/organization/mythings</th>\n",
       "      <td>4</td>\n",
       "    </tr>\n",
       "    <tr>\n",
       "      <th>/organization/ebury-partners</th>\n",
       "      <td>3</td>\n",
       "    </tr>\n",
       "    <tr>\n",
       "      <th>/organization/imagini</th>\n",
       "      <td>3</td>\n",
       "    </tr>\n",
       "  </tbody>\n",
       "</table>\n",
       "</div>"
      ],
      "text/plain": [
       "                                                count\n",
       "                                    raised_amount_usd\n",
       "permalink                                            \n",
       "/organization/zopa                                  4\n",
       "/organization/celltick-technologies                 4\n",
       "/organization/mythings                              4\n",
       "/organization/ebury-partners                        3\n",
       "/organization/imagini                               3"
      ]
     },
     "execution_count": 119,
     "metadata": {},
     "output_type": "execute_result"
    }
   ],
   "source": [
    "D2.loc[D2[\"main_sector\"]==\"Social, Finance, Analytics, Advertising\",:].pivot_table(values = 'raised_amount_usd', index = 'permalink', aggfunc = ['count']).sort_values(('count','raised_amount_usd'), ascending=False).head()"
   ]
  },
  {
   "cell_type": "markdown",
   "metadata": {},
   "source": [
    "## Sector wise Calculations for D3 ( IND )"
   ]
  },
  {
   "cell_type": "code",
   "execution_count": 120,
   "metadata": {},
   "outputs": [
    {
     "data": {
      "text/html": [
       "<div>\n",
       "<style scoped>\n",
       "    .dataframe tbody tr th:only-of-type {\n",
       "        vertical-align: middle;\n",
       "    }\n",
       "\n",
       "    .dataframe tbody tr th {\n",
       "        vertical-align: top;\n",
       "    }\n",
       "\n",
       "    .dataframe thead tr th {\n",
       "        text-align: left;\n",
       "    }\n",
       "\n",
       "    .dataframe thead tr:last-of-type th {\n",
       "        text-align: right;\n",
       "    }\n",
       "</style>\n",
       "<table border=\"1\" class=\"dataframe\">\n",
       "  <thead>\n",
       "    <tr>\n",
       "      <th></th>\n",
       "      <th>sum</th>\n",
       "      <th>count</th>\n",
       "    </tr>\n",
       "    <tr>\n",
       "      <th></th>\n",
       "      <th>raised_amount_usd</th>\n",
       "      <th>raised_amount_usd</th>\n",
       "    </tr>\n",
       "    <tr>\n",
       "      <th>main_sector</th>\n",
       "      <th></th>\n",
       "      <th></th>\n",
       "    </tr>\n",
       "  </thead>\n",
       "  <tbody>\n",
       "    <tr>\n",
       "      <th>Automotive &amp; Sports</th>\n",
       "      <td>3.000000e+07</td>\n",
       "      <td>5</td>\n",
       "    </tr>\n",
       "    <tr>\n",
       "      <th>Cleantech / Semiconductors</th>\n",
       "      <td>1.042147e+09</td>\n",
       "      <td>123</td>\n",
       "    </tr>\n",
       "    <tr>\n",
       "      <th>Entertainment</th>\n",
       "      <td>1.940621e+08</td>\n",
       "      <td>30</td>\n",
       "    </tr>\n",
       "    <tr>\n",
       "      <th>Health</th>\n",
       "      <td>1.701604e+08</td>\n",
       "      <td>22</td>\n",
       "    </tr>\n",
       "    <tr>\n",
       "      <th>Manufacturing</th>\n",
       "      <td>2.876331e+08</td>\n",
       "      <td>43</td>\n",
       "    </tr>\n",
       "    <tr>\n",
       "      <th>News, Search and Messaging</th>\n",
       "      <td>4.711211e+08</td>\n",
       "      <td>57</td>\n",
       "    </tr>\n",
       "    <tr>\n",
       "      <th>Others</th>\n",
       "      <td>9.032080e+08</td>\n",
       "      <td>109</td>\n",
       "    </tr>\n",
       "    <tr>\n",
       "      <th>Social, Finance, Analytics, Advertising</th>\n",
       "      <td>6.851431e+08</td>\n",
       "      <td>88</td>\n",
       "    </tr>\n",
       "  </tbody>\n",
       "</table>\n",
       "</div>"
      ],
      "text/plain": [
       "                                                      sum             count\n",
       "                                        raised_amount_usd raised_amount_usd\n",
       "main_sector                                                                \n",
       "Automotive & Sports                          3.000000e+07                 5\n",
       "Cleantech / Semiconductors                   1.042147e+09               123\n",
       "Entertainment                                1.940621e+08                30\n",
       "Health                                       1.701604e+08                22\n",
       "Manufacturing                                2.876331e+08                43\n",
       "News, Search and Messaging                   4.711211e+08                57\n",
       "Others                                       9.032080e+08               109\n",
       "Social, Finance, Analytics, Advertising      6.851431e+08                88"
      ]
     },
     "execution_count": 120,
     "metadata": {},
     "output_type": "execute_result"
    }
   ],
   "source": [
    "D3.pivot_table(values = 'raised_amount_usd', index = 'main_sector', aggfunc = ['sum','count'])"
   ]
  },
  {
   "cell_type": "markdown",
   "metadata": {},
   "source": [
    "##### Company that received the highest investment for Cleantech / Semiconductors Sector (top sector of IND) :"
   ]
  },
  {
   "cell_type": "code",
   "execution_count": 121,
   "metadata": {
    "scrolled": false
   },
   "outputs": [
    {
     "data": {
      "text/html": [
       "<div>\n",
       "<style scoped>\n",
       "    .dataframe tbody tr th:only-of-type {\n",
       "        vertical-align: middle;\n",
       "    }\n",
       "\n",
       "    .dataframe tbody tr th {\n",
       "        vertical-align: top;\n",
       "    }\n",
       "\n",
       "    .dataframe thead tr th {\n",
       "        text-align: left;\n",
       "    }\n",
       "\n",
       "    .dataframe thead tr:last-of-type th {\n",
       "        text-align: right;\n",
       "    }\n",
       "</style>\n",
       "<table border=\"1\" class=\"dataframe\">\n",
       "  <thead>\n",
       "    <tr>\n",
       "      <th></th>\n",
       "      <th>count</th>\n",
       "    </tr>\n",
       "    <tr>\n",
       "      <th></th>\n",
       "      <th>raised_amount_usd</th>\n",
       "    </tr>\n",
       "    <tr>\n",
       "      <th>permalink</th>\n",
       "      <th></th>\n",
       "    </tr>\n",
       "  </thead>\n",
       "  <tbody>\n",
       "    <tr>\n",
       "      <th>/organization/fresco-microchip</th>\n",
       "      <td>4</td>\n",
       "    </tr>\n",
       "    <tr>\n",
       "      <th>/organization/ostara</th>\n",
       "      <td>4</td>\n",
       "    </tr>\n",
       "    <tr>\n",
       "      <th>/organization/genologics</th>\n",
       "      <td>4</td>\n",
       "    </tr>\n",
       "    <tr>\n",
       "      <th>/organization/nexterra</th>\n",
       "      <td>3</td>\n",
       "    </tr>\n",
       "    <tr>\n",
       "      <th>/organization/engene</th>\n",
       "      <td>3</td>\n",
       "    </tr>\n",
       "  </tbody>\n",
       "</table>\n",
       "</div>"
      ],
      "text/plain": [
       "                                           count\n",
       "                               raised_amount_usd\n",
       "permalink                                       \n",
       "/organization/fresco-microchip                 4\n",
       "/organization/ostara                           4\n",
       "/organization/genologics                       4\n",
       "/organization/nexterra                         3\n",
       "/organization/engene                           3"
      ]
     },
     "execution_count": 121,
     "metadata": {},
     "output_type": "execute_result"
    }
   ],
   "source": [
    "D3.loc[D3[\"main_sector\"]==\"Cleantech / Semiconductors\",:].pivot_table(values = 'raised_amount_usd', index = 'permalink', aggfunc = ['count']).sort_values(('count','raised_amount_usd'), ascending=False).head()\n"
   ]
  },
  {
   "cell_type": "markdown",
   "metadata": {},
   "source": [
    "##### Company that received the highest investment for Others Sector (2nd best sector of IND) :"
   ]
  },
  {
   "cell_type": "code",
   "execution_count": 122,
   "metadata": {
    "scrolled": true
   },
   "outputs": [
    {
     "data": {
      "text/html": [
       "<div>\n",
       "<style scoped>\n",
       "    .dataframe tbody tr th:only-of-type {\n",
       "        vertical-align: middle;\n",
       "    }\n",
       "\n",
       "    .dataframe tbody tr th {\n",
       "        vertical-align: top;\n",
       "    }\n",
       "\n",
       "    .dataframe thead tr th {\n",
       "        text-align: left;\n",
       "    }\n",
       "\n",
       "    .dataframe thead tr:last-of-type th {\n",
       "        text-align: right;\n",
       "    }\n",
       "</style>\n",
       "<table border=\"1\" class=\"dataframe\">\n",
       "  <thead>\n",
       "    <tr>\n",
       "      <th></th>\n",
       "      <th>count</th>\n",
       "    </tr>\n",
       "    <tr>\n",
       "      <th></th>\n",
       "      <th>raised_amount_usd</th>\n",
       "    </tr>\n",
       "    <tr>\n",
       "      <th>permalink</th>\n",
       "      <th></th>\n",
       "    </tr>\n",
       "  </thead>\n",
       "  <tbody>\n",
       "    <tr>\n",
       "      <th>/organization/newstep</th>\n",
       "      <td>3</td>\n",
       "    </tr>\n",
       "    <tr>\n",
       "      <th>/organization/quickplay-media</th>\n",
       "      <td>3</td>\n",
       "    </tr>\n",
       "    <tr>\n",
       "      <th>/organization/coveo</th>\n",
       "      <td>2</td>\n",
       "    </tr>\n",
       "    <tr>\n",
       "      <th>/organization/teradici</th>\n",
       "      <td>2</td>\n",
       "    </tr>\n",
       "    <tr>\n",
       "      <th>/organization/firsthand-technologies</th>\n",
       "      <td>2</td>\n",
       "    </tr>\n",
       "  </tbody>\n",
       "</table>\n",
       "</div>"
      ],
      "text/plain": [
       "                                                 count\n",
       "                                     raised_amount_usd\n",
       "permalink                                             \n",
       "/organization/newstep                                3\n",
       "/organization/quickplay-media                        3\n",
       "/organization/coveo                                  2\n",
       "/organization/teradici                               2\n",
       "/organization/firsthand-technologies                 2"
      ]
     },
     "execution_count": 122,
     "metadata": {},
     "output_type": "execute_result"
    }
   ],
   "source": [
    "D3.loc[D3[\"main_sector\"]==\"Others\",:].pivot_table(values = 'raised_amount_usd', index = 'permalink', aggfunc = ['count']).sort_values(('count','raised_amount_usd'), ascending=False).head()"
   ]
  },
  {
   "cell_type": "markdown",
   "metadata": {},
   "source": [
    "# Plotting -"
   ]
  },
  {
   "cell_type": "markdown",
   "metadata": {},
   "source": [
    "### Plotting Graph 1"
   ]
  },
  {
   "cell_type": "code",
   "execution_count": 123,
   "metadata": {},
   "outputs": [
    {
     "data": {
      "text/html": [
       "<div>\n",
       "<style scoped>\n",
       "    .dataframe tbody tr th:only-of-type {\n",
       "        vertical-align: middle;\n",
       "    }\n",
       "\n",
       "    .dataframe tbody tr th {\n",
       "        vertical-align: top;\n",
       "    }\n",
       "\n",
       "    .dataframe thead th {\n",
       "        text-align: right;\n",
       "    }\n",
       "</style>\n",
       "<table border=\"1\" class=\"dataframe\">\n",
       "  <thead>\n",
       "    <tr style=\"text-align: right;\">\n",
       "      <th></th>\n",
       "      <th>permalink</th>\n",
       "      <th>name</th>\n",
       "      <th>category_list</th>\n",
       "      <th>status</th>\n",
       "      <th>country_code</th>\n",
       "      <th>state_code</th>\n",
       "      <th>region</th>\n",
       "      <th>city</th>\n",
       "      <th>funding_round_permalink</th>\n",
       "      <th>funding_round_type</th>\n",
       "      <th>funded_at</th>\n",
       "      <th>raised_amount_usd</th>\n",
       "    </tr>\n",
       "  </thead>\n",
       "  <tbody>\n",
       "    <tr>\n",
       "      <th>0</th>\n",
       "      <td>/organization/-fame</td>\n",
       "      <td>#fame</td>\n",
       "      <td>Media</td>\n",
       "      <td>operating</td>\n",
       "      <td>IND</td>\n",
       "      <td>16</td>\n",
       "      <td>Mumbai</td>\n",
       "      <td>Mumbai</td>\n",
       "      <td>/funding-round/9a01d05418af9f794eebff7ace91f638</td>\n",
       "      <td>venture</td>\n",
       "      <td>05-01-2015</td>\n",
       "      <td>10000000.0</td>\n",
       "    </tr>\n",
       "    <tr>\n",
       "      <th>1</th>\n",
       "      <td>/organization/-qounter</td>\n",
       "      <td>:Qounter</td>\n",
       "      <td>Application Platforms|Real Time|Social Network...</td>\n",
       "      <td>operating</td>\n",
       "      <td>USA</td>\n",
       "      <td>DE</td>\n",
       "      <td>DE - Other</td>\n",
       "      <td>Delaware City</td>\n",
       "      <td>/funding-round/22dacff496eb7acb2b901dec1dfe5633</td>\n",
       "      <td>venture</td>\n",
       "      <td>14-10-2014</td>\n",
       "      <td>NaN</td>\n",
       "    </tr>\n",
       "    <tr>\n",
       "      <th>2</th>\n",
       "      <td>/organization/-qounter</td>\n",
       "      <td>:Qounter</td>\n",
       "      <td>Application Platforms|Real Time|Social Network...</td>\n",
       "      <td>operating</td>\n",
       "      <td>USA</td>\n",
       "      <td>DE</td>\n",
       "      <td>DE - Other</td>\n",
       "      <td>Delaware City</td>\n",
       "      <td>/funding-round/b44fbb94153f6cdef13083530bb48030</td>\n",
       "      <td>seed</td>\n",
       "      <td>01-03-2014</td>\n",
       "      <td>700000.0</td>\n",
       "    </tr>\n",
       "    <tr>\n",
       "      <th>3</th>\n",
       "      <td>/organization/-the-one-of-them-inc-</td>\n",
       "      <td>(THE) ONE of THEM,Inc.</td>\n",
       "      <td>Apps|Games|Mobile</td>\n",
       "      <td>operating</td>\n",
       "      <td>NaN</td>\n",
       "      <td>NaN</td>\n",
       "      <td>NaN</td>\n",
       "      <td>NaN</td>\n",
       "      <td>/funding-round/650b8f704416801069bb178a1418776b</td>\n",
       "      <td>venture</td>\n",
       "      <td>30-01-2014</td>\n",
       "      <td>3406878.0</td>\n",
       "    </tr>\n",
       "    <tr>\n",
       "      <th>4</th>\n",
       "      <td>/organization/0-6-com</td>\n",
       "      <td>0-6.com</td>\n",
       "      <td>Curated Web</td>\n",
       "      <td>operating</td>\n",
       "      <td>CHN</td>\n",
       "      <td>22</td>\n",
       "      <td>Beijing</td>\n",
       "      <td>Beijing</td>\n",
       "      <td>/funding-round/5727accaeaa57461bd22a9bdd945382d</td>\n",
       "      <td>venture</td>\n",
       "      <td>19-03-2008</td>\n",
       "      <td>2000000.0</td>\n",
       "    </tr>\n",
       "  </tbody>\n",
       "</table>\n",
       "</div>"
      ],
      "text/plain": [
       "                             permalink                    name  \\\n",
       "0                  /organization/-fame                   #fame   \n",
       "1               /organization/-qounter                :Qounter   \n",
       "2               /organization/-qounter                :Qounter   \n",
       "3  /organization/-the-one-of-them-inc-  (THE) ONE of THEM,Inc.   \n",
       "4                /organization/0-6-com                 0-6.com   \n",
       "\n",
       "                                       category_list     status country_code  \\\n",
       "0                                              Media  operating          IND   \n",
       "1  Application Platforms|Real Time|Social Network...  operating          USA   \n",
       "2  Application Platforms|Real Time|Social Network...  operating          USA   \n",
       "3                                  Apps|Games|Mobile  operating          NaN   \n",
       "4                                        Curated Web  operating          CHN   \n",
       "\n",
       "  state_code      region           city  \\\n",
       "0         16      Mumbai         Mumbai   \n",
       "1         DE  DE - Other  Delaware City   \n",
       "2         DE  DE - Other  Delaware City   \n",
       "3        NaN         NaN            NaN   \n",
       "4         22     Beijing        Beijing   \n",
       "\n",
       "                           funding_round_permalink funding_round_type  \\\n",
       "0  /funding-round/9a01d05418af9f794eebff7ace91f638            venture   \n",
       "1  /funding-round/22dacff496eb7acb2b901dec1dfe5633            venture   \n",
       "2  /funding-round/b44fbb94153f6cdef13083530bb48030               seed   \n",
       "3  /funding-round/650b8f704416801069bb178a1418776b            venture   \n",
       "4  /funding-round/5727accaeaa57461bd22a9bdd945382d            venture   \n",
       "\n",
       "    funded_at  raised_amount_usd  \n",
       "0  05-01-2015         10000000.0  \n",
       "1  14-10-2014                NaN  \n",
       "2  01-03-2014           700000.0  \n",
       "3  30-01-2014          3406878.0  \n",
       "4  19-03-2008          2000000.0  "
      ]
     },
     "execution_count": 123,
     "metadata": {},
     "output_type": "execute_result"
    }
   ],
   "source": [
    "# Plotting graph 1 - The dataframe to be used is plot1_df - \n",
    "\n",
    "plot1_df.head()"
   ]
  },
  {
   "cell_type": "code",
   "execution_count": 124,
   "metadata": {},
   "outputs": [
    {
     "name": "stdout",
     "output_type": "stream",
     "text": [
      "{'seed', 'angel', 'private_equity', 'venture'}\n"
     ]
    }
   ],
   "source": [
    "# Checking column values for funding_round_type\n",
    "\n",
    "print(set(list(plot1_df[\"funding_round_type\"])))"
   ]
  },
  {
   "cell_type": "code",
   "execution_count": 125,
   "metadata": {},
   "outputs": [],
   "source": [
    "# Removing \"angel\" type - as per instructions\n",
    "\n",
    "plot1_df = plot1_df.loc[ plot1_df[\"funding_round_type\"]!=\"angel\" , : ]"
   ]
  },
  {
   "cell_type": "code",
   "execution_count": 126,
   "metadata": {},
   "outputs": [
    {
     "name": "stdout",
     "output_type": "stream",
     "text": [
      "{'seed', 'private_equity', 'venture'}\n"
     ]
    }
   ],
   "source": [
    "# Checking column values for funding_round_type\n",
    "\n",
    "print(set(list(plot1_df[\"funding_round_type\"])))"
   ]
  },
  {
   "cell_type": "code",
   "execution_count": 127,
   "metadata": {},
   "outputs": [
    {
     "data": {
      "text/html": [
       "<div>\n",
       "<style scoped>\n",
       "    .dataframe tbody tr th:only-of-type {\n",
       "        vertical-align: middle;\n",
       "    }\n",
       "\n",
       "    .dataframe tbody tr th {\n",
       "        vertical-align: top;\n",
       "    }\n",
       "\n",
       "    .dataframe thead th {\n",
       "        text-align: right;\n",
       "    }\n",
       "</style>\n",
       "<table border=\"1\" class=\"dataframe\">\n",
       "  <thead>\n",
       "    <tr style=\"text-align: right;\">\n",
       "      <th></th>\n",
       "      <th>permalink</th>\n",
       "      <th>funding_round_type</th>\n",
       "      <th>raised_amount_usd</th>\n",
       "    </tr>\n",
       "  </thead>\n",
       "  <tbody>\n",
       "    <tr>\n",
       "      <th>0</th>\n",
       "      <td>/organization/-fame</td>\n",
       "      <td>venture</td>\n",
       "      <td>10000000.0</td>\n",
       "    </tr>\n",
       "    <tr>\n",
       "      <th>1</th>\n",
       "      <td>/organization/-qounter</td>\n",
       "      <td>venture</td>\n",
       "      <td>NaN</td>\n",
       "    </tr>\n",
       "    <tr>\n",
       "      <th>2</th>\n",
       "      <td>/organization/-qounter</td>\n",
       "      <td>seed</td>\n",
       "      <td>700000.0</td>\n",
       "    </tr>\n",
       "    <tr>\n",
       "      <th>3</th>\n",
       "      <td>/organization/-the-one-of-them-inc-</td>\n",
       "      <td>venture</td>\n",
       "      <td>3406878.0</td>\n",
       "    </tr>\n",
       "    <tr>\n",
       "      <th>4</th>\n",
       "      <td>/organization/0-6-com</td>\n",
       "      <td>venture</td>\n",
       "      <td>2000000.0</td>\n",
       "    </tr>\n",
       "  </tbody>\n",
       "</table>\n",
       "</div>"
      ],
      "text/plain": [
       "                             permalink funding_round_type  raised_amount_usd\n",
       "0                  /organization/-fame            venture         10000000.0\n",
       "1               /organization/-qounter            venture                NaN\n",
       "2               /organization/-qounter               seed           700000.0\n",
       "3  /organization/-the-one-of-them-inc-            venture          3406878.0\n",
       "4                /organization/0-6-com            venture          2000000.0"
      ]
     },
     "execution_count": 127,
     "metadata": {},
     "output_type": "execute_result"
    }
   ],
   "source": [
    "# Selecting only the relevant columns for plotting graph 1\n",
    "\n",
    "plot1_df = plot1_df.loc[ : , ['permalink','funding_round_type','raised_amount_usd']]\n",
    "plot1_df.head()"
   ]
  },
  {
   "cell_type": "code",
   "execution_count": 128,
   "metadata": {},
   "outputs": [
    {
     "data": {
      "text/plain": [
       "(81468, 3)"
      ]
     },
     "execution_count": 128,
     "metadata": {},
     "output_type": "execute_result"
    }
   ],
   "source": [
    "plot1_df.shape"
   ]
  },
  {
   "cell_type": "code",
   "execution_count": 129,
   "metadata": {},
   "outputs": [],
   "source": [
    "# Imputting values of raised_amount_usd as per the median value of corresponding funding_type\n",
    "\n",
    "# Segregating data as per funding type\n",
    "\n",
    "plot1_venture = plot1_df.loc[ plot1_df[\"funding_round_type\"]==\"venture\" , : ]\n",
    "\n",
    "plot1_seed = plot1_df.loc[ plot1_df[\"funding_round_type\"]==\"seed\" , : ]\n",
    "\n",
    "plot1_private_equity = plot1_df.loc[ plot1_df[\"funding_round_type\"]==\"private_equity\" , : ]"
   ]
  },
  {
   "cell_type": "markdown",
   "metadata": {},
   "source": [
    "Understanding Venture type data :"
   ]
  },
  {
   "cell_type": "code",
   "execution_count": 130,
   "metadata": {},
   "outputs": [
    {
     "data": {
      "text/plain": [
       "(51463, 3)"
      ]
     },
     "execution_count": 130,
     "metadata": {},
     "output_type": "execute_result"
    }
   ],
   "source": [
    "plot1_venture.shape"
   ]
  },
  {
   "cell_type": "code",
   "execution_count": 131,
   "metadata": {
    "scrolled": false
   },
   "outputs": [
    {
     "data": {
      "text/html": [
       "<div>\n",
       "<style scoped>\n",
       "    .dataframe tbody tr th:only-of-type {\n",
       "        vertical-align: middle;\n",
       "    }\n",
       "\n",
       "    .dataframe tbody tr th {\n",
       "        vertical-align: top;\n",
       "    }\n",
       "\n",
       "    .dataframe thead th {\n",
       "        text-align: right;\n",
       "    }\n",
       "</style>\n",
       "<table border=\"1\" class=\"dataframe\">\n",
       "  <thead>\n",
       "    <tr style=\"text-align: right;\">\n",
       "      <th></th>\n",
       "      <th>raised_amount_usd</th>\n",
       "    </tr>\n",
       "  </thead>\n",
       "  <tbody>\n",
       "    <tr>\n",
       "      <th>count</th>\n",
       "      <td>4.664100e+04</td>\n",
       "    </tr>\n",
       "    <tr>\n",
       "      <th>mean</th>\n",
       "      <td>1.189560e+07</td>\n",
       "    </tr>\n",
       "    <tr>\n",
       "      <th>std</th>\n",
       "      <td>8.935104e+07</td>\n",
       "    </tr>\n",
       "    <tr>\n",
       "      <th>min</th>\n",
       "      <td>0.000000e+00</td>\n",
       "    </tr>\n",
       "    <tr>\n",
       "      <th>25%</th>\n",
       "      <td>1.634000e+06</td>\n",
       "    </tr>\n",
       "    <tr>\n",
       "      <th>50%</th>\n",
       "      <td>5.000000e+06</td>\n",
       "    </tr>\n",
       "    <tr>\n",
       "      <th>75%</th>\n",
       "      <td>1.200000e+07</td>\n",
       "    </tr>\n",
       "    <tr>\n",
       "      <th>max</th>\n",
       "      <td>1.760000e+10</td>\n",
       "    </tr>\n",
       "  </tbody>\n",
       "</table>\n",
       "</div>"
      ],
      "text/plain": [
       "       raised_amount_usd\n",
       "count       4.664100e+04\n",
       "mean        1.189560e+07\n",
       "std         8.935104e+07\n",
       "min         0.000000e+00\n",
       "25%         1.634000e+06\n",
       "50%         5.000000e+06\n",
       "75%         1.200000e+07\n",
       "max         1.760000e+10"
      ]
     },
     "execution_count": 131,
     "metadata": {},
     "output_type": "execute_result"
    }
   ],
   "source": [
    "plot1_venture.describe()"
   ]
  },
  {
   "cell_type": "code",
   "execution_count": 132,
   "metadata": {},
   "outputs": [
    {
     "data": {
      "text/plain": [
       "permalink             0.00\n",
       "funding_round_type    0.00\n",
       "raised_amount_usd     9.37\n",
       "dtype: float64"
      ]
     },
     "execution_count": 132,
     "metadata": {},
     "output_type": "execute_result"
    }
   ],
   "source": [
    "# Checking if missing values exist\n",
    "round(100*(plot1_venture.isnull().sum()/len(plot1_venture.index)),2)"
   ]
  },
  {
   "cell_type": "code",
   "execution_count": 133,
   "metadata": {},
   "outputs": [
    {
     "data": {
      "text/plain": [
       "5000000.0"
      ]
     },
     "execution_count": 133,
     "metadata": {},
     "output_type": "execute_result"
    }
   ],
   "source": [
    "# Calculating median value to impute with\n",
    "plot1_venture.raised_amount_usd.median()"
   ]
  },
  {
   "cell_type": "code",
   "execution_count": 134,
   "metadata": {},
   "outputs": [
    {
     "name": "stderr",
     "output_type": "stream",
     "text": [
      "/Users/harshitmehta/anaconda3/lib/python3.7/site-packages/pandas/core/indexing.py:543: SettingWithCopyWarning: \n",
      "A value is trying to be set on a copy of a slice from a DataFrame.\n",
      "Try using .loc[row_indexer,col_indexer] = value instead\n",
      "\n",
      "See the caveats in the documentation: http://pandas.pydata.org/pandas-docs/stable/indexing.html#indexing-view-versus-copy\n",
      "  self.obj[item] = s\n"
     ]
    },
    {
     "data": {
      "text/plain": [
       "permalink             0.0\n",
       "funding_round_type    0.0\n",
       "raised_amount_usd     0.0\n",
       "dtype: float64"
      ]
     },
     "execution_count": 134,
     "metadata": {},
     "output_type": "execute_result"
    }
   ],
   "source": [
    "# Imputting the missing values of raised_amount_usd with median of venture_type\n",
    "\n",
    "plot1_venture.loc[np.isnan(plot1_venture[\"raised_amount_usd\"]), [\"raised_amount_usd\"]] = 5000000.0\n",
    "round(100*(plot1_venture.isnull().sum()/len(plot1_venture.index)),2)"
   ]
  },
  {
   "cell_type": "code",
   "execution_count": 135,
   "metadata": {},
   "outputs": [],
   "source": [
    "# Removing Outliers - \n",
    "\n",
    "first_percentile_venture = plot1_venture[\"raised_amount_usd\"].quantile([.01,.99])[.01]\n",
    "ninety_nine_percentile_venture = plot1_venture[\"raised_amount_usd\"].quantile([.01,.99])[.99]"
   ]
  },
  {
   "cell_type": "code",
   "execution_count": 136,
   "metadata": {
    "scrolled": true
   },
   "outputs": [
    {
     "data": {
      "text/plain": [
       "50000.0"
      ]
     },
     "execution_count": 136,
     "metadata": {},
     "output_type": "execute_result"
    }
   ],
   "source": [
    "first_percentile_venture"
   ]
  },
  {
   "cell_type": "code",
   "execution_count": 137,
   "metadata": {},
   "outputs": [
    {
     "data": {
      "text/plain": [
       "94462737.99999957"
      ]
     },
     "execution_count": 137,
     "metadata": {},
     "output_type": "execute_result"
    }
   ],
   "source": [
    "ninety_nine_percentile_venture"
   ]
  },
  {
   "cell_type": "code",
   "execution_count": 138,
   "metadata": {},
   "outputs": [],
   "source": [
    "plot1_venture = plot1_venture.loc[ (plot1_venture[\"raised_amount_usd\"] >= first_percentile_venture) & (plot1_venture[\"raised_amount_usd\"] <= ninety_nine_percentile_venture) , :]\n"
   ]
  },
  {
   "cell_type": "code",
   "execution_count": 139,
   "metadata": {},
   "outputs": [
    {
     "data": {
      "text/html": [
       "<div>\n",
       "<style scoped>\n",
       "    .dataframe tbody tr th:only-of-type {\n",
       "        vertical-align: middle;\n",
       "    }\n",
       "\n",
       "    .dataframe tbody tr th {\n",
       "        vertical-align: top;\n",
       "    }\n",
       "\n",
       "    .dataframe thead th {\n",
       "        text-align: right;\n",
       "    }\n",
       "</style>\n",
       "<table border=\"1\" class=\"dataframe\">\n",
       "  <thead>\n",
       "    <tr style=\"text-align: right;\">\n",
       "      <th></th>\n",
       "      <th>raised_amount_usd</th>\n",
       "    </tr>\n",
       "  </thead>\n",
       "  <tbody>\n",
       "    <tr>\n",
       "      <th>count</th>\n",
       "      <td>5.044900e+04</td>\n",
       "    </tr>\n",
       "    <tr>\n",
       "      <th>mean</th>\n",
       "      <td>8.995876e+06</td>\n",
       "    </tr>\n",
       "    <tr>\n",
       "      <th>std</th>\n",
       "      <td>1.182946e+07</td>\n",
       "    </tr>\n",
       "    <tr>\n",
       "      <th>min</th>\n",
       "      <td>5.000000e+04</td>\n",
       "    </tr>\n",
       "    <tr>\n",
       "      <th>25%</th>\n",
       "      <td>2.000000e+06</td>\n",
       "    </tr>\n",
       "    <tr>\n",
       "      <th>50%</th>\n",
       "      <td>5.000000e+06</td>\n",
       "    </tr>\n",
       "    <tr>\n",
       "      <th>75%</th>\n",
       "      <td>1.033408e+07</td>\n",
       "    </tr>\n",
       "    <tr>\n",
       "      <th>max</th>\n",
       "      <td>9.440000e+07</td>\n",
       "    </tr>\n",
       "  </tbody>\n",
       "</table>\n",
       "</div>"
      ],
      "text/plain": [
       "       raised_amount_usd\n",
       "count       5.044900e+04\n",
       "mean        8.995876e+06\n",
       "std         1.182946e+07\n",
       "min         5.000000e+04\n",
       "25%         2.000000e+06\n",
       "50%         5.000000e+06\n",
       "75%         1.033408e+07\n",
       "max         9.440000e+07"
      ]
     },
     "execution_count": 139,
     "metadata": {},
     "output_type": "execute_result"
    }
   ],
   "source": [
    "# Checking the data again - to confirm that outliers have been removed \n",
    "\n",
    "plot1_venture.describe()"
   ]
  },
  {
   "cell_type": "markdown",
   "metadata": {},
   "source": [
    "Understanding Seed type data :"
   ]
  },
  {
   "cell_type": "code",
   "execution_count": 140,
   "metadata": {},
   "outputs": [
    {
     "data": {
      "text/plain": [
       "(27902, 3)"
      ]
     },
     "execution_count": 140,
     "metadata": {},
     "output_type": "execute_result"
    }
   ],
   "source": [
    "plot1_seed.shape"
   ]
  },
  {
   "cell_type": "code",
   "execution_count": 141,
   "metadata": {
    "scrolled": true
   },
   "outputs": [
    {
     "data": {
      "text/plain": [
       "permalink              0.00\n",
       "funding_round_type     0.00\n",
       "raised_amount_usd     22.05\n",
       "dtype: float64"
      ]
     },
     "execution_count": 141,
     "metadata": {},
     "output_type": "execute_result"
    }
   ],
   "source": [
    "# Checking if missing values exist\n",
    "round(100*(plot1_seed.isnull().sum()/len(plot1_seed.index)),2)"
   ]
  },
  {
   "cell_type": "code",
   "execution_count": 142,
   "metadata": {},
   "outputs": [
    {
     "data": {
      "text/plain": [
       "300000.0"
      ]
     },
     "execution_count": 142,
     "metadata": {},
     "output_type": "execute_result"
    }
   ],
   "source": [
    "# Calculating median value to impute with\n",
    "plot1_seed.raised_amount_usd.median()"
   ]
  },
  {
   "cell_type": "code",
   "execution_count": 143,
   "metadata": {},
   "outputs": [
    {
     "data": {
      "text/plain": [
       "permalink             0.0\n",
       "funding_round_type    0.0\n",
       "raised_amount_usd     0.0\n",
       "dtype: float64"
      ]
     },
     "execution_count": 143,
     "metadata": {},
     "output_type": "execute_result"
    }
   ],
   "source": [
    "# Imputting the missing values of raised_amount_usd with median of seed_type\n",
    "\n",
    "plot1_seed.loc[np.isnan(plot1_seed[\"raised_amount_usd\"]), [\"raised_amount_usd\"]] = 300000.0\n",
    "round(100*(plot1_seed.isnull().sum()/len(plot1_seed.index)),2)"
   ]
  },
  {
   "cell_type": "code",
   "execution_count": 144,
   "metadata": {},
   "outputs": [
    {
     "data": {
      "text/html": [
       "<div>\n",
       "<style scoped>\n",
       "    .dataframe tbody tr th:only-of-type {\n",
       "        vertical-align: middle;\n",
       "    }\n",
       "\n",
       "    .dataframe tbody tr th {\n",
       "        vertical-align: top;\n",
       "    }\n",
       "\n",
       "    .dataframe thead th {\n",
       "        text-align: right;\n",
       "    }\n",
       "</style>\n",
       "<table border=\"1\" class=\"dataframe\">\n",
       "  <thead>\n",
       "    <tr style=\"text-align: right;\">\n",
       "      <th></th>\n",
       "      <th>raised_amount_usd</th>\n",
       "    </tr>\n",
       "  </thead>\n",
       "  <tbody>\n",
       "    <tr>\n",
       "      <th>count</th>\n",
       "      <td>2.790200e+04</td>\n",
       "    </tr>\n",
       "    <tr>\n",
       "      <th>mean</th>\n",
       "      <td>6.418715e+05</td>\n",
       "    </tr>\n",
       "    <tr>\n",
       "      <th>std</th>\n",
       "      <td>2.021168e+06</td>\n",
       "    </tr>\n",
       "    <tr>\n",
       "      <th>min</th>\n",
       "      <td>0.000000e+00</td>\n",
       "    </tr>\n",
       "    <tr>\n",
       "      <th>25%</th>\n",
       "      <td>1.000000e+05</td>\n",
       "    </tr>\n",
       "    <tr>\n",
       "      <th>50%</th>\n",
       "      <td>3.000000e+05</td>\n",
       "    </tr>\n",
       "    <tr>\n",
       "      <th>75%</th>\n",
       "      <td>7.031000e+05</td>\n",
       "    </tr>\n",
       "    <tr>\n",
       "      <th>max</th>\n",
       "      <td>2.000000e+08</td>\n",
       "    </tr>\n",
       "  </tbody>\n",
       "</table>\n",
       "</div>"
      ],
      "text/plain": [
       "       raised_amount_usd\n",
       "count       2.790200e+04\n",
       "mean        6.418715e+05\n",
       "std         2.021168e+06\n",
       "min         0.000000e+00\n",
       "25%         1.000000e+05\n",
       "50%         3.000000e+05\n",
       "75%         7.031000e+05\n",
       "max         2.000000e+08"
      ]
     },
     "execution_count": 144,
     "metadata": {},
     "output_type": "execute_result"
    }
   ],
   "source": [
    "plot1_seed.describe()"
   ]
  },
  {
   "cell_type": "code",
   "execution_count": 145,
   "metadata": {},
   "outputs": [],
   "source": [
    "# Removing Outliers - \n",
    "\n",
    "first_percentile_seed = plot1_seed[\"raised_amount_usd\"].quantile([.01,.99])[.01]\n",
    "ninety_nine_percentile_seed = plot1_seed[\"raised_amount_usd\"].quantile([.01,.99])[.99]\n"
   ]
  },
  {
   "cell_type": "code",
   "execution_count": 146,
   "metadata": {},
   "outputs": [],
   "source": [
    "plot1_seed = plot1_seed.loc[ (plot1_seed[\"raised_amount_usd\"] >= first_percentile_seed) & (plot1_seed[\"raised_amount_usd\"] <= ninety_nine_percentile_seed) , :]\n"
   ]
  },
  {
   "cell_type": "code",
   "execution_count": 147,
   "metadata": {},
   "outputs": [
    {
     "data": {
      "text/html": [
       "<div>\n",
       "<style scoped>\n",
       "    .dataframe tbody tr th:only-of-type {\n",
       "        vertical-align: middle;\n",
       "    }\n",
       "\n",
       "    .dataframe tbody tr th {\n",
       "        vertical-align: top;\n",
       "    }\n",
       "\n",
       "    .dataframe thead th {\n",
       "        text-align: right;\n",
       "    }\n",
       "</style>\n",
       "<table border=\"1\" class=\"dataframe\">\n",
       "  <thead>\n",
       "    <tr style=\"text-align: right;\">\n",
       "      <th></th>\n",
       "      <th>raised_amount_usd</th>\n",
       "    </tr>\n",
       "  </thead>\n",
       "  <tbody>\n",
       "    <tr>\n",
       "      <th>count</th>\n",
       "      <td>2.734200e+04</td>\n",
       "    </tr>\n",
       "    <tr>\n",
       "      <th>mean</th>\n",
       "      <td>5.609346e+05</td>\n",
       "    </tr>\n",
       "    <tr>\n",
       "      <th>std</th>\n",
       "      <td>7.086975e+05</td>\n",
       "    </tr>\n",
       "    <tr>\n",
       "      <th>min</th>\n",
       "      <td>5.005000e+03</td>\n",
       "    </tr>\n",
       "    <tr>\n",
       "      <th>25%</th>\n",
       "      <td>1.000000e+05</td>\n",
       "    </tr>\n",
       "    <tr>\n",
       "      <th>50%</th>\n",
       "      <td>3.000000e+05</td>\n",
       "    </tr>\n",
       "    <tr>\n",
       "      <th>75%</th>\n",
       "      <td>6.971228e+05</td>\n",
       "    </tr>\n",
       "    <tr>\n",
       "      <th>max</th>\n",
       "      <td>4.318284e+06</td>\n",
       "    </tr>\n",
       "  </tbody>\n",
       "</table>\n",
       "</div>"
      ],
      "text/plain": [
       "       raised_amount_usd\n",
       "count       2.734200e+04\n",
       "mean        5.609346e+05\n",
       "std         7.086975e+05\n",
       "min         5.005000e+03\n",
       "25%         1.000000e+05\n",
       "50%         3.000000e+05\n",
       "75%         6.971228e+05\n",
       "max         4.318284e+06"
      ]
     },
     "execution_count": 147,
     "metadata": {},
     "output_type": "execute_result"
    }
   ],
   "source": [
    "plot1_seed.describe()"
   ]
  },
  {
   "cell_type": "markdown",
   "metadata": {},
   "source": [
    "Understanding private_equity type data :"
   ]
  },
  {
   "cell_type": "code",
   "execution_count": 148,
   "metadata": {
    "scrolled": true
   },
   "outputs": [
    {
     "data": {
      "text/plain": [
       "(2103, 3)"
      ]
     },
     "execution_count": 148,
     "metadata": {},
     "output_type": "execute_result"
    }
   ],
   "source": [
    "plot1_private_equity.shape"
   ]
  },
  {
   "cell_type": "code",
   "execution_count": 149,
   "metadata": {},
   "outputs": [
    {
     "data": {
      "text/plain": [
       "permalink              0.00\n",
       "funding_round_type     0.00\n",
       "raised_amount_usd     14.12\n",
       "dtype: float64"
      ]
     },
     "execution_count": 149,
     "metadata": {},
     "output_type": "execute_result"
    }
   ],
   "source": [
    "round(100*(plot1_private_equity.isnull().sum()/len(plot1_private_equity.index)),2)"
   ]
  },
  {
   "cell_type": "code",
   "execution_count": 150,
   "metadata": {},
   "outputs": [
    {
     "data": {
      "text/plain": [
       "20000000.0"
      ]
     },
     "execution_count": 150,
     "metadata": {},
     "output_type": "execute_result"
    }
   ],
   "source": [
    "plot1_private_equity.raised_amount_usd.median()"
   ]
  },
  {
   "cell_type": "code",
   "execution_count": 151,
   "metadata": {},
   "outputs": [
    {
     "data": {
      "text/plain": [
       "permalink             0.0\n",
       "funding_round_type    0.0\n",
       "raised_amount_usd     0.0\n",
       "dtype: float64"
      ]
     },
     "execution_count": 151,
     "metadata": {},
     "output_type": "execute_result"
    }
   ],
   "source": [
    "# Imputting the missing values of raised_amount_usd with median of private_equity\n",
    "\n",
    "plot1_private_equity.loc[np.isnan(plot1_private_equity[\"raised_amount_usd\"]), [\"raised_amount_usd\"]] = 20000000.0\n",
    "round(100*(plot1_venture.isnull().sum()/len(plot1_venture.index)),2)"
   ]
  },
  {
   "cell_type": "code",
   "execution_count": 152,
   "metadata": {},
   "outputs": [
    {
     "data": {
      "text/html": [
       "<div>\n",
       "<style scoped>\n",
       "    .dataframe tbody tr th:only-of-type {\n",
       "        vertical-align: middle;\n",
       "    }\n",
       "\n",
       "    .dataframe tbody tr th {\n",
       "        vertical-align: top;\n",
       "    }\n",
       "\n",
       "    .dataframe thead th {\n",
       "        text-align: right;\n",
       "    }\n",
       "</style>\n",
       "<table border=\"1\" class=\"dataframe\">\n",
       "  <thead>\n",
       "    <tr style=\"text-align: right;\">\n",
       "      <th></th>\n",
       "      <th>raised_amount_usd</th>\n",
       "    </tr>\n",
       "  </thead>\n",
       "  <tbody>\n",
       "    <tr>\n",
       "      <th>count</th>\n",
       "      <td>2.103000e+03</td>\n",
       "    </tr>\n",
       "    <tr>\n",
       "      <th>mean</th>\n",
       "      <td>6.772701e+07</td>\n",
       "    </tr>\n",
       "    <tr>\n",
       "      <th>std</th>\n",
       "      <td>1.900424e+08</td>\n",
       "    </tr>\n",
       "    <tr>\n",
       "      <th>min</th>\n",
       "      <td>0.000000e+00</td>\n",
       "    </tr>\n",
       "    <tr>\n",
       "      <th>25%</th>\n",
       "      <td>6.876054e+06</td>\n",
       "    </tr>\n",
       "    <tr>\n",
       "      <th>50%</th>\n",
       "      <td>2.000000e+07</td>\n",
       "    </tr>\n",
       "    <tr>\n",
       "      <th>75%</th>\n",
       "      <td>6.500000e+07</td>\n",
       "    </tr>\n",
       "    <tr>\n",
       "      <th>max</th>\n",
       "      <td>4.745460e+09</td>\n",
       "    </tr>\n",
       "  </tbody>\n",
       "</table>\n",
       "</div>"
      ],
      "text/plain": [
       "       raised_amount_usd\n",
       "count       2.103000e+03\n",
       "mean        6.772701e+07\n",
       "std         1.900424e+08\n",
       "min         0.000000e+00\n",
       "25%         6.876054e+06\n",
       "50%         2.000000e+07\n",
       "75%         6.500000e+07\n",
       "max         4.745460e+09"
      ]
     },
     "execution_count": 152,
     "metadata": {},
     "output_type": "execute_result"
    }
   ],
   "source": [
    "plot1_private_equity.describe()"
   ]
  },
  {
   "cell_type": "code",
   "execution_count": 153,
   "metadata": {},
   "outputs": [],
   "source": [
    "# Removing Outliers - \n",
    "\n",
    "first_percentile_private_equity = plot1_private_equity[\"raised_amount_usd\"].quantile([.01,.99])[.01]\n",
    "ninety_nine_percentile_private_equity = plot1_private_equity[\"raised_amount_usd\"].quantile([.01,.99])[.99]"
   ]
  },
  {
   "cell_type": "code",
   "execution_count": 154,
   "metadata": {},
   "outputs": [],
   "source": [
    "plot1_private_equity = plot1_private_equity.loc[ (plot1_private_equity[\"raised_amount_usd\"] >= first_percentile_private_equity) & (plot1_private_equity[\"raised_amount_usd\"] <= ninety_nine_percentile_private_equity) , :]\n"
   ]
  },
  {
   "cell_type": "code",
   "execution_count": 155,
   "metadata": {},
   "outputs": [
    {
     "data": {
      "text/html": [
       "<div>\n",
       "<style scoped>\n",
       "    .dataframe tbody tr th:only-of-type {\n",
       "        vertical-align: middle;\n",
       "    }\n",
       "\n",
       "    .dataframe tbody tr th {\n",
       "        vertical-align: top;\n",
       "    }\n",
       "\n",
       "    .dataframe thead th {\n",
       "        text-align: right;\n",
       "    }\n",
       "</style>\n",
       "<table border=\"1\" class=\"dataframe\">\n",
       "  <thead>\n",
       "    <tr style=\"text-align: right;\">\n",
       "      <th></th>\n",
       "      <th>raised_amount_usd</th>\n",
       "    </tr>\n",
       "  </thead>\n",
       "  <tbody>\n",
       "    <tr>\n",
       "      <th>count</th>\n",
       "      <td>2.059000e+03</td>\n",
       "    </tr>\n",
       "    <tr>\n",
       "      <th>mean</th>\n",
       "      <td>5.432462e+07</td>\n",
       "    </tr>\n",
       "    <tr>\n",
       "      <th>std</th>\n",
       "      <td>8.880735e+07</td>\n",
       "    </tr>\n",
       "    <tr>\n",
       "      <th>min</th>\n",
       "      <td>2.344000e+04</td>\n",
       "    </tr>\n",
       "    <tr>\n",
       "      <th>25%</th>\n",
       "      <td>7.043138e+06</td>\n",
       "    </tr>\n",
       "    <tr>\n",
       "      <th>50%</th>\n",
       "      <td>2.000000e+07</td>\n",
       "    </tr>\n",
       "    <tr>\n",
       "      <th>75%</th>\n",
       "      <td>6.300000e+07</td>\n",
       "    </tr>\n",
       "    <tr>\n",
       "      <th>max</th>\n",
       "      <td>6.300000e+08</td>\n",
       "    </tr>\n",
       "  </tbody>\n",
       "</table>\n",
       "</div>"
      ],
      "text/plain": [
       "       raised_amount_usd\n",
       "count       2.059000e+03\n",
       "mean        5.432462e+07\n",
       "std         8.880735e+07\n",
       "min         2.344000e+04\n",
       "25%         7.043138e+06\n",
       "50%         2.000000e+07\n",
       "75%         6.300000e+07\n",
       "max         6.300000e+08"
      ]
     },
     "execution_count": 155,
     "metadata": {},
     "output_type": "execute_result"
    }
   ],
   "source": [
    "plot1_private_equity.describe()"
   ]
  },
  {
   "cell_type": "markdown",
   "metadata": {},
   "source": [
    "##### Having cleaned the data separately for each funding type, now I will merge the 3 different dataframes to get a consolidated dataframe which will be used for plotting"
   ]
  },
  {
   "cell_type": "code",
   "execution_count": 156,
   "metadata": {},
   "outputs": [],
   "source": [
    "plot1_df = pd.concat([plot1_venture,plot1_seed, plot1_private_equity], axis = 0)"
   ]
  },
  {
   "cell_type": "code",
   "execution_count": 157,
   "metadata": {},
   "outputs": [
    {
     "data": {
      "text/plain": [
       "(79850, 3)"
      ]
     },
     "execution_count": 157,
     "metadata": {},
     "output_type": "execute_result"
    }
   ],
   "source": [
    "plot1_df.shape"
   ]
  },
  {
   "cell_type": "code",
   "execution_count": 158,
   "metadata": {},
   "outputs": [
    {
     "data": {
      "text/plain": [
       "581024421107.0"
      ]
     },
     "execution_count": 158,
     "metadata": {},
     "output_type": "execute_result"
    }
   ],
   "source": [
    "total_amount_invested = plot1_df.raised_amount_usd.sum()\n",
    "total_amount_invested"
   ]
  },
  {
   "cell_type": "code",
   "execution_count": 159,
   "metadata": {},
   "outputs": [
    {
     "data": {
      "text/plain": [
       "78.11"
      ]
     },
     "execution_count": 159,
     "metadata": {},
     "output_type": "execute_result"
    }
   ],
   "source": [
    "sum_venture = plot1_venture.raised_amount_usd.sum()\n",
    "percent_venture = sum_venture/total_amount_invested*100\n",
    "percent_venture = round(percent_venture,2)\n",
    "percent_venture"
   ]
  },
  {
   "cell_type": "code",
   "execution_count": 160,
   "metadata": {},
   "outputs": [
    {
     "data": {
      "text/plain": [
       "2.64"
      ]
     },
     "execution_count": 160,
     "metadata": {},
     "output_type": "execute_result"
    }
   ],
   "source": [
    "sum_seed = plot1_seed.raised_amount_usd.sum()\n",
    "percent_seed = sum_seed/total_amount_invested*100\n",
    "percent_seed = round(percent_seed,2)\n",
    "percent_seed"
   ]
  },
  {
   "cell_type": "code",
   "execution_count": 161,
   "metadata": {},
   "outputs": [
    {
     "data": {
      "text/plain": [
       "19.25"
      ]
     },
     "execution_count": 161,
     "metadata": {},
     "output_type": "execute_result"
    }
   ],
   "source": [
    "sum_private_equity = plot1_private_equity.raised_amount_usd.sum()\n",
    "percent_private_equity = sum_private_equity/total_amount_invested*100\n",
    "percent_private_equity = round(percent_private_equity,2)\n",
    "percent_private_equity"
   ]
  },
  {
   "cell_type": "code",
   "execution_count": 162,
   "metadata": {},
   "outputs": [],
   "source": [
    "median_venture = plot1_venture.raised_amount_usd.median()\n",
    "median_seed = plot1_seed.raised_amount_usd.median()\n",
    "median_private_equity = plot1_private_equity.raised_amount_usd.median()"
   ]
  },
  {
   "cell_type": "code",
   "execution_count": 163,
   "metadata": {},
   "outputs": [],
   "source": [
    "data_plot = [[\"venture\",percent_venture,median_venture], [\"seed\",percent_seed,median_seed], [\"private_equity\",percent_private_equity,median_private_equity]]\n"
   ]
  },
  {
   "cell_type": "code",
   "execution_count": 164,
   "metadata": {},
   "outputs": [
    {
     "data": {
      "text/plain": [
       "[['venture', 78.11, 5000000.0],\n",
       " ['seed', 2.64, 300000.0],\n",
       " ['private_equity', 19.25, 20000000.0]]"
      ]
     },
     "execution_count": 164,
     "metadata": {},
     "output_type": "execute_result"
    }
   ],
   "source": [
    "data_plot"
   ]
  },
  {
   "cell_type": "code",
   "execution_count": 165,
   "metadata": {
    "scrolled": true
   },
   "outputs": [
    {
     "data": {
      "text/html": [
       "<div>\n",
       "<style scoped>\n",
       "    .dataframe tbody tr th:only-of-type {\n",
       "        vertical-align: middle;\n",
       "    }\n",
       "\n",
       "    .dataframe tbody tr th {\n",
       "        vertical-align: top;\n",
       "    }\n",
       "\n",
       "    .dataframe thead th {\n",
       "        text-align: right;\n",
       "    }\n",
       "</style>\n",
       "<table border=\"1\" class=\"dataframe\">\n",
       "  <thead>\n",
       "    <tr style=\"text-align: right;\">\n",
       "      <th></th>\n",
       "      <th>funding_type</th>\n",
       "      <th>percent</th>\n",
       "      <th>average_amount</th>\n",
       "    </tr>\n",
       "  </thead>\n",
       "  <tbody>\n",
       "    <tr>\n",
       "      <th>0</th>\n",
       "      <td>venture</td>\n",
       "      <td>78.11</td>\n",
       "      <td>5000000.0</td>\n",
       "    </tr>\n",
       "    <tr>\n",
       "      <th>1</th>\n",
       "      <td>seed</td>\n",
       "      <td>2.64</td>\n",
       "      <td>300000.0</td>\n",
       "    </tr>\n",
       "    <tr>\n",
       "      <th>2</th>\n",
       "      <td>private_equity</td>\n",
       "      <td>19.25</td>\n",
       "      <td>20000000.0</td>\n",
       "    </tr>\n",
       "  </tbody>\n",
       "</table>\n",
       "</div>"
      ],
      "text/plain": [
       "     funding_type  percent  average_amount\n",
       "0         venture    78.11       5000000.0\n",
       "1            seed     2.64        300000.0\n",
       "2  private_equity    19.25      20000000.0"
      ]
     },
     "execution_count": 165,
     "metadata": {},
     "output_type": "execute_result"
    }
   ],
   "source": [
    "plot1_final = pd.DataFrame(data_plot, columns = [\"funding_type\",\"percent\",\"average_amount\"])\n",
    "plot1_final"
   ]
  },
  {
   "cell_type": "code",
   "execution_count": 166,
   "metadata": {},
   "outputs": [],
   "source": [
    "import matplotlib.pyplot as plt"
   ]
  },
  {
   "cell_type": "code",
   "execution_count": 167,
   "metadata": {},
   "outputs": [
    {
     "data": {
      "text/plain": [
       "['venture', 'seed', 'private_equity']"
      ]
     },
     "execution_count": 167,
     "metadata": {},
     "output_type": "execute_result"
    }
   ],
   "source": [
    "list(plot1_final[\"funding_type\"])"
   ]
  },
  {
   "cell_type": "code",
   "execution_count": 168,
   "metadata": {},
   "outputs": [
    {
     "data": {
      "text/plain": [
       "[78.11, 2.64, 19.25]"
      ]
     },
     "execution_count": 168,
     "metadata": {},
     "output_type": "execute_result"
    }
   ],
   "source": [
    "list(plot1_final[\"percent\"])"
   ]
  },
  {
   "cell_type": "code",
   "execution_count": 169,
   "metadata": {},
   "outputs": [
    {
     "data": {
      "image/png": "[encoded data removed]",
      "text/plain": [
       "<Figure size 432x288 with 1 Axes>"
      ]
     },
     "metadata": {},
     "output_type": "display_data"
    }
   ],
   "source": [
    "fig = plt.figure()\n",
    "ax = fig.add_axes([0,0,1,1])\n",
    "ax.axis('equal')\n",
    "explode = (0.1, 0, 0)  \n",
    "ax.pie(list(plot1_final[\"percent\"]), labels = list(plot1_final[\"funding_type\"]),autopct='%1.2f%%', explode = explode)\n",
    "plt.title(\"Sector wise Investment distribution\", bbox={'facecolor':'0.8', 'pad':5})\n",
    "plt.show()"
   ]
  },
  {
   "cell_type": "code",
   "execution_count": 170,
   "metadata": {},
   "outputs": [
    {
     "data": {
      "image/png": "[encoded data removed]",
      "text/plain": [
       "<Figure size 432x288 with 1 Axes>"
      ]
     },
     "metadata": {
      "needs_background": "light"
     },
     "output_type": "display_data"
    }
   ],
   "source": [
    "fig = plt.figure()\n",
    "ax = fig.add_axes([0,0,1,1])\n",
    "y_axis_data = [x/1000000 for x in list(plot1_final[\"average_amount\"])]\n",
    "ax.bar( list(plot1_final[\"funding_type\"]) , y_axis_data )\n",
    "ax.set_xlabel('Funding Types')\n",
    "ax.set_ylabel('Average Investment Amount (in millions)')\n",
    "ax.set_title('Average Investment Amount per Sector')\n",
    "plt.show()"
   ]
  },
  {
   "cell_type": "code",
   "execution_count": 171,
   "metadata": {
    "scrolled": true
   },
   "outputs": [
    {
     "data": {
      "image/png": "[encoded data removed]",
      "text/plain": [
       "<Figure size 1152x1080 with 2 Axes>"
      ]
     },
     "metadata": {
      "needs_background": "light"
     },
     "output_type": "display_data"
    }
   ],
   "source": [
    "# Create a figure having 4 subplots\n",
    "\n",
    "fig, axs = plt.subplots(2, 2, figsize=(16,15))\n",
    "\n",
    "# subplot 1\n",
    "explode = (0.1, 0, 0)  \n",
    "axs[0, 0].pie(list(plot1_final[\"percent\"]), labels = list(plot1_final[\"funding_type\"]),autopct='%1.2f%%', explode = explode)\n",
    "axs[0, 0].set_title(\"Funding Type wise Investment distribution\", bbox={'facecolor':'0.8', 'pad':5})\n",
    "\n",
    "# subplot 2  \n",
    "y_axis_data = [x/1000000 for x in list(plot1_final[\"average_amount\"])]\n",
    "axs[0, 1].bar( list(plot1_final[\"funding_type\"]) , y_axis_data )\n",
    "axs[0, 1].set_xlabel('Funding Types')\n",
    "axs[0, 1].set_ylabel('Average Investment Amount (in millions)')\n",
    "axs[0, 1].set_title(\"Funding Type Average Investment Amount \", bbox={'facecolor':'0.8', 'pad':5})\n",
    "\n",
    "fig.delaxes(axs[1,0])\n",
    "fig.delaxes(axs[1,1])\n",
    "fig.savefig(\"Investment_Analysis_Plot1_Harshit_Mehta.png\")"
   ]
  },
  {
   "cell_type": "code",
   "execution_count": 172,
   "metadata": {},
   "outputs": [
    {
     "data": {
      "text/html": [
       "<div>\n",
       "<style scoped>\n",
       "    .dataframe tbody tr th:only-of-type {\n",
       "        vertical-align: middle;\n",
       "    }\n",
       "\n",
       "    .dataframe tbody tr th {\n",
       "        vertical-align: top;\n",
       "    }\n",
       "\n",
       "    .dataframe thead th {\n",
       "        text-align: right;\n",
       "    }\n",
       "</style>\n",
       "<table border=\"1\" class=\"dataframe\">\n",
       "  <thead>\n",
       "    <tr style=\"text-align: right;\">\n",
       "      <th></th>\n",
       "      <th>country_code</th>\n",
       "      <th>raised_amount_usd</th>\n",
       "    </tr>\n",
       "  </thead>\n",
       "  <tbody>\n",
       "    <tr>\n",
       "      <th>0</th>\n",
       "      <td>USA</td>\n",
       "      <td>3.439952e+11</td>\n",
       "    </tr>\n",
       "    <tr>\n",
       "      <th>1</th>\n",
       "      <td>GBR</td>\n",
       "      <td>1.723388e+10</td>\n",
       "    </tr>\n",
       "    <tr>\n",
       "      <th>2</th>\n",
       "      <td>IND</td>\n",
       "      <td>1.009985e+10</td>\n",
       "    </tr>\n",
       "    <tr>\n",
       "      <th>3</th>\n",
       "      <td>CAN</td>\n",
       "      <td>8.791852e+09</td>\n",
       "    </tr>\n",
       "    <tr>\n",
       "      <th>4</th>\n",
       "      <td>ISR</td>\n",
       "      <td>6.892978e+09</td>\n",
       "    </tr>\n",
       "    <tr>\n",
       "      <th>5</th>\n",
       "      <td>SGP</td>\n",
       "      <td>2.159116e+09</td>\n",
       "    </tr>\n",
       "    <tr>\n",
       "      <th>6</th>\n",
       "      <td>IRL</td>\n",
       "      <td>1.784919e+09</td>\n",
       "    </tr>\n",
       "    <tr>\n",
       "      <th>7</th>\n",
       "      <td>AUS</td>\n",
       "      <td>1.327673e+09</td>\n",
       "    </tr>\n",
       "    <tr>\n",
       "      <th>8</th>\n",
       "      <td>HKG</td>\n",
       "      <td>8.564410e+08</td>\n",
       "    </tr>\n",
       "  </tbody>\n",
       "</table>\n",
       "</div>"
      ],
      "text/plain": [
       "  country_code  raised_amount_usd\n",
       "0          USA       3.439952e+11\n",
       "1          GBR       1.723388e+10\n",
       "2          IND       1.009985e+10\n",
       "3          CAN       8.791852e+09\n",
       "4          ISR       6.892978e+09\n",
       "5          SGP       2.159116e+09\n",
       "6          IRL       1.784919e+09\n",
       "7          AUS       1.327673e+09\n",
       "8          HKG       8.564410e+08"
      ]
     },
     "execution_count": 172,
     "metadata": {},
     "output_type": "execute_result"
    }
   ],
   "source": [
    "# Filtering out non-english speaking countries from top 9 countries\n",
    "plot2_df = pd.merge(master_frame_by_country_code_df[0:30], english_speaking, how=\"inner\", on=\"country_code\")\n",
    "plot2_df"
   ]
  },
  {
   "cell_type": "code",
   "execution_count": 173,
   "metadata": {},
   "outputs": [
    {
     "data": {
      "image/png": "[encoded data removed]",
      "text/plain": [
       "<Figure size 432x288 with 1 Axes>"
      ]
     },
     "metadata": {
      "needs_background": "light"
     },
     "output_type": "display_data"
    }
   ],
   "source": [
    "fig = plt.figure()\n",
    "ax = fig.add_axes([0,0,1,1])\n",
    "y_axis_data = [x/1000000000 for x in list(plot2_df[\"raised_amount_usd\"])]\n",
    "ax.bar( list(plot2_df[\"country_code\"]) , y_axis_data )\n",
    "ax.set_xlabel('Country')\n",
    "ax.set_ylabel('Total Investment Amount (in billions)')\n",
    "ax.set_title('Country wise Investment Break Up')\n",
    "plt.show()\n",
    "fig.savefig(\"Investment_Analysis_Plot2_Harshit_Mehta.png\")"
   ]
  },
  {
   "cell_type": "code",
   "execution_count": 174,
   "metadata": {},
   "outputs": [
    {
     "data": {
      "text/html": [
       "<div>\n",
       "<style scoped>\n",
       "    .dataframe tbody tr th:only-of-type {\n",
       "        vertical-align: middle;\n",
       "    }\n",
       "\n",
       "    .dataframe tbody tr th {\n",
       "        vertical-align: top;\n",
       "    }\n",
       "\n",
       "    .dataframe thead th {\n",
       "        text-align: right;\n",
       "    }\n",
       "</style>\n",
       "<table border=\"1\" class=\"dataframe\">\n",
       "  <thead>\n",
       "    <tr style=\"text-align: right;\">\n",
       "      <th></th>\n",
       "      <th>permalink</th>\n",
       "      <th>name</th>\n",
       "      <th>category_list</th>\n",
       "      <th>status</th>\n",
       "      <th>country_code</th>\n",
       "      <th>funding_round_permalink</th>\n",
       "      <th>funding_round_type</th>\n",
       "      <th>funded_at</th>\n",
       "      <th>raised_amount_usd</th>\n",
       "      <th>primary_sector</th>\n",
       "      <th>main_sector</th>\n",
       "    </tr>\n",
       "  </thead>\n",
       "  <tbody>\n",
       "    <tr>\n",
       "      <th>4</th>\n",
       "      <td>/organization/all-def-digital</td>\n",
       "      <td>All Def Digital</td>\n",
       "      <td>Media</td>\n",
       "      <td>operating</td>\n",
       "      <td>USA</td>\n",
       "      <td>/funding-round/452a2342fe720285c3b92e9bd927d9ba</td>\n",
       "      <td>venture</td>\n",
       "      <td>06-08-2014</td>\n",
       "      <td>5000000.0</td>\n",
       "      <td>media</td>\n",
       "      <td>Entertainment</td>\n",
       "    </tr>\n",
       "    <tr>\n",
       "      <th>14</th>\n",
       "      <td>/organization/chefs-feed</td>\n",
       "      <td>ChefsFeed</td>\n",
       "      <td>Media|Mobile|Restaurants|Technology</td>\n",
       "      <td>operating</td>\n",
       "      <td>USA</td>\n",
       "      <td>/funding-round/adca195749ae9ace84684723fbe75e5b</td>\n",
       "      <td>venture</td>\n",
       "      <td>26-02-2015</td>\n",
       "      <td>5000000.0</td>\n",
       "      <td>media</td>\n",
       "      <td>Entertainment</td>\n",
       "    </tr>\n",
       "    <tr>\n",
       "      <th>21</th>\n",
       "      <td>/organization/huffingtonpost</td>\n",
       "      <td>The Huffington Post</td>\n",
       "      <td>Media|News|Publishing</td>\n",
       "      <td>acquired</td>\n",
       "      <td>USA</td>\n",
       "      <td>/funding-round/7f05940c4d2dfecb8e50a0e5720e5065</td>\n",
       "      <td>venture</td>\n",
       "      <td>01-08-2006</td>\n",
       "      <td>5000000.0</td>\n",
       "      <td>media</td>\n",
       "      <td>Entertainment</td>\n",
       "    </tr>\n",
       "    <tr>\n",
       "      <th>22</th>\n",
       "      <td>/organization/huffingtonpost</td>\n",
       "      <td>The Huffington Post</td>\n",
       "      <td>Media|News|Publishing</td>\n",
       "      <td>acquired</td>\n",
       "      <td>USA</td>\n",
       "      <td>/funding-round/9241ae16e08df17ebdc064e49e23035a</td>\n",
       "      <td>venture</td>\n",
       "      <td>01-09-2007</td>\n",
       "      <td>5000000.0</td>\n",
       "      <td>media</td>\n",
       "      <td>Entertainment</td>\n",
       "    </tr>\n",
       "    <tr>\n",
       "      <th>33</th>\n",
       "      <td>/organization/mediabong</td>\n",
       "      <td>MEDIABONG</td>\n",
       "      <td>Media|Semantic Search|Video</td>\n",
       "      <td>operating</td>\n",
       "      <td>USA</td>\n",
       "      <td>/funding-round/9282890ca87072025dc1807f400acee6</td>\n",
       "      <td>venture</td>\n",
       "      <td>13-05-2015</td>\n",
       "      <td>5000000.0</td>\n",
       "      <td>media</td>\n",
       "      <td>Entertainment</td>\n",
       "    </tr>\n",
       "    <tr>\n",
       "      <th>37</th>\n",
       "      <td>/organization/newscorporation</td>\n",
       "      <td>News Corp</td>\n",
       "      <td>Media|News|Publishing</td>\n",
       "      <td>ipo</td>\n",
       "      <td>USA</td>\n",
       "      <td>/funding-round/8f6d7c4592e43e91e8688ba342bffcb7</td>\n",
       "      <td>venture</td>\n",
       "      <td>08-01-2010</td>\n",
       "      <td>12500000.0</td>\n",
       "      <td>media</td>\n",
       "      <td>Entertainment</td>\n",
       "    </tr>\n",
       "    <tr>\n",
       "      <th>38</th>\n",
       "      <td>/organization/nokeena</td>\n",
       "      <td>Ankeena Networks</td>\n",
       "      <td>Media|Software</td>\n",
       "      <td>acquired</td>\n",
       "      <td>USA</td>\n",
       "      <td>/funding-round/9225f2db6b1b74892d5de6a8744b94ea</td>\n",
       "      <td>venture</td>\n",
       "      <td>08-08-2008</td>\n",
       "      <td>9400000.0</td>\n",
       "      <td>media</td>\n",
       "      <td>Entertainment</td>\n",
       "    </tr>\n",
       "    <tr>\n",
       "      <th>40</th>\n",
       "      <td>/organization/nokeena</td>\n",
       "      <td>Ankeena Networks</td>\n",
       "      <td>Media|Software</td>\n",
       "      <td>acquired</td>\n",
       "      <td>USA</td>\n",
       "      <td>/funding-round/fb7a617ed6d1a3203024f0f111417bfb</td>\n",
       "      <td>venture</td>\n",
       "      <td>25-06-2009</td>\n",
       "      <td>6500000.0</td>\n",
       "      <td>media</td>\n",
       "      <td>Entertainment</td>\n",
       "    </tr>\n",
       "    <tr>\n",
       "      <th>43</th>\n",
       "      <td>/organization/otter-media</td>\n",
       "      <td>Otter Media</td>\n",
       "      <td>Media|Venture Capital|Video</td>\n",
       "      <td>operating</td>\n",
       "      <td>USA</td>\n",
       "      <td>/funding-round/8f0d1129cb5436a5e92d06a2f564a012</td>\n",
       "      <td>venture</td>\n",
       "      <td>22-04-2014</td>\n",
       "      <td>5000000.0</td>\n",
       "      <td>media</td>\n",
       "      <td>Entertainment</td>\n",
       "    </tr>\n",
       "    <tr>\n",
       "      <th>44</th>\n",
       "      <td>/organization/priyo</td>\n",
       "      <td>Priyo</td>\n",
       "      <td>Media|Publishing</td>\n",
       "      <td>operating</td>\n",
       "      <td>USA</td>\n",
       "      <td>/funding-round/c5c91110f55842f75e7241901570b0c7</td>\n",
       "      <td>venture</td>\n",
       "      <td>02-07-2015</td>\n",
       "      <td>5000000.0</td>\n",
       "      <td>media</td>\n",
       "      <td>Entertainment</td>\n",
       "    </tr>\n",
       "    <tr>\n",
       "      <th>58</th>\n",
       "      <td>/organization/vadio</td>\n",
       "      <td>Vadio</td>\n",
       "      <td>Media|Mobile|Video</td>\n",
       "      <td>operating</td>\n",
       "      <td>USA</td>\n",
       "      <td>/funding-round/e1570c5060bf30b9972a2b0dc0562b02</td>\n",
       "      <td>venture</td>\n",
       "      <td>12-05-2015</td>\n",
       "      <td>7500000.0</td>\n",
       "      <td>media</td>\n",
       "      <td>Entertainment</td>\n",
       "    </tr>\n",
       "    <tr>\n",
       "      <th>63</th>\n",
       "      <td>/organization/xo-group</td>\n",
       "      <td>XO Group, Inc.</td>\n",
       "      <td>Media|Social Media|Weddings</td>\n",
       "      <td>ipo</td>\n",
       "      <td>USA</td>\n",
       "      <td>/funding-round/b180184cb5bc29df54ca50bf678f406c</td>\n",
       "      <td>venture</td>\n",
       "      <td>15-04-1999</td>\n",
       "      <td>15000000.0</td>\n",
       "      <td>media</td>\n",
       "      <td>Entertainment</td>\n",
       "    </tr>\n",
       "    <tr>\n",
       "      <th>67</th>\n",
       "      <td>/organization/-qounter</td>\n",
       "      <td>:Qounter</td>\n",
       "      <td>Application Platforms|Real Time|Social Network...</td>\n",
       "      <td>operating</td>\n",
       "      <td>USA</td>\n",
       "      <td>/funding-round/22dacff496eb7acb2b901dec1dfe5633</td>\n",
       "      <td>venture</td>\n",
       "      <td>14-10-2014</td>\n",
       "      <td>5000000.0</td>\n",
       "      <td>application platforms</td>\n",
       "      <td>News, Search and Messaging</td>\n",
       "    </tr>\n",
       "    <tr>\n",
       "      <th>69</th>\n",
       "      <td>/organization/aarohi-communication</td>\n",
       "      <td>Aarohi communication</td>\n",
       "      <td>Application Platforms|Communications Infrastru...</td>\n",
       "      <td>acquired</td>\n",
       "      <td>USA</td>\n",
       "      <td>/funding-round/1860d75993627f37c4b1a17b97a83502</td>\n",
       "      <td>venture</td>\n",
       "      <td>01-08-2001</td>\n",
       "      <td>5000000.0</td>\n",
       "      <td>application platforms</td>\n",
       "      <td>News, Search and Messaging</td>\n",
       "    </tr>\n",
       "    <tr>\n",
       "      <th>70</th>\n",
       "      <td>/organization/aarohi-communication</td>\n",
       "      <td>Aarohi communication</td>\n",
       "      <td>Application Platforms|Communications Infrastru...</td>\n",
       "      <td>acquired</td>\n",
       "      <td>USA</td>\n",
       "      <td>/funding-round/84f519482b29b686a0c6b59ff383d386</td>\n",
       "      <td>venture</td>\n",
       "      <td>29-08-2003</td>\n",
       "      <td>6000000.0</td>\n",
       "      <td>application platforms</td>\n",
       "      <td>News, Search and Messaging</td>\n",
       "    </tr>\n",
       "    <tr>\n",
       "      <th>71</th>\n",
       "      <td>/organization/aarohi-communication</td>\n",
       "      <td>Aarohi communication</td>\n",
       "      <td>Application Platforms|Communications Infrastru...</td>\n",
       "      <td>acquired</td>\n",
       "      <td>USA</td>\n",
       "      <td>/funding-round/b0f47948e427b6c91a50128373273abf</td>\n",
       "      <td>venture</td>\n",
       "      <td>06-12-2002</td>\n",
       "      <td>8000000.0</td>\n",
       "      <td>application platforms</td>\n",
       "      <td>News, Search and Messaging</td>\n",
       "    </tr>\n",
       "    <tr>\n",
       "      <th>73</th>\n",
       "      <td>/organization/appian</td>\n",
       "      <td>Appian</td>\n",
       "      <td>Application Platforms|Business Productivity|Cl...</td>\n",
       "      <td>operating</td>\n",
       "      <td>USA</td>\n",
       "      <td>/funding-round/95e11461d907939a880034263533be1e</td>\n",
       "      <td>venture</td>\n",
       "      <td>21-07-2008</td>\n",
       "      <td>10000000.0</td>\n",
       "      <td>application platforms</td>\n",
       "      <td>News, Search and Messaging</td>\n",
       "    </tr>\n",
       "    <tr>\n",
       "      <th>74</th>\n",
       "      <td>/organization/appilog</td>\n",
       "      <td>Appilog</td>\n",
       "      <td>Application Platforms|Internet|Software</td>\n",
       "      <td>acquired</td>\n",
       "      <td>USA</td>\n",
       "      <td>/funding-round/41185e964879edbec6b7f1edc8f2ed4f</td>\n",
       "      <td>venture</td>\n",
       "      <td>15-01-2004</td>\n",
       "      <td>9000000.0</td>\n",
       "      <td>application platforms</td>\n",
       "      <td>News, Search and Messaging</td>\n",
       "    </tr>\n",
       "    <tr>\n",
       "      <th>75</th>\n",
       "      <td>/organization/appilog</td>\n",
       "      <td>Appilog</td>\n",
       "      <td>Application Platforms|Internet|Software</td>\n",
       "      <td>acquired</td>\n",
       "      <td>USA</td>\n",
       "      <td>/funding-round/c85c0a984ded486d0105d171070accf7</td>\n",
       "      <td>venture</td>\n",
       "      <td>24-06-2003</td>\n",
       "      <td>6500000.0</td>\n",
       "      <td>application platforms</td>\n",
       "      <td>News, Search and Messaging</td>\n",
       "    </tr>\n",
       "    <tr>\n",
       "      <th>83</th>\n",
       "      <td>/organization/calxeda</td>\n",
       "      <td>Calxeda</td>\n",
       "      <td>Application Platforms|Data Centers|Software</td>\n",
       "      <td>operating</td>\n",
       "      <td>USA</td>\n",
       "      <td>/funding-round/f6f4d8d7aced8672c18bb7a7389552e5</td>\n",
       "      <td>venture</td>\n",
       "      <td>01-08-2011</td>\n",
       "      <td>8000000.0</td>\n",
       "      <td>application platforms</td>\n",
       "      <td>News, Search and Messaging</td>\n",
       "    </tr>\n",
       "    <tr>\n",
       "      <th>87</th>\n",
       "      <td>/organization/cruise</td>\n",
       "      <td>Cruise</td>\n",
       "      <td>Application Platforms|Sensors|Travel</td>\n",
       "      <td>operating</td>\n",
       "      <td>USA</td>\n",
       "      <td>/funding-round/ca477be238f918f06c41e7d15b5424da</td>\n",
       "      <td>venture</td>\n",
       "      <td>18-09-2015</td>\n",
       "      <td>12500000.0</td>\n",
       "      <td>application platforms</td>\n",
       "      <td>News, Search and Messaging</td>\n",
       "    </tr>\n",
       "    <tr>\n",
       "      <th>105</th>\n",
       "      <td>/organization/i2i-inc</td>\n",
       "      <td>i2i, Inc.</td>\n",
       "      <td>Application Platforms|Consumer Electronics|Int...</td>\n",
       "      <td>operating</td>\n",
       "      <td>USA</td>\n",
       "      <td>/funding-round/deabb89370103c6398cd7d37ffb11c6c</td>\n",
       "      <td>venture</td>\n",
       "      <td>01-09-2014</td>\n",
       "      <td>5000000.0</td>\n",
       "      <td>application platforms</td>\n",
       "      <td>News, Search and Messaging</td>\n",
       "    </tr>\n",
       "    <tr>\n",
       "      <th>109</th>\n",
       "      <td>/organization/life-on-air</td>\n",
       "      <td>Life On Air</td>\n",
       "      <td>Application Platforms</td>\n",
       "      <td>operating</td>\n",
       "      <td>USA</td>\n",
       "      <td>/funding-round/0a637471fb9c294fb484549729774ed9</td>\n",
       "      <td>venture</td>\n",
       "      <td>07-04-2015</td>\n",
       "      <td>14000000.0</td>\n",
       "      <td>application platforms</td>\n",
       "      <td>News, Search and Messaging</td>\n",
       "    </tr>\n",
       "    <tr>\n",
       "      <th>111</th>\n",
       "      <td>/organization/metavine</td>\n",
       "      <td>Metavine</td>\n",
       "      <td>Application Platforms|Software</td>\n",
       "      <td>operating</td>\n",
       "      <td>USA</td>\n",
       "      <td>/funding-round/82dd0c68e1ef32e865f70f8c316fe58f</td>\n",
       "      <td>venture</td>\n",
       "      <td>31-08-2015</td>\n",
       "      <td>5500000.0</td>\n",
       "      <td>application platforms</td>\n",
       "      <td>News, Search and Messaging</td>\n",
       "    </tr>\n",
       "    <tr>\n",
       "      <th>112</th>\n",
       "      <td>/organization/metis-technology</td>\n",
       "      <td>Metis Technology</td>\n",
       "      <td>Application Platforms|Development Platforms|En...</td>\n",
       "      <td>operating</td>\n",
       "      <td>USA</td>\n",
       "      <td>/funding-round/0424b1699cb2c081f61eeb5a0e777ce0</td>\n",
       "      <td>venture</td>\n",
       "      <td>06-02-2002</td>\n",
       "      <td>5000000.0</td>\n",
       "      <td>application platforms</td>\n",
       "      <td>News, Search and Messaging</td>\n",
       "    </tr>\n",
       "    <tr>\n",
       "      <th>122</th>\n",
       "      <td>/organization/outreach</td>\n",
       "      <td>Outreach</td>\n",
       "      <td>Application Platforms|SaaS|Sales and Marketing</td>\n",
       "      <td>operating</td>\n",
       "      <td>USA</td>\n",
       "      <td>/funding-round/9ec908620d48e51dc4380d6a7f16d34d</td>\n",
       "      <td>venture</td>\n",
       "      <td>27-10-2015</td>\n",
       "      <td>9200000.0</td>\n",
       "      <td>application platforms</td>\n",
       "      <td>News, Search and Messaging</td>\n",
       "    </tr>\n",
       "    <tr>\n",
       "      <th>131</th>\n",
       "      <td>/organization/prodea-systems</td>\n",
       "      <td>Prodea</td>\n",
       "      <td>Application Platforms|Digital Media|Home Autom...</td>\n",
       "      <td>operating</td>\n",
       "      <td>USA</td>\n",
       "      <td>/funding-round/6b93e750b91b44d2323afdca3ec0011a</td>\n",
       "      <td>venture</td>\n",
       "      <td>05-01-2010</td>\n",
       "      <td>10000054.0</td>\n",
       "      <td>application platforms</td>\n",
       "      <td>News, Search and Messaging</td>\n",
       "    </tr>\n",
       "    <tr>\n",
       "      <th>134</th>\n",
       "      <td>/organization/sirqul</td>\n",
       "      <td>Sirqul, Inc.</td>\n",
       "      <td>Application Platforms|Developer APIs|Gamificat...</td>\n",
       "      <td>operating</td>\n",
       "      <td>USA</td>\n",
       "      <td>/funding-round/4e28b9e7bfbc1e036b42df2765d1916b</td>\n",
       "      <td>venture</td>\n",
       "      <td>04-11-2015</td>\n",
       "      <td>5000000.0</td>\n",
       "      <td>application platforms</td>\n",
       "      <td>News, Search and Messaging</td>\n",
       "    </tr>\n",
       "    <tr>\n",
       "      <th>138</th>\n",
       "      <td>/organization/thumbkandi</td>\n",
       "      <td>Thumbkandi Inc.</td>\n",
       "      <td>Application Platforms|Messaging|Social Media</td>\n",
       "      <td>operating</td>\n",
       "      <td>USA</td>\n",
       "      <td>/funding-round/db418ab7c859b1b337125c292f194d48</td>\n",
       "      <td>venture</td>\n",
       "      <td>30-09-2014</td>\n",
       "      <td>5000000.0</td>\n",
       "      <td>application platforms</td>\n",
       "      <td>News, Search and Messaging</td>\n",
       "    </tr>\n",
       "    <tr>\n",
       "      <th>139</th>\n",
       "      <td>/organization/trackvia</td>\n",
       "      <td>TrackVia</td>\n",
       "      <td>Application Platforms|Manufacturing|Mobile|Mob...</td>\n",
       "      <td>operating</td>\n",
       "      <td>USA</td>\n",
       "      <td>/funding-round/261194b973bac7f218c0a68e9dbb10f4</td>\n",
       "      <td>venture</td>\n",
       "      <td>24-09-2012</td>\n",
       "      <td>7100000.0</td>\n",
       "      <td>application platforms</td>\n",
       "      <td>News, Search and Messaging</td>\n",
       "    </tr>\n",
       "    <tr>\n",
       "      <th>...</th>\n",
       "      <td>...</td>\n",
       "      <td>...</td>\n",
       "      <td>...</td>\n",
       "      <td>...</td>\n",
       "      <td>...</td>\n",
       "      <td>...</td>\n",
       "      <td>...</td>\n",
       "      <td>...</td>\n",
       "      <td>...</td>\n",
       "      <td>...</td>\n",
       "      <td>...</td>\n",
       "    </tr>\n",
       "    <tr>\n",
       "      <th>50334</th>\n",
       "      <td>/organization/perceptis</td>\n",
       "      <td>Perceptis</td>\n",
       "      <td>BPO Services|Consulting|Contact Centers|Custom...</td>\n",
       "      <td>acquired</td>\n",
       "      <td>USA</td>\n",
       "      <td>/funding-round/200b2f011310921c2859bc6a6343cec6</td>\n",
       "      <td>venture</td>\n",
       "      <td>09-09-2010</td>\n",
       "      <td>6000000.0</td>\n",
       "      <td>bpo services</td>\n",
       "      <td>Social, Finance, Analytics, Advertising</td>\n",
       "    </tr>\n",
       "    <tr>\n",
       "      <th>50336</th>\n",
       "      <td>/organization/secureone-data-solutions</td>\n",
       "      <td>SecureOne Data Solutions</td>\n",
       "      <td>BPO Services|Databases|Web Design</td>\n",
       "      <td>operating</td>\n",
       "      <td>USA</td>\n",
       "      <td>/funding-round/7a72557928defecba89eee980fb3b51a</td>\n",
       "      <td>venture</td>\n",
       "      <td>03-10-2007</td>\n",
       "      <td>12000000.0</td>\n",
       "      <td>bpo services</td>\n",
       "      <td>Social, Finance, Analytics, Advertising</td>\n",
       "    </tr>\n",
       "    <tr>\n",
       "      <th>50337</th>\n",
       "      <td>/organization/uluru-co--ltd-</td>\n",
       "      <td>ULURU.CO.,LTD.</td>\n",
       "      <td>BPO Services|Crowdsourcing|Software</td>\n",
       "      <td>operating</td>\n",
       "      <td>USA</td>\n",
       "      <td>/funding-round/3b7b8e74a594b938eb2aaa4b2409c4f9</td>\n",
       "      <td>venture</td>\n",
       "      <td>01-10-2014</td>\n",
       "      <td>5725040.0</td>\n",
       "      <td>bpo services</td>\n",
       "      <td>Social, Finance, Analytics, Advertising</td>\n",
       "    </tr>\n",
       "    <tr>\n",
       "      <th>50347</th>\n",
       "      <td>/organization/planetary-resources</td>\n",
       "      <td>Planetary Resources</td>\n",
       "      <td>Mining Technologies|Natural Resources</td>\n",
       "      <td>operating</td>\n",
       "      <td>USA</td>\n",
       "      <td>/funding-round/48b25cf61c417f85802699faf2b9b8da</td>\n",
       "      <td>venture</td>\n",
       "      <td>21-10-2015</td>\n",
       "      <td>12233209.0</td>\n",
       "      <td>mining technologies</td>\n",
       "      <td>Cleantech / Semiconductors</td>\n",
       "    </tr>\n",
       "    <tr>\n",
       "      <th>50350</th>\n",
       "      <td>/organization/predictix</td>\n",
       "      <td>Predictix</td>\n",
       "      <td>Enterprise Resource Planning|Predictive Analyt...</td>\n",
       "      <td>operating</td>\n",
       "      <td>USA</td>\n",
       "      <td>/funding-round/f2f8819cdd5689b858ff3943bd3db4c1</td>\n",
       "      <td>venture</td>\n",
       "      <td>03-12-2014</td>\n",
       "      <td>15000000.0</td>\n",
       "      <td>enterprise resource planning</td>\n",
       "      <td>Others</td>\n",
       "    </tr>\n",
       "    <tr>\n",
       "      <th>50353</th>\n",
       "      <td>/organization/prezi</td>\n",
       "      <td>Prezi</td>\n",
       "      <td>Presentations|Software</td>\n",
       "      <td>operating</td>\n",
       "      <td>USA</td>\n",
       "      <td>/funding-round/5012b8aa561b60ef69d6760debc6e1b4</td>\n",
       "      <td>venture</td>\n",
       "      <td>14-12-2011</td>\n",
       "      <td>14000000.0</td>\n",
       "      <td>presentations</td>\n",
       "      <td>Others</td>\n",
       "    </tr>\n",
       "    <tr>\n",
       "      <th>50354</th>\n",
       "      <td>/organization/prezi</td>\n",
       "      <td>Prezi</td>\n",
       "      <td>Presentations|Software</td>\n",
       "      <td>operating</td>\n",
       "      <td>USA</td>\n",
       "      <td>/funding-round/727b47ffbbdf3bd19ae8b64253d28d68</td>\n",
       "      <td>venture</td>\n",
       "      <td>20-07-2009</td>\n",
       "      <td>5000000.0</td>\n",
       "      <td>presentations</td>\n",
       "      <td>Others</td>\n",
       "    </tr>\n",
       "    <tr>\n",
       "      <th>50357</th>\n",
       "      <td>/organization/responsys</td>\n",
       "      <td>Responsys</td>\n",
       "      <td>Search Marketing|Software</td>\n",
       "      <td>acquired</td>\n",
       "      <td>USA</td>\n",
       "      <td>/funding-round/2a421bf15daa97c6d20200fdeea94d1c</td>\n",
       "      <td>venture</td>\n",
       "      <td>02-04-2003</td>\n",
       "      <td>9400000.0</td>\n",
       "      <td>search marketing</td>\n",
       "      <td>News, Search and Messaging</td>\n",
       "    </tr>\n",
       "    <tr>\n",
       "      <th>50370</th>\n",
       "      <td>/organization/roost</td>\n",
       "      <td>Roost</td>\n",
       "      <td>Local Based Services|Real Estate|Storage</td>\n",
       "      <td>acquired</td>\n",
       "      <td>USA</td>\n",
       "      <td>/funding-round/0d5bcd488812154203c903850d5f95d6</td>\n",
       "      <td>venture</td>\n",
       "      <td>09-12-2008</td>\n",
       "      <td>8000000.0</td>\n",
       "      <td>local based services</td>\n",
       "      <td>Others</td>\n",
       "    </tr>\n",
       "    <tr>\n",
       "      <th>50371</th>\n",
       "      <td>/organization/roost</td>\n",
       "      <td>Roost</td>\n",
       "      <td>Local Based Services|Real Estate|Storage</td>\n",
       "      <td>acquired</td>\n",
       "      <td>USA</td>\n",
       "      <td>/funding-round/5ad34944f98e67aee07359f8729ad920</td>\n",
       "      <td>venture</td>\n",
       "      <td>01-01-2007</td>\n",
       "      <td>5500000.0</td>\n",
       "      <td>local based services</td>\n",
       "      <td>Others</td>\n",
       "    </tr>\n",
       "    <tr>\n",
       "      <th>50372</th>\n",
       "      <td>/organization/topix</td>\n",
       "      <td>Topix</td>\n",
       "      <td>Local Based Services|News</td>\n",
       "      <td>operating</td>\n",
       "      <td>USA</td>\n",
       "      <td>/funding-round/11c299a433b0260e5fe23e650d84c2e5</td>\n",
       "      <td>venture</td>\n",
       "      <td>01-03-2005</td>\n",
       "      <td>5000000.0</td>\n",
       "      <td>local based services</td>\n",
       "      <td>Others</td>\n",
       "    </tr>\n",
       "    <tr>\n",
       "      <th>50373</th>\n",
       "      <td>/organization/topix</td>\n",
       "      <td>Topix</td>\n",
       "      <td>Local Based Services|News</td>\n",
       "      <td>operating</td>\n",
       "      <td>USA</td>\n",
       "      <td>/funding-round/a668d2be7323548948cb72b1e4f0ce98</td>\n",
       "      <td>venture</td>\n",
       "      <td>06-11-2006</td>\n",
       "      <td>15000000.0</td>\n",
       "      <td>local based services</td>\n",
       "      <td>Others</td>\n",
       "    </tr>\n",
       "    <tr>\n",
       "      <th>50375</th>\n",
       "      <td>/organization/rxwiki</td>\n",
       "      <td>RxWiki, Inc.</td>\n",
       "      <td>Independent Pharmacies|Mobile Health|Pharmaceu...</td>\n",
       "      <td>operating</td>\n",
       "      <td>USA</td>\n",
       "      <td>/funding-round/19e4ff01d335541ea5162bea925000a3</td>\n",
       "      <td>venture</td>\n",
       "      <td>16-10-2015</td>\n",
       "      <td>5745869.0</td>\n",
       "      <td>independent pharmacies</td>\n",
       "      <td>Health</td>\n",
       "    </tr>\n",
       "    <tr>\n",
       "      <th>50376</th>\n",
       "      <td>/organization/tikvah-therapeutics</td>\n",
       "      <td>Tikvah Therapeutics</td>\n",
       "      <td>Independent Pharmacies|Neuroscience</td>\n",
       "      <td>operating</td>\n",
       "      <td>USA</td>\n",
       "      <td>/funding-round/7e3470deff6fd5d7233113977e2eebf2</td>\n",
       "      <td>venture</td>\n",
       "      <td>14-07-2007</td>\n",
       "      <td>10000000.0</td>\n",
       "      <td>independent pharmacies</td>\n",
       "      <td>Health</td>\n",
       "    </tr>\n",
       "    <tr>\n",
       "      <th>50378</th>\n",
       "      <td>/organization/satmetrix</td>\n",
       "      <td>Satmetrix</td>\n",
       "      <td>Loyalty Programs|Software</td>\n",
       "      <td>operating</td>\n",
       "      <td>USA</td>\n",
       "      <td>/funding-round/461092444cfcd098e8e8c27063d17204</td>\n",
       "      <td>venture</td>\n",
       "      <td>01-07-2008</td>\n",
       "      <td>6500000.0</td>\n",
       "      <td>loyalty programs</td>\n",
       "      <td>Others</td>\n",
       "    </tr>\n",
       "    <tr>\n",
       "      <th>50380</th>\n",
       "      <td>/organization/satmetrix</td>\n",
       "      <td>Satmetrix</td>\n",
       "      <td>Loyalty Programs|Software</td>\n",
       "      <td>operating</td>\n",
       "      <td>USA</td>\n",
       "      <td>/funding-round/608e6e7be351e8a26d405ca288865bb5</td>\n",
       "      <td>venture</td>\n",
       "      <td>01-09-2011</td>\n",
       "      <td>12500000.0</td>\n",
       "      <td>loyalty programs</td>\n",
       "      <td>Others</td>\n",
       "    </tr>\n",
       "    <tr>\n",
       "      <th>50386</th>\n",
       "      <td>/organization/switchfly</td>\n",
       "      <td>Switchfly</td>\n",
       "      <td>Loyalty Programs|Online Travel|Software</td>\n",
       "      <td>operating</td>\n",
       "      <td>USA</td>\n",
       "      <td>/funding-round/188799c6031a22e839966b3e4afe169c</td>\n",
       "      <td>venture</td>\n",
       "      <td>01-08-2007</td>\n",
       "      <td>15000000.0</td>\n",
       "      <td>loyalty programs</td>\n",
       "      <td>Others</td>\n",
       "    </tr>\n",
       "    <tr>\n",
       "      <th>50388</th>\n",
       "      <td>/organization/switchfly</td>\n",
       "      <td>Switchfly</td>\n",
       "      <td>Loyalty Programs|Online Travel|Software</td>\n",
       "      <td>operating</td>\n",
       "      <td>USA</td>\n",
       "      <td>/funding-round/c0df67d814378d7d53b67f756a6c49ee</td>\n",
       "      <td>venture</td>\n",
       "      <td>01-03-2012</td>\n",
       "      <td>15000000.0</td>\n",
       "      <td>loyalty programs</td>\n",
       "      <td>Others</td>\n",
       "    </tr>\n",
       "    <tr>\n",
       "      <th>50394</th>\n",
       "      <td>/organization/schweiger-dermatology</td>\n",
       "      <td>Schweiger Dermatology</td>\n",
       "      <td>Cosmetic Surgery|Health and Wellness|Health Ca...</td>\n",
       "      <td>operating</td>\n",
       "      <td>USA</td>\n",
       "      <td>/funding-round/0d898519076dbae00ca45edf31fe6707</td>\n",
       "      <td>venture</td>\n",
       "      <td>15-01-2015</td>\n",
       "      <td>12400000.0</td>\n",
       "      <td>cosmetic surgery</td>\n",
       "      <td>Health</td>\n",
       "    </tr>\n",
       "    <tr>\n",
       "      <th>50409</th>\n",
       "      <td>/organization/skoove</td>\n",
       "      <td>Skoove</td>\n",
       "      <td>Music Education|Online Education|Services</td>\n",
       "      <td>operating</td>\n",
       "      <td>USA</td>\n",
       "      <td>/funding-round/1d6a655dde36f782e503616b0e740279</td>\n",
       "      <td>venture</td>\n",
       "      <td>11-08-2014</td>\n",
       "      <td>5000000.0</td>\n",
       "      <td>music education</td>\n",
       "      <td>Entertainment</td>\n",
       "    </tr>\n",
       "    <tr>\n",
       "      <th>50412</th>\n",
       "      <td>/organization/windshield</td>\n",
       "      <td>Windshield</td>\n",
       "      <td>Virtual Workforces</td>\n",
       "      <td>operating</td>\n",
       "      <td>USA</td>\n",
       "      <td>/funding-round/a0dd97cfbfc9906b32d837618e0fb31e</td>\n",
       "      <td>venture</td>\n",
       "      <td>05-05-2015</td>\n",
       "      <td>5000000.0</td>\n",
       "      <td>virtual workforces</td>\n",
       "      <td>Entertainment</td>\n",
       "    </tr>\n",
       "    <tr>\n",
       "      <th>50419</th>\n",
       "      <td>/organization/styloosh</td>\n",
       "      <td>Styloosh</td>\n",
       "      <td>Jewelry</td>\n",
       "      <td>operating</td>\n",
       "      <td>USA</td>\n",
       "      <td>/funding-round/6f35379603da1a85281edf09251d6fb7</td>\n",
       "      <td>venture</td>\n",
       "      <td>20-05-2014</td>\n",
       "      <td>5000000.0</td>\n",
       "      <td>jewelry</td>\n",
       "      <td>Entertainment</td>\n",
       "    </tr>\n",
       "    <tr>\n",
       "      <th>50423</th>\n",
       "      <td>/organization/thisnext</td>\n",
       "      <td>ThisNext</td>\n",
       "      <td>Social Buying|Social Media</td>\n",
       "      <td>operating</td>\n",
       "      <td>USA</td>\n",
       "      <td>/funding-round/3ba5a2f756c9754968fc1c1638f4f415</td>\n",
       "      <td>venture</td>\n",
       "      <td>01-01-2008</td>\n",
       "      <td>5000000.0</td>\n",
       "      <td>social buying</td>\n",
       "      <td>Social, Finance, Analytics, Advertising</td>\n",
       "    </tr>\n",
       "    <tr>\n",
       "      <th>50426</th>\n",
       "      <td>/organization/thredhq</td>\n",
       "      <td>Thredhq</td>\n",
       "      <td>Social + Mobile + Local|Social Network Media</td>\n",
       "      <td>operating</td>\n",
       "      <td>USA</td>\n",
       "      <td>/funding-round/54166cbfbb75fb604c17a94f2205570e</td>\n",
       "      <td>venture</td>\n",
       "      <td>18-09-2013</td>\n",
       "      <td>5000000.0</td>\n",
       "      <td>social + mobile + local</td>\n",
       "      <td>Social, Finance, Analytics, Advertising</td>\n",
       "    </tr>\n",
       "    <tr>\n",
       "      <th>50432</th>\n",
       "      <td>/organization/truust-neuroimaging</td>\n",
       "      <td>Truust Neuroimaging</td>\n",
       "      <td>Neuroscience</td>\n",
       "      <td>operating</td>\n",
       "      <td>USA</td>\n",
       "      <td>/funding-round/b7597942fa0de914b6493845c0d32c8c</td>\n",
       "      <td>venture</td>\n",
       "      <td>27-10-2015</td>\n",
       "      <td>5000000.0</td>\n",
       "      <td>neuroscience</td>\n",
       "      <td>Health</td>\n",
       "    </tr>\n",
       "    <tr>\n",
       "      <th>50433</th>\n",
       "      <td>/organization/umbala</td>\n",
       "      <td>Umbala</td>\n",
       "      <td>Interest Graph|Messaging|Video Conferencing</td>\n",
       "      <td>operating</td>\n",
       "      <td>USA</td>\n",
       "      <td>/funding-round/ab8f10f4e62ce382bb687c618cef72ca</td>\n",
       "      <td>venture</td>\n",
       "      <td>07-09-2015</td>\n",
       "      <td>5000000.0</td>\n",
       "      <td>interest graph</td>\n",
       "      <td>Others</td>\n",
       "    </tr>\n",
       "    <tr>\n",
       "      <th>50434</th>\n",
       "      <td>/organization/uparenting</td>\n",
       "      <td>Uparenting</td>\n",
       "      <td>Parenting</td>\n",
       "      <td>operating</td>\n",
       "      <td>USA</td>\n",
       "      <td>/funding-round/96cfe6d242830fd2a6d8e0c2e9f9e21e</td>\n",
       "      <td>venture</td>\n",
       "      <td>29-05-2015</td>\n",
       "      <td>5000000.0</td>\n",
       "      <td>parenting</td>\n",
       "      <td>Others</td>\n",
       "    </tr>\n",
       "    <tr>\n",
       "      <th>50436</th>\n",
       "      <td>/organization/user-interface</td>\n",
       "      <td>User Interface</td>\n",
       "      <td>User Interface</td>\n",
       "      <td>operating</td>\n",
       "      <td>USA</td>\n",
       "      <td>/funding-round/ade267714c6ee533323f46a25b2db237</td>\n",
       "      <td>venture</td>\n",
       "      <td>24-01-2001</td>\n",
       "      <td>8250000.0</td>\n",
       "      <td>user interface</td>\n",
       "      <td>Others</td>\n",
       "    </tr>\n",
       "    <tr>\n",
       "      <th>50439</th>\n",
       "      <td>/organization/washio</td>\n",
       "      <td>Washio</td>\n",
       "      <td>Service Industries</td>\n",
       "      <td>operating</td>\n",
       "      <td>USA</td>\n",
       "      <td>/funding-round/59026d26012c63b42fa2984c8f3c41ec</td>\n",
       "      <td>venture</td>\n",
       "      <td>09-06-2014</td>\n",
       "      <td>10500000.0</td>\n",
       "      <td>service industries</td>\n",
       "      <td>Others</td>\n",
       "    </tr>\n",
       "    <tr>\n",
       "      <th>50443</th>\n",
       "      <td>/organization/yapta</td>\n",
       "      <td>Yapta</td>\n",
       "      <td>Tracking|Transportation|Travel</td>\n",
       "      <td>operating</td>\n",
       "      <td>USA</td>\n",
       "      <td>/funding-round/2bef2981d0db9747630882cc91e42ba5</td>\n",
       "      <td>venture</td>\n",
       "      <td>20-07-2011</td>\n",
       "      <td>5000000.0</td>\n",
       "      <td>tracking</td>\n",
       "      <td>Others</td>\n",
       "    </tr>\n",
       "  </tbody>\n",
       "</table>\n",
       "<p>14573 rows × 11 columns</p>\n",
       "</div>"
      ],
      "text/plain": [
       "                                    permalink                      name  \\\n",
       "4               /organization/all-def-digital           All Def Digital   \n",
       "14                   /organization/chefs-feed                 ChefsFeed   \n",
       "21               /organization/huffingtonpost       The Huffington Post   \n",
       "22               /organization/huffingtonpost       The Huffington Post   \n",
       "33                    /organization/mediabong                 MEDIABONG   \n",
       "37              /organization/newscorporation                 News Corp   \n",
       "38                      /organization/nokeena          Ankeena Networks   \n",
       "40                      /organization/nokeena          Ankeena Networks   \n",
       "43                  /organization/otter-media               Otter Media   \n",
       "44                        /organization/priyo                     Priyo   \n",
       "58                        /organization/vadio                     Vadio   \n",
       "63                     /organization/xo-group            XO Group, Inc.   \n",
       "67                     /organization/-qounter                  :Qounter   \n",
       "69         /organization/aarohi-communication      Aarohi communication   \n",
       "70         /organization/aarohi-communication      Aarohi communication   \n",
       "71         /organization/aarohi-communication      Aarohi communication   \n",
       "73                       /organization/appian                    Appian   \n",
       "74                      /organization/appilog                   Appilog   \n",
       "75                      /organization/appilog                   Appilog   \n",
       "83                      /organization/calxeda                   Calxeda   \n",
       "87                       /organization/cruise                    Cruise   \n",
       "105                     /organization/i2i-inc                 i2i, Inc.   \n",
       "109                 /organization/life-on-air               Life On Air   \n",
       "111                    /organization/metavine                  Metavine   \n",
       "112            /organization/metis-technology          Metis Technology   \n",
       "122                    /organization/outreach                  Outreach   \n",
       "131              /organization/prodea-systems                    Prodea   \n",
       "134                      /organization/sirqul              Sirqul, Inc.   \n",
       "138                  /organization/thumbkandi           Thumbkandi Inc.   \n",
       "139                    /organization/trackvia                  TrackVia   \n",
       "...                                       ...                       ...   \n",
       "50334                 /organization/perceptis                 Perceptis   \n",
       "50336  /organization/secureone-data-solutions  SecureOne Data Solutions   \n",
       "50337            /organization/uluru-co--ltd-            ULURU.CO.,LTD.   \n",
       "50347       /organization/planetary-resources       Planetary Resources   \n",
       "50350                 /organization/predictix                 Predictix   \n",
       "50353                     /organization/prezi                     Prezi   \n",
       "50354                     /organization/prezi                     Prezi   \n",
       "50357                 /organization/responsys                 Responsys   \n",
       "50370                     /organization/roost                     Roost   \n",
       "50371                     /organization/roost                     Roost   \n",
       "50372                     /organization/topix                     Topix   \n",
       "50373                     /organization/topix                     Topix   \n",
       "50375                    /organization/rxwiki              RxWiki, Inc.   \n",
       "50376       /organization/tikvah-therapeutics       Tikvah Therapeutics   \n",
       "50378                 /organization/satmetrix                 Satmetrix   \n",
       "50380                 /organization/satmetrix                 Satmetrix   \n",
       "50386                 /organization/switchfly                 Switchfly   \n",
       "50388                 /organization/switchfly                 Switchfly   \n",
       "50394     /organization/schweiger-dermatology     Schweiger Dermatology   \n",
       "50409                    /organization/skoove                    Skoove   \n",
       "50412                /organization/windshield                Windshield   \n",
       "50419                  /organization/styloosh                  Styloosh   \n",
       "50423                  /organization/thisnext                  ThisNext   \n",
       "50426                   /organization/thredhq                   Thredhq   \n",
       "50432       /organization/truust-neuroimaging       Truust Neuroimaging   \n",
       "50433                    /organization/umbala                    Umbala   \n",
       "50434                /organization/uparenting                Uparenting   \n",
       "50436            /organization/user-interface            User Interface   \n",
       "50439                    /organization/washio                    Washio   \n",
       "50443                     /organization/yapta                     Yapta   \n",
       "\n",
       "                                           category_list     status  \\\n",
       "4                                                  Media  operating   \n",
       "14                   Media|Mobile|Restaurants|Technology  operating   \n",
       "21                                 Media|News|Publishing   acquired   \n",
       "22                                 Media|News|Publishing   acquired   \n",
       "33                           Media|Semantic Search|Video  operating   \n",
       "37                                 Media|News|Publishing        ipo   \n",
       "38                                        Media|Software   acquired   \n",
       "40                                        Media|Software   acquired   \n",
       "43                           Media|Venture Capital|Video  operating   \n",
       "44                                      Media|Publishing  operating   \n",
       "58                                    Media|Mobile|Video  operating   \n",
       "63                           Media|Social Media|Weddings        ipo   \n",
       "67     Application Platforms|Real Time|Social Network...  operating   \n",
       "69     Application Platforms|Communications Infrastru...   acquired   \n",
       "70     Application Platforms|Communications Infrastru...   acquired   \n",
       "71     Application Platforms|Communications Infrastru...   acquired   \n",
       "73     Application Platforms|Business Productivity|Cl...  operating   \n",
       "74               Application Platforms|Internet|Software   acquired   \n",
       "75               Application Platforms|Internet|Software   acquired   \n",
       "83           Application Platforms|Data Centers|Software  operating   \n",
       "87                  Application Platforms|Sensors|Travel  operating   \n",
       "105    Application Platforms|Consumer Electronics|Int...  operating   \n",
       "109                                Application Platforms  operating   \n",
       "111                       Application Platforms|Software  operating   \n",
       "112    Application Platforms|Development Platforms|En...  operating   \n",
       "122       Application Platforms|SaaS|Sales and Marketing  operating   \n",
       "131    Application Platforms|Digital Media|Home Autom...  operating   \n",
       "134    Application Platforms|Developer APIs|Gamificat...  operating   \n",
       "138         Application Platforms|Messaging|Social Media  operating   \n",
       "139    Application Platforms|Manufacturing|Mobile|Mob...  operating   \n",
       "...                                                  ...        ...   \n",
       "50334  BPO Services|Consulting|Contact Centers|Custom...   acquired   \n",
       "50336                  BPO Services|Databases|Web Design  operating   \n",
       "50337                BPO Services|Crowdsourcing|Software  operating   \n",
       "50347              Mining Technologies|Natural Resources  operating   \n",
       "50350  Enterprise Resource Planning|Predictive Analyt...  operating   \n",
       "50353                             Presentations|Software  operating   \n",
       "50354                             Presentations|Software  operating   \n",
       "50357                          Search Marketing|Software   acquired   \n",
       "50370           Local Based Services|Real Estate|Storage   acquired   \n",
       "50371           Local Based Services|Real Estate|Storage   acquired   \n",
       "50372                          Local Based Services|News  operating   \n",
       "50373                          Local Based Services|News  operating   \n",
       "50375  Independent Pharmacies|Mobile Health|Pharmaceu...  operating   \n",
       "50376                Independent Pharmacies|Neuroscience  operating   \n",
       "50378                          Loyalty Programs|Software  operating   \n",
       "50380                          Loyalty Programs|Software  operating   \n",
       "50386            Loyalty Programs|Online Travel|Software  operating   \n",
       "50388            Loyalty Programs|Online Travel|Software  operating   \n",
       "50394  Cosmetic Surgery|Health and Wellness|Health Ca...  operating   \n",
       "50409          Music Education|Online Education|Services  operating   \n",
       "50412                                 Virtual Workforces  operating   \n",
       "50419                                            Jewelry  operating   \n",
       "50423                         Social Buying|Social Media  operating   \n",
       "50426       Social + Mobile + Local|Social Network Media  operating   \n",
       "50432                                       Neuroscience  operating   \n",
       "50433        Interest Graph|Messaging|Video Conferencing  operating   \n",
       "50434                                          Parenting  operating   \n",
       "50436                                     User Interface  operating   \n",
       "50439                                 Service Industries  operating   \n",
       "50443                     Tracking|Transportation|Travel  operating   \n",
       "\n",
       "      country_code                          funding_round_permalink  \\\n",
       "4              USA  /funding-round/452a2342fe720285c3b92e9bd927d9ba   \n",
       "14             USA  /funding-round/adca195749ae9ace84684723fbe75e5b   \n",
       "21             USA  /funding-round/7f05940c4d2dfecb8e50a0e5720e5065   \n",
       "22             USA  /funding-round/9241ae16e08df17ebdc064e49e23035a   \n",
       "33             USA  /funding-round/9282890ca87072025dc1807f400acee6   \n",
       "37             USA  /funding-round/8f6d7c4592e43e91e8688ba342bffcb7   \n",
       "38             USA  /funding-round/9225f2db6b1b74892d5de6a8744b94ea   \n",
       "40             USA  /funding-round/fb7a617ed6d1a3203024f0f111417bfb   \n",
       "43             USA  /funding-round/8f0d1129cb5436a5e92d06a2f564a012   \n",
       "44             USA  /funding-round/c5c91110f55842f75e7241901570b0c7   \n",
       "58             USA  /funding-round/e1570c5060bf30b9972a2b0dc0562b02   \n",
       "63             USA  /funding-round/b180184cb5bc29df54ca50bf678f406c   \n",
       "67             USA  /funding-round/22dacff496eb7acb2b901dec1dfe5633   \n",
       "69             USA  /funding-round/1860d75993627f37c4b1a17b97a83502   \n",
       "70             USA  /funding-round/84f519482b29b686a0c6b59ff383d386   \n",
       "71             USA  /funding-round/b0f47948e427b6c91a50128373273abf   \n",
       "73             USA  /funding-round/95e11461d907939a880034263533be1e   \n",
       "74             USA  /funding-round/41185e964879edbec6b7f1edc8f2ed4f   \n",
       "75             USA  /funding-round/c85c0a984ded486d0105d171070accf7   \n",
       "83             USA  /funding-round/f6f4d8d7aced8672c18bb7a7389552e5   \n",
       "87             USA  /funding-round/ca477be238f918f06c41e7d15b5424da   \n",
       "105            USA  /funding-round/deabb89370103c6398cd7d37ffb11c6c   \n",
       "109            USA  /funding-round/0a637471fb9c294fb484549729774ed9   \n",
       "111            USA  /funding-round/82dd0c68e1ef32e865f70f8c316fe58f   \n",
       "112            USA  /funding-round/0424b1699cb2c081f61eeb5a0e777ce0   \n",
       "122            USA  /funding-round/9ec908620d48e51dc4380d6a7f16d34d   \n",
       "131            USA  /funding-round/6b93e750b91b44d2323afdca3ec0011a   \n",
       "134            USA  /funding-round/4e28b9e7bfbc1e036b42df2765d1916b   \n",
       "138            USA  /funding-round/db418ab7c859b1b337125c292f194d48   \n",
       "139            USA  /funding-round/261194b973bac7f218c0a68e9dbb10f4   \n",
       "...            ...                                              ...   \n",
       "50334          USA  /funding-round/200b2f011310921c2859bc6a6343cec6   \n",
       "50336          USA  /funding-round/7a72557928defecba89eee980fb3b51a   \n",
       "50337          USA  /funding-round/3b7b8e74a594b938eb2aaa4b2409c4f9   \n",
       "50347          USA  /funding-round/48b25cf61c417f85802699faf2b9b8da   \n",
       "50350          USA  /funding-round/f2f8819cdd5689b858ff3943bd3db4c1   \n",
       "50353          USA  /funding-round/5012b8aa561b60ef69d6760debc6e1b4   \n",
       "50354          USA  /funding-round/727b47ffbbdf3bd19ae8b64253d28d68   \n",
       "50357          USA  /funding-round/2a421bf15daa97c6d20200fdeea94d1c   \n",
       "50370          USA  /funding-round/0d5bcd488812154203c903850d5f95d6   \n",
       "50371          USA  /funding-round/5ad34944f98e67aee07359f8729ad920   \n",
       "50372          USA  /funding-round/11c299a433b0260e5fe23e650d84c2e5   \n",
       "50373          USA  /funding-round/a668d2be7323548948cb72b1e4f0ce98   \n",
       "50375          USA  /funding-round/19e4ff01d335541ea5162bea925000a3   \n",
       "50376          USA  /funding-round/7e3470deff6fd5d7233113977e2eebf2   \n",
       "50378          USA  /funding-round/461092444cfcd098e8e8c27063d17204   \n",
       "50380          USA  /funding-round/608e6e7be351e8a26d405ca288865bb5   \n",
       "50386          USA  /funding-round/188799c6031a22e839966b3e4afe169c   \n",
       "50388          USA  /funding-round/c0df67d814378d7d53b67f756a6c49ee   \n",
       "50394          USA  /funding-round/0d898519076dbae00ca45edf31fe6707   \n",
       "50409          USA  /funding-round/1d6a655dde36f782e503616b0e740279   \n",
       "50412          USA  /funding-round/a0dd97cfbfc9906b32d837618e0fb31e   \n",
       "50419          USA  /funding-round/6f35379603da1a85281edf09251d6fb7   \n",
       "50423          USA  /funding-round/3ba5a2f756c9754968fc1c1638f4f415   \n",
       "50426          USA  /funding-round/54166cbfbb75fb604c17a94f2205570e   \n",
       "50432          USA  /funding-round/b7597942fa0de914b6493845c0d32c8c   \n",
       "50433          USA  /funding-round/ab8f10f4e62ce382bb687c618cef72ca   \n",
       "50434          USA  /funding-round/96cfe6d242830fd2a6d8e0c2e9f9e21e   \n",
       "50436          USA  /funding-round/ade267714c6ee533323f46a25b2db237   \n",
       "50439          USA  /funding-round/59026d26012c63b42fa2984c8f3c41ec   \n",
       "50443          USA  /funding-round/2bef2981d0db9747630882cc91e42ba5   \n",
       "\n",
       "      funding_round_type   funded_at  raised_amount_usd  \\\n",
       "4                venture  06-08-2014          5000000.0   \n",
       "14               venture  26-02-2015          5000000.0   \n",
       "21               venture  01-08-2006          5000000.0   \n",
       "22               venture  01-09-2007          5000000.0   \n",
       "33               venture  13-05-2015          5000000.0   \n",
       "37               venture  08-01-2010         12500000.0   \n",
       "38               venture  08-08-2008          9400000.0   \n",
       "40               venture  25-06-2009          6500000.0   \n",
       "43               venture  22-04-2014          5000000.0   \n",
       "44               venture  02-07-2015          5000000.0   \n",
       "58               venture  12-05-2015          7500000.0   \n",
       "63               venture  15-04-1999         15000000.0   \n",
       "67               venture  14-10-2014          5000000.0   \n",
       "69               venture  01-08-2001          5000000.0   \n",
       "70               venture  29-08-2003          6000000.0   \n",
       "71               venture  06-12-2002          8000000.0   \n",
       "73               venture  21-07-2008         10000000.0   \n",
       "74               venture  15-01-2004          9000000.0   \n",
       "75               venture  24-06-2003          6500000.0   \n",
       "83               venture  01-08-2011          8000000.0   \n",
       "87               venture  18-09-2015         12500000.0   \n",
       "105              venture  01-09-2014          5000000.0   \n",
       "109              venture  07-04-2015         14000000.0   \n",
       "111              venture  31-08-2015          5500000.0   \n",
       "112              venture  06-02-2002          5000000.0   \n",
       "122              venture  27-10-2015          9200000.0   \n",
       "131              venture  05-01-2010         10000054.0   \n",
       "134              venture  04-11-2015          5000000.0   \n",
       "138              venture  30-09-2014          5000000.0   \n",
       "139              venture  24-09-2012          7100000.0   \n",
       "...                  ...         ...                ...   \n",
       "50334            venture  09-09-2010          6000000.0   \n",
       "50336            venture  03-10-2007         12000000.0   \n",
       "50337            venture  01-10-2014          5725040.0   \n",
       "50347            venture  21-10-2015         12233209.0   \n",
       "50350            venture  03-12-2014         15000000.0   \n",
       "50353            venture  14-12-2011         14000000.0   \n",
       "50354            venture  20-07-2009          5000000.0   \n",
       "50357            venture  02-04-2003          9400000.0   \n",
       "50370            venture  09-12-2008          8000000.0   \n",
       "50371            venture  01-01-2007          5500000.0   \n",
       "50372            venture  01-03-2005          5000000.0   \n",
       "50373            venture  06-11-2006         15000000.0   \n",
       "50375            venture  16-10-2015          5745869.0   \n",
       "50376            venture  14-07-2007         10000000.0   \n",
       "50378            venture  01-07-2008          6500000.0   \n",
       "50380            venture  01-09-2011         12500000.0   \n",
       "50386            venture  01-08-2007         15000000.0   \n",
       "50388            venture  01-03-2012         15000000.0   \n",
       "50394            venture  15-01-2015         12400000.0   \n",
       "50409            venture  11-08-2014          5000000.0   \n",
       "50412            venture  05-05-2015          5000000.0   \n",
       "50419            venture  20-05-2014          5000000.0   \n",
       "50423            venture  01-01-2008          5000000.0   \n",
       "50426            venture  18-09-2013          5000000.0   \n",
       "50432            venture  27-10-2015          5000000.0   \n",
       "50433            venture  07-09-2015          5000000.0   \n",
       "50434            venture  29-05-2015          5000000.0   \n",
       "50436            venture  24-01-2001          8250000.0   \n",
       "50439            venture  09-06-2014         10500000.0   \n",
       "50443            venture  20-07-2011          5000000.0   \n",
       "\n",
       "                     primary_sector                              main_sector  \n",
       "4                             media                            Entertainment  \n",
       "14                            media                            Entertainment  \n",
       "21                            media                            Entertainment  \n",
       "22                            media                            Entertainment  \n",
       "33                            media                            Entertainment  \n",
       "37                            media                            Entertainment  \n",
       "38                            media                            Entertainment  \n",
       "40                            media                            Entertainment  \n",
       "43                            media                            Entertainment  \n",
       "44                            media                            Entertainment  \n",
       "58                            media                            Entertainment  \n",
       "63                            media                            Entertainment  \n",
       "67            application platforms               News, Search and Messaging  \n",
       "69            application platforms               News, Search and Messaging  \n",
       "70            application platforms               News, Search and Messaging  \n",
       "71            application platforms               News, Search and Messaging  \n",
       "73            application platforms               News, Search and Messaging  \n",
       "74            application platforms               News, Search and Messaging  \n",
       "75            application platforms               News, Search and Messaging  \n",
       "83            application platforms               News, Search and Messaging  \n",
       "87            application platforms               News, Search and Messaging  \n",
       "105           application platforms               News, Search and Messaging  \n",
       "109           application platforms               News, Search and Messaging  \n",
       "111           application platforms               News, Search and Messaging  \n",
       "112           application platforms               News, Search and Messaging  \n",
       "122           application platforms               News, Search and Messaging  \n",
       "131           application platforms               News, Search and Messaging  \n",
       "134           application platforms               News, Search and Messaging  \n",
       "138           application platforms               News, Search and Messaging  \n",
       "139           application platforms               News, Search and Messaging  \n",
       "...                             ...                                      ...  \n",
       "50334                  bpo services  Social, Finance, Analytics, Advertising  \n",
       "50336                  bpo services  Social, Finance, Analytics, Advertising  \n",
       "50337                  bpo services  Social, Finance, Analytics, Advertising  \n",
       "50347           mining technologies               Cleantech / Semiconductors  \n",
       "50350  enterprise resource planning                                   Others  \n",
       "50353                 presentations                                   Others  \n",
       "50354                 presentations                                   Others  \n",
       "50357              search marketing               News, Search and Messaging  \n",
       "50370          local based services                                   Others  \n",
       "50371          local based services                                   Others  \n",
       "50372          local based services                                   Others  \n",
       "50373          local based services                                   Others  \n",
       "50375        independent pharmacies                                   Health  \n",
       "50376        independent pharmacies                                   Health  \n",
       "50378              loyalty programs                                   Others  \n",
       "50380              loyalty programs                                   Others  \n",
       "50386              loyalty programs                                   Others  \n",
       "50388              loyalty programs                                   Others  \n",
       "50394              cosmetic surgery                                   Health  \n",
       "50409               music education                            Entertainment  \n",
       "50412            virtual workforces                            Entertainment  \n",
       "50419                       jewelry                            Entertainment  \n",
       "50423                 social buying  Social, Finance, Analytics, Advertising  \n",
       "50426       social + mobile + local  Social, Finance, Analytics, Advertising  \n",
       "50432                  neuroscience                                   Health  \n",
       "50433                interest graph                                   Others  \n",
       "50434                     parenting                                   Others  \n",
       "50436                user interface                                   Others  \n",
       "50439            service industries                                   Others  \n",
       "50443                      tracking                                   Others  \n",
       "\n",
       "[14573 rows x 11 columns]"
      ]
     },
     "execution_count": 174,
     "metadata": {},
     "output_type": "execute_result"
    }
   ],
   "source": [
    "D1"
   ]
  },
  {
   "cell_type": "code",
   "execution_count": 175,
   "metadata": {
    "scrolled": true
   },
   "outputs": [
    {
     "data": {
      "text/html": [
       "<div>\n",
       "<style scoped>\n",
       "    .dataframe tbody tr th:only-of-type {\n",
       "        vertical-align: middle;\n",
       "    }\n",
       "\n",
       "    .dataframe tbody tr th {\n",
       "        vertical-align: top;\n",
       "    }\n",
       "\n",
       "    .dataframe thead tr th {\n",
       "        text-align: left;\n",
       "    }\n",
       "\n",
       "    .dataframe thead tr:last-of-type th {\n",
       "        text-align: right;\n",
       "    }\n",
       "</style>\n",
       "<table border=\"1\" class=\"dataframe\">\n",
       "  <thead>\n",
       "    <tr>\n",
       "      <th></th>\n",
       "      <th>count</th>\n",
       "    </tr>\n",
       "    <tr>\n",
       "      <th></th>\n",
       "      <th>raised_amount_usd</th>\n",
       "    </tr>\n",
       "    <tr>\n",
       "      <th>main_sector</th>\n",
       "      <th></th>\n",
       "    </tr>\n",
       "  </thead>\n",
       "  <tbody>\n",
       "    <tr>\n",
       "      <th>Others</th>\n",
       "      <td>3383</td>\n",
       "    </tr>\n",
       "    <tr>\n",
       "      <th>Social, Finance, Analytics, Advertising</th>\n",
       "      <td>3321</td>\n",
       "    </tr>\n",
       "    <tr>\n",
       "      <th>Cleantech / Semiconductors</th>\n",
       "      <td>2954</td>\n",
       "    </tr>\n",
       "    <tr>\n",
       "      <th>News, Search and Messaging</th>\n",
       "      <td>1871</td>\n",
       "    </tr>\n",
       "    <tr>\n",
       "      <th>Health</th>\n",
       "      <td>1049</td>\n",
       "    </tr>\n",
       "    <tr>\n",
       "      <th>Manufacturing</th>\n",
       "      <td>995</td>\n",
       "    </tr>\n",
       "    <tr>\n",
       "      <th>Entertainment</th>\n",
       "      <td>759</td>\n",
       "    </tr>\n",
       "    <tr>\n",
       "      <th>Automotive &amp; Sports</th>\n",
       "      <td>241</td>\n",
       "    </tr>\n",
       "  </tbody>\n",
       "</table>\n",
       "</div>"
      ],
      "text/plain": [
       "                                                    count\n",
       "                                        raised_amount_usd\n",
       "main_sector                                              \n",
       "Others                                               3383\n",
       "Social, Finance, Analytics, Advertising              3321\n",
       "Cleantech / Semiconductors                           2954\n",
       "News, Search and Messaging                           1871\n",
       "Health                                               1049\n",
       "Manufacturing                                         995\n",
       "Entertainment                                         759\n",
       "Automotive & Sports                                   241"
      ]
     },
     "execution_count": 175,
     "metadata": {},
     "output_type": "execute_result"
    }
   ],
   "source": [
    "# Preparing data from graph 1 of plot 3 - USA (D1)\n",
    "plot3_D1 = D1.pivot_table(values = 'raised_amount_usd', index = 'main_sector', aggfunc = ['count']).sort_values(('count','raised_amount_usd'), ascending=False)\n",
    "plot3_D1"
   ]
  },
  {
   "cell_type": "code",
   "execution_count": 176,
   "metadata": {
    "scrolled": true
   },
   "outputs": [
    {
     "data": {
      "text/html": [
       "<div>\n",
       "<style scoped>\n",
       "    .dataframe tbody tr th:only-of-type {\n",
       "        vertical-align: middle;\n",
       "    }\n",
       "\n",
       "    .dataframe tbody tr th {\n",
       "        vertical-align: top;\n",
       "    }\n",
       "\n",
       "    .dataframe thead th {\n",
       "        text-align: right;\n",
       "    }\n",
       "</style>\n",
       "<table border=\"1\" class=\"dataframe\">\n",
       "  <thead>\n",
       "    <tr style=\"text-align: right;\">\n",
       "      <th></th>\n",
       "      <th>count</th>\n",
       "    </tr>\n",
       "    <tr>\n",
       "      <th>main_sector</th>\n",
       "      <th></th>\n",
       "    </tr>\n",
       "  </thead>\n",
       "  <tbody>\n",
       "    <tr>\n",
       "      <th>Others</th>\n",
       "      <td>3383</td>\n",
       "    </tr>\n",
       "    <tr>\n",
       "      <th>Social, Finance, Analytics, Advertising</th>\n",
       "      <td>3321</td>\n",
       "    </tr>\n",
       "    <tr>\n",
       "      <th>Cleantech / Semiconductors</th>\n",
       "      <td>2954</td>\n",
       "    </tr>\n",
       "  </tbody>\n",
       "</table>\n",
       "</div>"
      ],
      "text/plain": [
       "                                         count\n",
       "main_sector                                   \n",
       "Others                                    3383\n",
       "Social, Finance, Analytics, Advertising   3321\n",
       "Cleantech / Semiconductors                2954"
      ]
     },
     "execution_count": 176,
     "metadata": {},
     "output_type": "execute_result"
    }
   ],
   "source": [
    "# Selecting top 3 Sectors\n",
    "plot3_D1.columns = ['count']\n",
    "plot3_D1 = plot3_D1.loc[[True,True,True],:]\n",
    "plot3_D1"
   ]
  },
  {
   "cell_type": "code",
   "execution_count": 177,
   "metadata": {
    "scrolled": true
   },
   "outputs": [
    {
     "data": {
      "text/html": [
       "<div>\n",
       "<style scoped>\n",
       "    .dataframe tbody tr th:only-of-type {\n",
       "        vertical-align: middle;\n",
       "    }\n",
       "\n",
       "    .dataframe tbody tr th {\n",
       "        vertical-align: top;\n",
       "    }\n",
       "\n",
       "    .dataframe thead th {\n",
       "        text-align: right;\n",
       "    }\n",
       "</style>\n",
       "<table border=\"1\" class=\"dataframe\">\n",
       "  <thead>\n",
       "    <tr style=\"text-align: right;\">\n",
       "      <th></th>\n",
       "      <th>main_sector</th>\n",
       "      <th>count</th>\n",
       "    </tr>\n",
       "  </thead>\n",
       "  <tbody>\n",
       "    <tr>\n",
       "      <th>0</th>\n",
       "      <td>Others</td>\n",
       "      <td>3383</td>\n",
       "    </tr>\n",
       "    <tr>\n",
       "      <th>1</th>\n",
       "      <td>Social, Finance, Analytics, Advertising</td>\n",
       "      <td>3321</td>\n",
       "    </tr>\n",
       "    <tr>\n",
       "      <th>2</th>\n",
       "      <td>Cleantech / Semiconductors</td>\n",
       "      <td>2954</td>\n",
       "    </tr>\n",
       "  </tbody>\n",
       "</table>\n",
       "</div>"
      ],
      "text/plain": [
       "                               main_sector  count\n",
       "0                                   Others   3383\n",
       "1  Social, Finance, Analytics, Advertising   3321\n",
       "2               Cleantech / Semiconductors   2954"
      ]
     },
     "execution_count": 177,
     "metadata": {},
     "output_type": "execute_result"
    }
   ],
   "source": [
    "# Extracting the index for plotting\n",
    "plot3_D1 = plot3_D1.reset_index()\n",
    "plot3_D1"
   ]
  },
  {
   "cell_type": "code",
   "execution_count": 178,
   "metadata": {},
   "outputs": [
    {
     "data": {
      "image/png": "[encoded data removed]",
      "text/plain": [
       "<Figure size 432x288 with 1 Axes>"
      ]
     },
     "metadata": {},
     "output_type": "display_data"
    }
   ],
   "source": [
    "fig = plt.figure()\n",
    "ax = fig.add_axes([0,0,1,1])\n",
    "ax.axis('equal')\n",
    "explode = (0.1, 0, 0)  \n",
    "ax.pie(list(plot3_D1[\"count\"]), labels = list(plot3_D1[\"main_sector\"]),autopct='%1.2f%%', explode = explode)\n",
    "plt.title(\"Sector wise Investment distribution for USA (D1) \", bbox={'facecolor':'0.8', 'pad':5})\n",
    "plt.show()"
   ]
  },
  {
   "cell_type": "code",
   "execution_count": 179,
   "metadata": {},
   "outputs": [
    {
     "data": {
      "text/html": [
       "<div>\n",
       "<style scoped>\n",
       "    .dataframe tbody tr th:only-of-type {\n",
       "        vertical-align: middle;\n",
       "    }\n",
       "\n",
       "    .dataframe tbody tr th {\n",
       "        vertical-align: top;\n",
       "    }\n",
       "\n",
       "    .dataframe thead tr th {\n",
       "        text-align: left;\n",
       "    }\n",
       "\n",
       "    .dataframe thead tr:last-of-type th {\n",
       "        text-align: right;\n",
       "    }\n",
       "</style>\n",
       "<table border=\"1\" class=\"dataframe\">\n",
       "  <thead>\n",
       "    <tr>\n",
       "      <th></th>\n",
       "      <th>count</th>\n",
       "    </tr>\n",
       "    <tr>\n",
       "      <th></th>\n",
       "      <th>raised_amount_usd</th>\n",
       "    </tr>\n",
       "    <tr>\n",
       "      <th>main_sector</th>\n",
       "      <th></th>\n",
       "    </tr>\n",
       "  </thead>\n",
       "  <tbody>\n",
       "    <tr>\n",
       "      <th>Others</th>\n",
       "      <td>201</td>\n",
       "    </tr>\n",
       "    <tr>\n",
       "      <th>Social, Finance, Analytics, Advertising</th>\n",
       "      <td>187</td>\n",
       "    </tr>\n",
       "    <tr>\n",
       "      <th>Cleantech / Semiconductors</th>\n",
       "      <td>161</td>\n",
       "    </tr>\n",
       "    <tr>\n",
       "      <th>News, Search and Messaging</th>\n",
       "      <td>88</td>\n",
       "    </tr>\n",
       "    <tr>\n",
       "      <th>Entertainment</th>\n",
       "      <td>75</td>\n",
       "    </tr>\n",
       "    <tr>\n",
       "      <th>Manufacturing</th>\n",
       "      <td>50</td>\n",
       "    </tr>\n",
       "    <tr>\n",
       "      <th>Health</th>\n",
       "      <td>31</td>\n",
       "    </tr>\n",
       "    <tr>\n",
       "      <th>Automotive &amp; Sports</th>\n",
       "      <td>23</td>\n",
       "    </tr>\n",
       "  </tbody>\n",
       "</table>\n",
       "</div>"
      ],
      "text/plain": [
       "                                                    count\n",
       "                                        raised_amount_usd\n",
       "main_sector                                              \n",
       "Others                                                201\n",
       "Social, Finance, Analytics, Advertising               187\n",
       "Cleantech / Semiconductors                            161\n",
       "News, Search and Messaging                             88\n",
       "Entertainment                                          75\n",
       "Manufacturing                                          50\n",
       "Health                                                 31\n",
       "Automotive & Sports                                    23"
      ]
     },
     "execution_count": 179,
     "metadata": {},
     "output_type": "execute_result"
    }
   ],
   "source": [
    "# Preparing data from graph 2 of plot 3 - GBR (D2)\n",
    "plot3_D2 = D2.pivot_table(values = 'raised_amount_usd', index = 'main_sector', aggfunc = ['count']).sort_values(('count','raised_amount_usd'), ascending=False)\n",
    "plot3_D2"
   ]
  },
  {
   "cell_type": "code",
   "execution_count": 180,
   "metadata": {},
   "outputs": [
    {
     "data": {
      "text/html": [
       "<div>\n",
       "<style scoped>\n",
       "    .dataframe tbody tr th:only-of-type {\n",
       "        vertical-align: middle;\n",
       "    }\n",
       "\n",
       "    .dataframe tbody tr th {\n",
       "        vertical-align: top;\n",
       "    }\n",
       "\n",
       "    .dataframe thead th {\n",
       "        text-align: right;\n",
       "    }\n",
       "</style>\n",
       "<table border=\"1\" class=\"dataframe\">\n",
       "  <thead>\n",
       "    <tr style=\"text-align: right;\">\n",
       "      <th></th>\n",
       "      <th>count</th>\n",
       "    </tr>\n",
       "    <tr>\n",
       "      <th>main_sector</th>\n",
       "      <th></th>\n",
       "    </tr>\n",
       "  </thead>\n",
       "  <tbody>\n",
       "    <tr>\n",
       "      <th>Others</th>\n",
       "      <td>201</td>\n",
       "    </tr>\n",
       "    <tr>\n",
       "      <th>Social, Finance, Analytics, Advertising</th>\n",
       "      <td>187</td>\n",
       "    </tr>\n",
       "    <tr>\n",
       "      <th>Cleantech / Semiconductors</th>\n",
       "      <td>161</td>\n",
       "    </tr>\n",
       "  </tbody>\n",
       "</table>\n",
       "</div>"
      ],
      "text/plain": [
       "                                         count\n",
       "main_sector                                   \n",
       "Others                                     201\n",
       "Social, Finance, Analytics, Advertising    187\n",
       "Cleantech / Semiconductors                 161"
      ]
     },
     "execution_count": 180,
     "metadata": {},
     "output_type": "execute_result"
    }
   ],
   "source": [
    "# Selecting top 3 Sectors\n",
    "plot3_D2.columns = ['count']\n",
    "plot3_D2 = plot3_D2.loc[[True,True,True],:]\n",
    "plot3_D2"
   ]
  },
  {
   "cell_type": "code",
   "execution_count": 181,
   "metadata": {},
   "outputs": [
    {
     "data": {
      "text/html": [
       "<div>\n",
       "<style scoped>\n",
       "    .dataframe tbody tr th:only-of-type {\n",
       "        vertical-align: middle;\n",
       "    }\n",
       "\n",
       "    .dataframe tbody tr th {\n",
       "        vertical-align: top;\n",
       "    }\n",
       "\n",
       "    .dataframe thead th {\n",
       "        text-align: right;\n",
       "    }\n",
       "</style>\n",
       "<table border=\"1\" class=\"dataframe\">\n",
       "  <thead>\n",
       "    <tr style=\"text-align: right;\">\n",
       "      <th></th>\n",
       "      <th>main_sector</th>\n",
       "      <th>count</th>\n",
       "    </tr>\n",
       "  </thead>\n",
       "  <tbody>\n",
       "    <tr>\n",
       "      <th>0</th>\n",
       "      <td>Others</td>\n",
       "      <td>201</td>\n",
       "    </tr>\n",
       "    <tr>\n",
       "      <th>1</th>\n",
       "      <td>Social, Finance, Analytics, Advertising</td>\n",
       "      <td>187</td>\n",
       "    </tr>\n",
       "    <tr>\n",
       "      <th>2</th>\n",
       "      <td>Cleantech / Semiconductors</td>\n",
       "      <td>161</td>\n",
       "    </tr>\n",
       "  </tbody>\n",
       "</table>\n",
       "</div>"
      ],
      "text/plain": [
       "                               main_sector  count\n",
       "0                                   Others    201\n",
       "1  Social, Finance, Analytics, Advertising    187\n",
       "2               Cleantech / Semiconductors    161"
      ]
     },
     "execution_count": 181,
     "metadata": {},
     "output_type": "execute_result"
    }
   ],
   "source": [
    "# Extracting the index for plotting\n",
    "plot3_D2 = plot3_D2.reset_index()\n",
    "plot3_D2"
   ]
  },
  {
   "cell_type": "code",
   "execution_count": 182,
   "metadata": {
    "scrolled": true
   },
   "outputs": [
    {
     "data": {
      "image/png": "[encoded data removed]",
      "text/plain": [
       "<Figure size 432x288 with 1 Axes>"
      ]
     },
     "metadata": {},
     "output_type": "display_data"
    }
   ],
   "source": [
    "fig = plt.figure()\n",
    "ax = fig.add_axes([0,0,1,1])\n",
    "ax.axis('equal')\n",
    "explode = (0.1, 0, 0)  \n",
    "ax.pie(list(plot3_D2[\"count\"]), labels = list(plot3_D2[\"main_sector\"]),autopct='%1.2f%%', explode = explode)\n",
    "plt.title(\"Sector wise Investment distribution for GBR (D2) \", bbox={'facecolor':'0.8', 'pad':5})\n",
    "plt.show()"
   ]
  },
  {
   "cell_type": "code",
   "execution_count": 183,
   "metadata": {},
   "outputs": [
    {
     "data": {
      "text/html": [
       "<div>\n",
       "<style scoped>\n",
       "    .dataframe tbody tr th:only-of-type {\n",
       "        vertical-align: middle;\n",
       "    }\n",
       "\n",
       "    .dataframe tbody tr th {\n",
       "        vertical-align: top;\n",
       "    }\n",
       "\n",
       "    .dataframe thead tr th {\n",
       "        text-align: left;\n",
       "    }\n",
       "\n",
       "    .dataframe thead tr:last-of-type th {\n",
       "        text-align: right;\n",
       "    }\n",
       "</style>\n",
       "<table border=\"1\" class=\"dataframe\">\n",
       "  <thead>\n",
       "    <tr>\n",
       "      <th></th>\n",
       "      <th>count</th>\n",
       "    </tr>\n",
       "    <tr>\n",
       "      <th></th>\n",
       "      <th>raised_amount_usd</th>\n",
       "    </tr>\n",
       "    <tr>\n",
       "      <th>main_sector</th>\n",
       "      <th></th>\n",
       "    </tr>\n",
       "  </thead>\n",
       "  <tbody>\n",
       "    <tr>\n",
       "      <th>Cleantech / Semiconductors</th>\n",
       "      <td>123</td>\n",
       "    </tr>\n",
       "    <tr>\n",
       "      <th>Others</th>\n",
       "      <td>109</td>\n",
       "    </tr>\n",
       "    <tr>\n",
       "      <th>Social, Finance, Analytics, Advertising</th>\n",
       "      <td>88</td>\n",
       "    </tr>\n",
       "    <tr>\n",
       "      <th>News, Search and Messaging</th>\n",
       "      <td>57</td>\n",
       "    </tr>\n",
       "    <tr>\n",
       "      <th>Manufacturing</th>\n",
       "      <td>43</td>\n",
       "    </tr>\n",
       "    <tr>\n",
       "      <th>Entertainment</th>\n",
       "      <td>30</td>\n",
       "    </tr>\n",
       "    <tr>\n",
       "      <th>Health</th>\n",
       "      <td>22</td>\n",
       "    </tr>\n",
       "    <tr>\n",
       "      <th>Automotive &amp; Sports</th>\n",
       "      <td>5</td>\n",
       "    </tr>\n",
       "  </tbody>\n",
       "</table>\n",
       "</div>"
      ],
      "text/plain": [
       "                                                    count\n",
       "                                        raised_amount_usd\n",
       "main_sector                                              \n",
       "Cleantech / Semiconductors                            123\n",
       "Others                                                109\n",
       "Social, Finance, Analytics, Advertising                88\n",
       "News, Search and Messaging                             57\n",
       "Manufacturing                                          43\n",
       "Entertainment                                          30\n",
       "Health                                                 22\n",
       "Automotive & Sports                                     5"
      ]
     },
     "execution_count": 183,
     "metadata": {},
     "output_type": "execute_result"
    }
   ],
   "source": [
    "# Preparing data from graph 3 of plot 3 - IND (D3)\n",
    "plot3_D3 = D3.pivot_table(values = 'raised_amount_usd', index = 'main_sector', aggfunc = ['count']).sort_values(('count','raised_amount_usd'), ascending=False)\n",
    "plot3_D3"
   ]
  },
  {
   "cell_type": "code",
   "execution_count": 184,
   "metadata": {},
   "outputs": [
    {
     "data": {
      "text/html": [
       "<div>\n",
       "<style scoped>\n",
       "    .dataframe tbody tr th:only-of-type {\n",
       "        vertical-align: middle;\n",
       "    }\n",
       "\n",
       "    .dataframe tbody tr th {\n",
       "        vertical-align: top;\n",
       "    }\n",
       "\n",
       "    .dataframe thead th {\n",
       "        text-align: right;\n",
       "    }\n",
       "</style>\n",
       "<table border=\"1\" class=\"dataframe\">\n",
       "  <thead>\n",
       "    <tr style=\"text-align: right;\">\n",
       "      <th></th>\n",
       "      <th>count</th>\n",
       "    </tr>\n",
       "    <tr>\n",
       "      <th>main_sector</th>\n",
       "      <th></th>\n",
       "    </tr>\n",
       "  </thead>\n",
       "  <tbody>\n",
       "    <tr>\n",
       "      <th>Cleantech / Semiconductors</th>\n",
       "      <td>123</td>\n",
       "    </tr>\n",
       "    <tr>\n",
       "      <th>Others</th>\n",
       "      <td>109</td>\n",
       "    </tr>\n",
       "    <tr>\n",
       "      <th>Social, Finance, Analytics, Advertising</th>\n",
       "      <td>88</td>\n",
       "    </tr>\n",
       "  </tbody>\n",
       "</table>\n",
       "</div>"
      ],
      "text/plain": [
       "                                         count\n",
       "main_sector                                   \n",
       "Cleantech / Semiconductors                 123\n",
       "Others                                     109\n",
       "Social, Finance, Analytics, Advertising     88"
      ]
     },
     "execution_count": 184,
     "metadata": {},
     "output_type": "execute_result"
    }
   ],
   "source": [
    "# Selecting top 3 Sectors\n",
    "plot3_D3.columns = ['count']\n",
    "plot3_D3 = plot3_D3.loc[[True,True,True],:]\n",
    "plot3_D3"
   ]
  },
  {
   "cell_type": "code",
   "execution_count": 185,
   "metadata": {},
   "outputs": [
    {
     "data": {
      "text/html": [
       "<div>\n",
       "<style scoped>\n",
       "    .dataframe tbody tr th:only-of-type {\n",
       "        vertical-align: middle;\n",
       "    }\n",
       "\n",
       "    .dataframe tbody tr th {\n",
       "        vertical-align: top;\n",
       "    }\n",
       "\n",
       "    .dataframe thead th {\n",
       "        text-align: right;\n",
       "    }\n",
       "</style>\n",
       "<table border=\"1\" class=\"dataframe\">\n",
       "  <thead>\n",
       "    <tr style=\"text-align: right;\">\n",
       "      <th></th>\n",
       "      <th>main_sector</th>\n",
       "      <th>count</th>\n",
       "    </tr>\n",
       "  </thead>\n",
       "  <tbody>\n",
       "    <tr>\n",
       "      <th>0</th>\n",
       "      <td>Cleantech / Semiconductors</td>\n",
       "      <td>123</td>\n",
       "    </tr>\n",
       "    <tr>\n",
       "      <th>1</th>\n",
       "      <td>Others</td>\n",
       "      <td>109</td>\n",
       "    </tr>\n",
       "    <tr>\n",
       "      <th>2</th>\n",
       "      <td>Social, Finance, Analytics, Advertising</td>\n",
       "      <td>88</td>\n",
       "    </tr>\n",
       "  </tbody>\n",
       "</table>\n",
       "</div>"
      ],
      "text/plain": [
       "                               main_sector  count\n",
       "0               Cleantech / Semiconductors    123\n",
       "1                                   Others    109\n",
       "2  Social, Finance, Analytics, Advertising     88"
      ]
     },
     "execution_count": 185,
     "metadata": {},
     "output_type": "execute_result"
    }
   ],
   "source": [
    "# Extracting the index for plotting\n",
    "plot3_D3 = plot3_D3.reset_index()\n",
    "plot3_D3"
   ]
  },
  {
   "cell_type": "code",
   "execution_count": 186,
   "metadata": {},
   "outputs": [
    {
     "data": {
      "image/png": "[encoded data removed]",
      "text/plain": [
       "<Figure size 432x288 with 1 Axes>"
      ]
     },
     "metadata": {},
     "output_type": "display_data"
    }
   ],
   "source": [
    "fig = plt.figure()\n",
    "ax = fig.add_axes([0,0,1,1])\n",
    "ax.axis('equal')\n",
    "explode = (0.1, 0, 0)  \n",
    "ax.pie(list(plot3_D3[\"count\"]), labels = list(plot3_D3[\"main_sector\"]),autopct='%1.2f%%', explode = explode)\n",
    "plt.title(\"Sector wise Investment distribution for IND (D3) \", bbox={'facecolor':'0.8', 'pad':5})\n",
    "plt.show()"
   ]
  },
  {
   "cell_type": "code",
   "execution_count": 187,
   "metadata": {
    "scrolled": true
   },
   "outputs": [
    {
     "data": {
      "image/png": "[encoded data removed]",
      "text/plain": [
       "<Figure size 1440x1080 with 3 Axes>"
      ]
     },
     "metadata": {},
     "output_type": "display_data"
    }
   ],
   "source": [
    "# Create a figure having 3 subplots\n",
    "\n",
    "fig, axs = plt.subplots(2, 2, figsize=(20,15))\n",
    "\n",
    "# subplot 1\n",
    "explode = (0.1, 0, 0)  \n",
    "axs[0, 0].pie(list(plot3_D1[\"count\"]), labels = list(plot3_D1[\"main_sector\"]),autopct='%1.2f%%', explode = explode)\n",
    "axs[0, 0].set_title(\"Sector wise Investment distribution for USA (D1) \", bbox={'facecolor':'0.8', 'pad':5})\n",
    "\n",
    "# subplot 2 \n",
    "explode = (0.1, 0, 0)  \n",
    "axs[0, 1].pie(list(plot3_D2[\"count\"]), labels = list(plot3_D2[\"main_sector\"]),autopct='%1.2f%%', explode = explode)\n",
    "axs[0, 1].set_title(\"Sector wise Investment distribution for GBR (D2) \", bbox={'facecolor':'0.8', 'pad':5})\n",
    "\n",
    "# subplot 3\n",
    "explode = (0.1, 0, 0)  \n",
    "axs[1, 0].pie(list(plot3_D3[\"count\"]), labels = list(plot3_D3[\"main_sector\"]),autopct='%1.2f%%', explode = explode)\n",
    "axs[1, 0].set_title(\"Sector wise Investment distribution for IND (D3) \", bbox={'facecolor':'0.8', 'pad':5})\n",
    "\n",
    "fig.delaxes(axs[1,1])\n",
    "fig.savefig(\"Investment_Analysis_Plot3_Harshit_Mehta.png\")"
   ]
  }
 ],
 "metadata": {
  "kernelspec": {
   "display_name": "Python 3",
   "language": "python",
   "name": "python3"
  },
  "language_info": {
   "codemirror_mode": {
    "name": "ipython",
    "version": 3
   },
   "file_extension": ".py",
   "mimetype": "text/x-python",
   "name": "python",
   "nbconvert_exporter": "python",
   "pygments_lexer": "ipython3",
   "version": "3.7.3"
  }
 },
 "nbformat": 4,
 "nbformat_minor": 2
}
